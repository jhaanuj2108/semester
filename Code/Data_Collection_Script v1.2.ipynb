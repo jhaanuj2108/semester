{
 "cells": [
  {
   "cell_type": "markdown",
   "metadata": {},
   "source": [
    "# Times of India (India Times)"
   ]
  },
  {
   "cell_type": "markdown",
   "metadata": {},
   "source": [
    "Initial stage is collecting links from a particular URL, here I have taken Business, Sports, World, Entertainment, and politics news in particular from Times of India. the reason for doing this manual labour for each category is to save the categorization(classifcation) training process for our model. The equivalent of this would have been a huge task itself because we would have to label the news on our own and then classify it, which still might not have give us as accurate as this manual method.\n",
    "\n",
    "The URL format for articles in Times of India is : https://timesofindia.indiatimes.com/business/international-business/french-court-adds-pressure-on-google-to-pay-for-news/articleshow/78552309.cms\n",
    "\n",
    "The format for reaching a category is: https://timesofindia.indiatimes.com/business"
   ]
  },
  {
   "cell_type": "markdown",
   "metadata": {},
   "source": [
    "### Business "
   ]
  },
  {
   "cell_type": "markdown",
   "metadata": {},
   "source": [
    "Here we have collected all the links using Beautifulsoup library for url : https://timesofindia.indiatimes.com/business. The links are annotated by href in html."
   ]
  },
  {
   "cell_type": "code",
   "execution_count": 1,
   "metadata": {},
   "outputs": [],
   "source": [
    "import re\n",
    "import requests\n",
    "from bs4 import BeautifulSoup\n",
    "\n",
    "response_toi_business = requests.get(url='https://timesofindia.indiatimes.com/business', headers={'User-Agent':''})\n",
    "soup_toi_business = BeautifulSoup(response_toi_business.content, 'html.parser')\n",
    "\n",
    "links_toi_business = []\n",
    "for link in soup_toi_business.findAll('a', href=True):\n",
    "    links_toi_business.append(link.get('href'))\n",
    "#print(len(links_toi_business))\n",
    "#print(links_toi_business)"
   ]
  },
  {
   "cell_type": "markdown",
   "metadata": {},
   "source": [
    "#### Finding only the relevant URLs from the list of all links.\n",
    "Now we have to filter only the links that are related to articles and that too only Business realted articles. I have used RegEx for this task. All the news articles have '.cms' type in the end and they contain '/business/' so I made use of those two major things to find all the valid URLs.  "
   ]
  },
  {
   "cell_type": "code",
   "execution_count": 2,
   "metadata": {},
   "outputs": [],
   "source": [
    "import re\n",
    "txt_toi_business = ' '.join(links_toi_business)\n",
    "url_toi_business_raw = re.findall(r'https://timesofindia.indiatimes.com/business/[a-z0-9\\/\\.\\-\\:]*[0-9\\.]+cms|/business/[a-z0-9\\/\\.\\-\\:]*[0-9\\.]+cms', txt_toi_business)\n",
    "#print(len(url_toi_business_raw))\n",
    "#print(url_toi_business_raw)"
   ]
  },
  {
   "cell_type": "markdown",
   "metadata": {},
   "source": [
    "#### Removing duplicates\n",
    "There can be duplicates present so a simple task to remove duplicates is to convert the list to set, as we know set can't contain duplicates. And then change the set back to list."
   ]
  },
  {
   "cell_type": "code",
   "execution_count": 3,
   "metadata": {},
   "outputs": [
    {
     "data": {
      "text/plain": [
       "['https://timesofindia.indiatimes.com/business/faqs/income-tax-faqs/income-tax-filing-all-you-need-to-know-about-form-26as/articleshow/59677791.cms',\n",
       " '/business/india-at-doorstep-of-revival-process-says-rbi-governor-shaktikanta-das/videoshow/78793420.cms',\n",
       " 'https://timesofindia.indiatimes.com/business/faqs/mutual-fund-faqs/which-is-the-best-mutual-fund-to-invest/articleshow/59965814.cms',\n",
       " 'https://timesofindia.indiatimes.com/business/faqs/home-loan-faqs/how-to-check-home-loan-eligibility/articleshow/60479843.cms',\n",
       " '/business/key-things-equitas-small-finance-bank-ipo-opens-for-subscription/videoshow/78766324.cms',\n",
       " '/business/india-business/e-tailing-to-become-200-billion-opportunity-by-2025-report/articleshow/78795666.cms',\n",
       " '/business/international-business/amazon-extends-work-from-home-option-till-june-2021/articleshow/78782751.cms',\n",
       " '/business/india-business/mkt-recovery-from-march-is-broad-based-sebi-chief/articleshow/78797136.cms',\n",
       " 'https://timesofindia.indiatimes.com/business/faqs/aadhar-faqs/how-to-apply-for-aadhar-card/articleshow/61674389.cms',\n",
       " 'https://timesofindia.indiatimes.com/business/faqs/aadhar-faqs/otp-based-aadhaar-verification-for-existing-sim-cards/articleshow/62350208.cms',\n",
       " 'https://timesofindia.indiatimes.com/business/faqs/gst-faqs/what-are-benefits-of-gst/articleshow/63377897.cms',\n",
       " '/business/india-business/june-september-sees-90-of-entire-years-realty-spends-by-pe/articleshow/78715592.cms',\n",
       " '/business/international-business/walmart-cranks-up-advertising-drive-with-or-without-tiktok/articleshow/78771172.cms',\n",
       " '/business/india-business/government-relaxes-import-norms-for-onion-to-boost-domestic-supply-check-prices/articleshow/78790637.cms',\n",
       " 'https://timesofindia.indiatimes.com/business/faqs/pension-fund-faqs/know-all-about-atal-pension-yojana-apy/articleshow/63726752.cms',\n",
       " 'https://timesofindia.indiatimes.com/business/faqs/gst-faqs/what-is-gstr-1-how-to-file-it/articleshow/63377772.cms',\n",
       " 'https://timesofindia.indiatimes.com/business/faqs/aadhar-faqs/how-to-link-aadhar-to-driving-licence/articleshow/61818444.cms',\n",
       " '/business/international-business/meet-amit-mehta-the-judge-for-googles-antitrust-case/articleshow/78800195.cms',\n",
       " '/business/india-business/i-t-refunds-worth-over-rs-1-25-lakh-crore-issued-in-fy21-to-38-23-lakh-taxpayers-till-october-20/articleshow/78796126.cms',\n",
       " '/business/india-business/sensex-declines-over-250-points-nifty-tests-11850/articleshow/78802049.cms',\n",
       " '/business/india-business/pm-modi-to-soon-meet-top-global-fund-houses-on-infra-financing-dea-secy/articleshow/78795480.cms',\n",
       " '/business/india-business/india-second-largest-source-of-new-migrants-to-oecd-countries/articleshow/78750235.cms',\n",
       " '/business/covid-19-pandemic-amazon-extends-work-from-home-option-till-june-2021/videoshow/78786485.cms',\n",
       " '/business/india-business/car-exports-hit-skid-row-down-58-in-april-sept/articleshow/78796375.cms',\n",
       " '/business/india-business/bajaj-finserv-q2-net-down-by-20-bajaj-finances-36/articleshow/78797767.cms',\n",
       " '/business/international-business/united-states-vs-google-vindicates-old-antitrust-gripes-from-microsoft/articleshow/78794881.cms',\n",
       " '/business/countrys-largest-lender-sbi-announces-up-to-25-basis-points-concession-on-home-loan-rates/videoshow/78786298.cms',\n",
       " '/business/india-business/pm-will-meet-15-leading-global-fund-houses/articleshow/78799602.cms',\n",
       " 'https://timesofindia.indiatimes.com/business/faqs/gst-faqs/gst-rates-for-various-goods-and-services-in-india/articleshow/60871754.cms',\n",
       " 'https://timesofindia.indiatimes.com/business/faqs/income-tax-faqs/how-to-check-income-tax-refund-status/articleshow/62023049.cms',\n",
       " '/business/india-business/aditya-birla-fashion-in-tie-up-talks-with-flipkart/articleshow/78797110.cms',\n",
       " 'https://timesofindia.indiatimes.com/business/faqs/income-tax-faqs/how-to-link-aadhaar-with-income-tax-returns/articleshow/72949387.cms',\n",
       " '/business/india-business/flying-out-of-mumbai-airport-set-to-get-costlier/articleshow/78779153.cms',\n",
       " 'https://timesofindia.indiatimes.com/business/faqs/gst-faqs/how-to-calculate-gst-returns/articleshow/60871671.cms',\n",
       " '/business/india-business/air-bubble-flights-resume-between-india-germany-equitable-number-by-both-ai-lufthansa/articleshow/78792007.cms',\n",
       " '/business/international-business/microsoft-elon-musks-spacex-tie-up-to-woo-space-customers/articleshow/78775718.cms',\n",
       " 'https://timesofindia.indiatimes.com/business/india-business/bank-holidays-in-october-2020-banks-in-india-will-be-closed-on-these-dates/articleshow/78419542.cms',\n",
       " 'https://timesofindia.indiatimes.com/business/faqs/home-loan-faqs/how-and-when-to-revoke-home-loan-tax-deductions/articleshow/62522177.cms',\n",
       " '/business/india-business/trade-hit-by-record-60-surge-in-freight/articleshow/78797206.cms',\n",
       " '/business/india-business/india-may-see-10-startup-ipos-in-3-yrs/articleshow/78757141.cms',\n",
       " 'https://timesofindia.indiatimes.com/business/india-business/union-cabinet-approves-bonus-for-central-government-employees-30-lakh-to-benefit/articleshow/78785764.cms',\n",
       " 'https://timesofindia.indiatimes.com/business/india-business/how-to-link-aadhar-with-pan-in-3-simple-steps/articleshow/59281725.cms',\n",
       " 'https://timesofindia.indiatimes.com/business/faqs/gst-faqs/gst-registration-a-10-step-guide/articleshow/60871810.cms',\n",
       " '/business/india-business/startup-funding-jobs-to-touch-pre-covid-level-by-dec-study/articleshow/78669613.cms',\n",
       " '/business/india-business/colgate-q2-net-up-12-to-rs-274-crore/articleshow/78793750.cms',\n",
       " 'https://timesofindia.indiatimes.com/business/faqs/mutual-fund-faqs/elss-mutual-funds-that-offer-tax-benefit/articleshow/72473931.cms',\n",
       " '/business/india-business/desi-tyre-exports-benefit-from-anti-dumping-duties-on-china/articleshow/78796409.cms',\n",
       " '/business/international-business/us-government-to-file-antitrust-lawsuit-against-google-report/articleshow/78770726.cms',\n",
       " '/business/international-business/googles-war-on-all-fronts-over-media-competition-and-tax/articleshow/78780505.cms',\n",
       " '/business/india-business/covid-19-accelerating-innovation-in-mobility-says-olas-bhavish-aggarwal/articleshow/78746524.cms',\n",
       " 'https://timesofindia.indiatimes.com/business/faqs/income-tax-faqs/income-tax-saving-tips-for-salaried-employees/articleshow/61656934.cms',\n",
       " 'https://timesofindia.indiatimes.com/business/faqs/home-loan-faqs/what-are-the-types-of-home-loans-available/articleshow/60479888.cms',\n",
       " 'https://timesofindia.indiatimes.com/business/india-business/sensex-rallies-over-400-points-nifty-tops-12000-mark/articleshow/78781382.cms',\n",
       " 'https://timesofindia.indiatimes.com/business/faqs/documents/rent-agreement-format-here-is-a-sample-for-reference/articleshow/72348042.cms',\n",
       " '/business/india-business/pm-modi-to-launch-physical-distribution-of-property-cards/articleshow/78570809.cms',\n",
       " '/business/india-business/union-cabinet-approves-bonus-for-central-government-employees-30-lakh-to-benefit/articleshow/78785764.cms',\n",
       " '/business/india-business/raghuram-rajan-cautions-against-import-substitution/articleshow/78795152.cms',\n",
       " '/business/india-business/flipkart-amazon-likely-to-sell-1-5-crore-smartphones-in-festive-sales-this-year-report/articleshow/78796263.cms',\n",
       " '/business/india-business/government-considers-trade-talks-with-taiwan-as-both-spar-with-china/articleshow/78762162.cms',\n",
       " 'https://timesofindia.indiatimes.com/business/faqs/market-faqs/how-to-trade-on-the-stock-market/articleshow/59750368.cms',\n",
       " '/business/india-business/mf-distributors-cant-be-named-advisers-amfi/articleshow/78796984.cms',\n",
       " '/business/india-business/ultratech-sees-8-volume-growth-in-sept-quarter/articleshow/78796429.cms',\n",
       " 'https://timesofindia.indiatimes.com/business/faqs/gst-faqs/gst-exemption-limit-in-india/articleshow/67671414.cms',\n",
       " 'https://timesofindia.indiatimes.com/business/faqs/gst-faqs/know-all-about-gst-composition-scheme/articleshow/60871630.cms',\n",
       " '/business/sweden-bans-chinese-firms-huawei-zte-from-5g-network/videoshow/78766790.cms',\n",
       " 'https://timesofindia.indiatimes.com/business/india-business/silver-price/articleshow/59034514.cms',\n",
       " 'https://timesofindia.indiatimes.com/business/india-business/gold-faqs/gold-rates/articleshow/58628130.cms',\n",
       " '/business/international-business/google-antitrust-fight-thrusts-low-key-ceo-sundar-pichai-into-the-line-of-fire/articleshow/78801632.cms',\n",
       " '/business/india-business/after-the-fall-real-estate-in-the-aftermath-of-the-covid-19-crisis/articleshow/78585676.cms',\n",
       " '/business/india-business/india-at-the-doorstep-of-revival-process-rbi-governor-shaktikanta-das/articleshow/78791588.cms',\n",
       " 'https://timesofindia.indiatimes.com/business/faqs/pension-fund-faqs/what-is-gratuity/articleshow/63312600.cms',\n",
       " '/business/india-business/magicbricks-ties-up-with-13-home-loan-providers/articleshow/78656933.cms',\n",
       " 'https://timesofindia.indiatimes.com/business/faqs/pension-fund-faqs/how-to-check-gratuity-balance/articleshow/63315092.cms',\n",
       " '/business/india-business/i-t-survey-to-be-conducted-only-after-nod-from-high-ranked-officers-cbdt/articleshow/78775592.cms',\n",
       " '/business/india-business/vodafone-arbitration-award-under-examination-finance-ministry-clarifies/articleshow/78679736.cms',\n",
       " '/business/india-business/fintechs-expect-recovery-in-3-6-months-report/articleshow/78458715.cms',\n",
       " 'https://timesofindia.indiatimes.com/business/faqs/home-loan-faqs/home-loan-know-how-to-increase-your-eligibility/articleshow/72456043.cms',\n",
       " 'https://timesofindia.indiatimes.com/business/faqs/pension-fund-faqs/pick-the-best-nps-funds/articleshow/58567386.cms',\n",
       " '/business/india-business/jio-platforms-qualcomm-successfully-test-5g-solutions-clock-over-1-gbps-speed-in-trials/articleshow/78774566.cms',\n",
       " 'https://timesofindia.indiatimes.com/business/faqs/mutual-fund-faqs/how-to-invest-in-a-mutual-fund/articleshow/59965785.cms',\n",
       " 'https://timesofindia.indiatimes.com/business/india-business/stock-market-holidays-in-2020/articleshow/73042751.cms',\n",
       " 'https://timesofindia.indiatimes.com/business/faqs/aadhar-faqs/how-to-link-aadhaar-card-with-uan/articleshow/60099438.cms',\n",
       " '/business/india-business/150mn-round-values-cloud-co-tekion-at-1bn/articleshow/78799591.cms',\n",
       " '/business/india-business/cils-positive-growth/articleshow/78798232.cms',\n",
       " '/business/india-business/rbis-rs-1l-cr-refinance-ops-for-5-sectors/articleshow/78796852.cms',\n",
       " 'https://timesofindia.indiatimes.com/business/faqs/home-loan-faqs/pradhan-mantri-awas-yojana-features-eligibility-criteria-documents-required-and-how-to-apply/articleshow/72755535.cms',\n",
       " 'https://timesofindia.indiatimes.com/business/faqs/pension-fund-faqs/nps-tax-benefit-and-how-to-withdraw-it/articleshow/68216741.cms',\n",
       " '/business/india-business/india-japan-form-air-bubble-ai-announces-tokyo-flights/articleshow/78776057.cms',\n",
       " '/business/india-business/indian-cos-plan-alliance-against-us-tech-giants/articleshow/78482719.cms',\n",
       " '/business/epfo-enrolment-picks-up-20-lakh-enrol-in-first-5-months-of-fy21/videoshow/78783339.cms',\n",
       " '/business/hul-q2-profit-up-8-6-at-rs-1974-crore/videoshow/78768322.cms',\n",
       " 'https://timesofindia.indiatimes.com/business/faqs/aadhar-faqs/how-to-link-aadhar-to-voter-id-card/articleshow/61783596.cms',\n",
       " '/business/international-business/cathay-pacific-to-cut-6000-jobs-axe-cathay-dragon-brand-report/articleshow/78769639.cms',\n",
       " '/business/india-business/videocon-insolvency-case-dhoot-family-offers-to-pay-rs-30000-crore-to-lenders/articleshow/78788748.cms',\n",
       " 'https://timesofindia.indiatimes.com/business/faqs/income-tax-faqs/tax-saving-fixed-deposits-know-their-benefits/articleshow/73135876.cms',\n",
       " 'https://timesofindia.indiatimes.com/business/faqs/mutual-fund-faqs/what-is-mutual-fund-investment/articleshow/60003707.cms',\n",
       " 'https://timesofindia.indiatimes.com/business/faqs/aadhar-faqs/how-to-link-aadhar-to-lpg-connection/articleshow/61818735.cms',\n",
       " '/business/india-business/epfo-records-10-05-lakh-new-enrolments-in-august/articleshow/78771790.cms',\n",
       " 'https://timesofindia.indiatimes.com/business/faqs/aadhar-faqs/how-to-get-duplicate-aadhar-copy/articleshow/61818359.cms',\n",
       " '/business/international-business/cathay-pacific-cuts-8500-jobs-shutters-regional-airline/articleshow/78785598.cms',\n",
       " 'https://timesofindia.indiatimes.com/business/india-business/government-working-on-next-stimulus-package-finance-ministry-official/articleshow/78786677.cms',\n",
       " 'https://timesofindia.indiatimes.com/business/faqs/mutual-fund-faqs/what-are-the-benefits-of-sip/articleshow/62983266.cms',\n",
       " '/business/international-business/how-google-evolved-from-cuddly-startup-to-antitrust-target/articleshow/78780302.cms',\n",
       " 'https://timesofindia.indiatimes.com/business/faqs/home-loan-faqs/how-to-free-yourself-from-home-loan-emis-here-are-some-tips/articleshow/73250016.cms',\n",
       " 'https://timesofindia.indiatimes.com/business/india-business/what-is-assocham-key-things-to-know/articleshow/72896910.cms',\n",
       " 'https://timesofindia.indiatimes.com/business/faqs/pension-fund-faqs/what-is-new-pension-scheme-interest-rate/articleshow/63985853.cms',\n",
       " 'https://timesofindia.indiatimes.com/business/faqs/gst-faqs/what-is-gstr-3b-who-should-file-it/articleshow/60871786.cms',\n",
       " '/business/international-business/us-proposes-not-to-issue-business-visas-for-h-1b-speciality-occupations/articleshow/78799879.cms',\n",
       " '/business/international-business/5-takeaways-from-us-governments-lawsuit-against-google/articleshow/78780588.cms',\n",
       " '/business/india-business/airasia-india-gets-its-first-airbus-a320neo-aircraft/articleshow/78794642.cms',\n",
       " '/business/india-business/20-lakh-enrol-in-epfo-in-1st-5-months-of-fy21/articleshow/78779722.cms',\n",
       " '/business/international-business/etihad-airways-plans-transition-islamic-bonds-report/articleshow/78765499.cms',\n",
       " 'https://timesofindia.indiatimes.com/business/faqs/miscellaneous/what-is-sukanya-samriddhi-yojana-here-is-all-you-need-to-know/articleshow/63693250.cms',\n",
       " 'https://timesofindia.indiatimes.com/business/faqs/home-loan-faqs/home-loan-against-epf-withdrawal-rules-eligibility-application/articleshow/72433908.cms',\n",
       " 'https://timesofindia.indiatimes.com/business/faqs/income-tax-faqs/elss-is-great-for-tax-saving-but-keep-these-5-points-in-mind/articleshow/62335579.cms',\n",
       " 'https://timesofindia.indiatimes.com/business/faqs/gst-faqs/know-all-about-gst-returns/articleshow/63377690.cms',\n",
       " '/business/india-business/indian-economy-at-doorstep-of-recovery-says-rbi-governor/articleshow/78799452.cms',\n",
       " '/business/india-business/deprived-of-tourism-revenue-leh-economy-gets-a-poll-boost/articleshow/78797067.cms',\n",
       " 'https://timesofindia.indiatimes.com/business/india-business/last-day-to-file-income-tax-returns-things-to-know/articleshow/64888199.cms',\n",
       " '/business/international-business/imf-cuts-asias-growth-forecast-warns-of-pandemic-driven-risks/articleshow/78796040.cms',\n",
       " 'https://timesofindia.indiatimes.com/business/faqs/pension-fund-faqs/how-to-calculate-nps/articleshow/60115600.cms',\n",
       " '/business/government-working-on-next-stimulus-package-says-finance-ministry-official/videoshow/78791920.cms',\n",
       " '/business/india-business/jio-unveils-new-upgraded-jiopages-made-in-india-mobile-browser-supports-8-indian-languages/articleshow/78793434.cms',\n",
       " '/business/india-business/post-covid-bangalore-airport-records-growth-in-cargo-volumes-perishable-cargo-driving-exports/articleshow/78787874.cms',\n",
       " 'https://timesofindia.indiatimes.com/business/india-business/check-income-tax-i-t-refund-status-online-all-you-need-to-know/articleshow/65052198.cms',\n",
       " 'https://timesofindia.indiatimes.com/business/faqs/aadhar-faqs/how-to-download-aadhar-card-online/articleshow/61763653.cms',\n",
       " '/business/international-business/trumps-trade-war-does-little-good-for-us-industry/articleshow/78800964.cms',\n",
       " '/business/india-business/h-1b-wages-will-rise-by-over-30-cato/articleshow/78760683.cms',\n",
       " '/business/india-business/sbi-announces-up-to-25-basis-points-concession-on-home-loan-rates/articleshow/78784112.cms',\n",
       " '/business/india-business/sebi-bars-3-kirloskars-from-mkts-for-up-to-6-mths/articleshow/78797060.cms',\n",
       " '/business/international-business/sweden-bans-chinas-huawei-zte-from-5g-network/articleshow/78765860.cms',\n",
       " '/business/india-business/investment-for-all-india-5g-rollout-seen-at-rs-1-3-2-3-lakh-crore-report/articleshow/78752629.cms',\n",
       " 'https://timesofindia.indiatimes.com/business/faqs/income-tax-faqs/how-to-save-tax/articleshow/61656838.cms',\n",
       " 'https://timesofindia.indiatimes.com/business/faqs/home-loan-faqs/top-up-loan-features-benefits-and-eligibility-criteria/articleshow/72486597.cms',\n",
       " '/business/international-business/arrest-warrants-issued-for-founders-of-panama-papers-firm-report/articleshow/78765069.cms',\n",
       " 'https://timesofindia.indiatimes.com/business/faqs/income-tax-faqs/itr-rectification-request-how-to-e-file-revised-it-return/articleshow/59862062.cms',\n",
       " '/business/india-business/centre-mandates-all-ministries-public-depts-cpsus-to-use-bsnl-mtnl-services/articleshow/78653089.cms',\n",
       " '/business/how-google-evolved-from-cuddly-startup-to-antitrust-target/videoshow/78786608.cms',\n",
       " '/business/india-business/banks-step-up-festive-deals-in-car-home-loans/articleshow/78796924.cms',\n",
       " '/business/chinese-pakistan-companies-must-show-ownership-plan-to-be-eligible-for-govt-deals/videoshow/78762636.cms',\n",
       " '/business/india-business/demand-for-residential-real-estate-surpasses-pre-covid-levels-magicbricks-propindex/articleshow/78577068.cms',\n",
       " 'https://timesofindia.indiatimes.com/business/faqs/aadhar-faqs/linking-aadhar-with-property/articleshow/61768947.cms',\n",
       " 'https://timesofindia.indiatimes.com/business/faqs/home-loan-faqs/tips-to-save-money-on-home-loan-repayment/articleshow/72950387.cms',\n",
       " 'https://timesofindia.indiatimes.com/business/india-business/sbi-announces-up-to-25-basis-points-concession-on-home-loan-rates/articleshow/78784112.cms',\n",
       " '/business/india-business/e-commerce-companies-sell-goods-worth-3-1-billion-during-festive-sale-redseer/articleshow/78789980.cms',\n",
       " 'https://timesofindia.indiatimes.com/business/faqs/income-tax-faqs/what-is-itr4-form-how-to-fill-it/articleshow/62038875.cms']"
      ]
     },
     "execution_count": 3,
     "metadata": {},
     "output_type": "execute_result"
    }
   ],
   "source": [
    "url_toi_business_raw = set(url_toi_business_raw)\n",
    "url_toi_business_raw = list(url_toi_business_raw)\n",
    "#print(len(url_toi_business_raw))\n",
    "url_toi_business_raw"
   ]
  },
  {
   "cell_type": "markdown",
   "metadata": {},
   "source": [
    "#### Filtering without header URLs and adding header\n",
    "As you can notice above that there are many URLs which doesn't start with https or even www, rather they start from the category like **'/business/india-business/sensex-drops-over-100-points-in-opening-trade-nifty-below-11650/articleshow/78527429.cms'**. Now for such links we will have to use RegEx to substitute https://timesofindia.indiatimes.com in the beginning. That is what is done in next code snippet."
   ]
  },
  {
   "cell_type": "code",
   "execution_count": 4,
   "metadata": {},
   "outputs": [],
   "source": [
    "url_toi_business = []\n",
    "url_toi_business = [re.sub(r'(?<![a-z/:])(/business/[a-z0-9/.:-]*[0-9.]+cms)', r'https://timesofindia.indiatimes.com\\1', without_header) for without_header in url_toi_business_raw]\n",
    "#print(len(url_toi_business))\n",
    "#print(url_toi_business)"
   ]
  },
  {
   "cell_type": "markdown",
   "metadata": {},
   "source": [
    "#### Cached Previous day URL to compare against the new URL\n",
    "All the links present here can have duplicates from previous day or few days back. So, we have to make comparison with the URLs that we already have to find any redundant article. We can use our traditional filesystem to get the URLs from cached file."
   ]
  },
  {
   "cell_type": "code",
   "execution_count": 5,
   "metadata": {},
   "outputs": [],
   "source": [
    "cached_url_toi_business = []\n",
    "with open('./data/times_of_india/cached_url_toi_business.txt', 'r') as filehandle:\n",
    "    for line in filehandle:\n",
    "        # remove linebreak which is the last character of the string\n",
    "        currentPlace = line[:-1]\n",
    "\n",
    "        # add item to the list\n",
    "        cached_url_toi_business.append(currentPlace)"
   ]
  },
  {
   "cell_type": "code",
   "execution_count": 6,
   "metadata": {},
   "outputs": [
    {
     "data": {
      "text/plain": [
       "586"
      ]
     },
     "execution_count": 6,
     "metadata": {},
     "output_type": "execute_result"
    }
   ],
   "source": [
    "len(cached_url_toi_business)"
   ]
  },
  {
   "cell_type": "markdown",
   "metadata": {},
   "source": [
    "#### Compare against cached URLs to find only new links for today"
   ]
  },
  {
   "cell_type": "code",
   "execution_count": 7,
   "metadata": {},
   "outputs": [],
   "source": [
    "latest_url_toi_business = list(set(url_toi_business) - set(cached_url_toi_business))\n",
    "#print(len(latest_url_toi_business))\n",
    "#print(latest_url_toi_business)"
   ]
  },
  {
   "cell_type": "markdown",
   "metadata": {},
   "source": [
    "#### Cache the latest URL for future comparisons"
   ]
  },
  {
   "cell_type": "code",
   "execution_count": 8,
   "metadata": {},
   "outputs": [],
   "source": [
    "with open('./data/times_of_india/cached_url_toi_business.txt', 'a') as filehandle:\n",
    "    for listitem in latest_url_toi_business:\n",
    "        filehandle.write('%s\\n' % listitem)"
   ]
  },
  {
   "cell_type": "markdown",
   "metadata": {},
   "source": [
    "### Sports "
   ]
  },
  {
   "cell_type": "markdown",
   "metadata": {},
   "source": [
    "Initial stage is collecting links from a particular URL, here I have taken sports news in particular from Times of India. the reason for doing this manual labour for each category is to save the categorization(classifcation) training process for our model. The euqivalent of this would have been a huge task itself because we would have to label the news on our own and then classify it, which still might not have give us as accurate as this manual method."
   ]
  },
  {
   "cell_type": "markdown",
   "metadata": {},
   "source": [
    "Here we have collected all the links using Beautifulsoup library for url : https://timesofindia.indiatimes.com/sports. The links are annotated by href in html."
   ]
  },
  {
   "cell_type": "code",
   "execution_count": 9,
   "metadata": {},
   "outputs": [],
   "source": [
    "import re\n",
    "import requests\n",
    "from bs4 import BeautifulSoup\n",
    "\n",
    "response_toi_sports = requests.get(url='https://timesofindia.indiatimes.com/sports', headers={'User-Agent':''})\n",
    "soup_toi_sports = BeautifulSoup(response_toi_sports.content, 'html.parser')\n",
    "\n",
    "links_toi_sports = []\n",
    "for link in soup_toi_sports.findAll('a', href=True):\n",
    "    links_toi_sports.append(link.get('href'))\n",
    "#print(len(links_toi_sports))\n",
    "#print(links_toi_sports)"
   ]
  },
  {
   "cell_type": "markdown",
   "metadata": {},
   "source": [
    "#### Finding only the relevant URLs from the list of all links.\n",
    "Now we have to filter only the links that are related to articles and that too only sports realted articles. I have used RegEx for this task. All the news articles have '.cms' type in the end and they contain '/sports/' so I made use of those two major things to find all the valid URLs.  "
   ]
  },
  {
   "cell_type": "code",
   "execution_count": 10,
   "metadata": {},
   "outputs": [],
   "source": [
    "import re\n",
    "txt_toi_sports = ' '.join(links_toi_sports)\n",
    "url_toi_sports_raw = re.findall(r'https://timesofindia.indiatimes.com/sports/[a-z0-9\\/\\.\\-\\:]*[0-9\\.]+cms|/sports/[a-z0-9\\/\\.\\-\\:]*[0-9\\.]+cms', txt_toi_sports)\n",
    "#print(len(url_toi_sports_raw))\n",
    "#print(url_toi_sports_raw)"
   ]
  },
  {
   "cell_type": "markdown",
   "metadata": {},
   "source": [
    "#### Removing duplicates\n",
    "There can be duplicates present so a simple task to remove duplicates is to convert the list to set, as we know set can't contain duplicates. And then change the set back to list."
   ]
  },
  {
   "cell_type": "code",
   "execution_count": 11,
   "metadata": {},
   "outputs": [
    {
     "data": {
      "text/plain": [
       "['/sports/football/epl/top-stories/manchester-united-dismiss-super-league-reports-say-they-are-focused-on-uefa-talks/articleshow/78791343.cms',\n",
       " '/sports/football/epl/top-stories/mesut-ozil-deeply-disappointed-by-arsenal-omission/articleshow/78790467.cms',\n",
       " '/sports/badminton/sindhu-quits-national-camp-over-personal-issues-reaches-london/articleshow/78758810.cms',\n",
       " '/sports/latest-videos/ipl-2020-punjab-beat-mumbai-in-ipls-first-ever-second-super-over/videoshow/78741981.cms',\n",
       " '/sports/latest-videos/ipl-2020-pacers-help-dc-beat-rr-to-reclaim-top-spot/videoshow/78673084.cms',\n",
       " '/sports/football/sergio-ramos-on-lionel-messi-the-argentina-superstar-has-earned-right-to-leave/videoshow/77904948.cms',\n",
       " '/sports/tennis/top-stories/rafael-nadal-to-play-paris-masters-next-month/articleshow/78771732.cms',\n",
       " '/sports/cricket/match-center/indian-premier-league-2020-delhi-capitals-vs-kings-xi-punjab-live-cricket-score/scorecard/matchfile-kpdd10202020197725.cms',\n",
       " '/sports/cricket/ipl-2020-one-of-our-top-four-has-to-finish-off-games-says-kxip-skipper-kl-rahul/videoshow/78781331.cms',\n",
       " 'https://timesofindia.indiatimes.com/sports/cricket/ipl/top-stories/kkr-vs-rcb-i-dont-think-a-lot-of-people-have-belief-in-rcb-says-virat-kohli/articleshow/78800033.cms',\n",
       " '/sports/wwe/top-stories/wwe-confirms-wrestler-has-tested-positive-for-covid-19/articleshow/76407629.cms',\n",
       " '/sports/cricket/lesser-chance-that-we-get-through-says-fleming-after-defeat-against-rr/videoshow/78765678.cms',\n",
       " '/sports/hockey/top-stories/fih-pro-league-matches-between-netherlands-and-great-britain-will-be-exciting-to-watch-savita/articleshow/78748644.cms',\n",
       " '/sports/football/champions-league/top-stories/champions-league-kingsley-coman-dazzles-in-bayern-munichs-4-0-demolition-of-atletico-madrid/articleshow/78800952.cms',\n",
       " '/sports/football/messi-has-shown-he-is-ready-to-put-the-boot-in-at-barcelona/videoshow/77784630.cms',\n",
       " 'https://timesofindia.indiatimes.com/sports/cricket/ipl/top-stories/ipl-2020-team-players-list-eight-teams-and-complete-squads-after-ipl-auction-2020/articleshow/72891068.cms',\n",
       " '/sports/football/champions-league/top-stories/champions-league-last-gasp-romelu-lukaku-rescues-inter-milan-draw-against-gladbach/articleshow/78801217.cms',\n",
       " '/sports/tennis/top-stories/coco-gauff-through-to-second-round-at-ostrava/articleshow/78782015.cms',\n",
       " '/sports/football/champions-league/top-stories/real-madrid-stunned-by-shakhtar-donetsk-in-champions-league-opener/articleshow/78800456.cms',\n",
       " '/sports/football/top-european-clubs-circle-as-messi-calls-time-at-barcelona/videoshow/77766451.cms',\n",
       " '/sports/football/nations-league-cristiano-ronaldo-scored-his-100th-international-goal/videoshow/78013522.cms',\n",
       " '/sports/football/indian-super-league/clubs-left-with-too-little-time-to-prepare-for-indian-super-league/articleshow/78800060.cms',\n",
       " '/sports/football/lionel-messi-skips-training-as-barcelona-stand-off-continues/videoshow/77864790.cms',\n",
       " '/sports/hockey/top-stories/hockey-india-to-conduct-online-course-for-aspiring-coaches/articleshow/78696472.cms',\n",
       " '/sports/hockey/top-stories/mix-of-youth-and-experience-in-defence-will-help-womens-hockey-team-in-olympics-deep-grace-ekka/articleshow/78675990.cms',\n",
       " 'https://timesofindia.indiatimes.com/sports/cricket/ipl/top-stories/rcb-players-2020-complete-list-of-royal-challengers-bangalore-players-for-ipl-2020/articleshow/72892330.cms',\n",
       " 'https://timesofindia.indiatimes.com/sports/cricket/ipl/top-stories/csk-players-2020-complete-list-of-chennai-super-kings-players-for-ipl-2020/articleshow/72890745.cms',\n",
       " '/sports/cricket/happy-birthday-viru-fans-wish-sehwag-on-his-special-day/videoshow/78764404.cms',\n",
       " '/sports/cricket/match-center/indian-premier-league-2020-chennai-super-kings-vs-rajasthan-royals-live-cricket-score/scorecard/matchfile-ckrr10192020197724.cms',\n",
       " 'https://timesofindia.indiatimes.com/sports/cricket/ipl/top-stories/it-was-a-late-call-to-ask-siraj-to-open-the-bowling-virat-kohli/articleshow/78795783.cms',\n",
       " '/sports/wwe/top-stories/preparing-for-daniel-is-not-an-easy-task-says-wwe-star-aj-styles/articleshow/76323807.cms',\n",
       " '/sports/cricket/ipl-2020-dhawans-second-straight-ton-goes-in-vain-as-kings-xi-punjab-beat-delhi-capitals/videoshow/78780798.cms',\n",
       " 'https://timesofindia.indiatimes.com/sports/cricket/ipl/top-stories/mi-players-2020-complete-list-of-mumbai-indians-players-for-ipl-2020/articleshow/72891997.cms',\n",
       " '/sports/latest-videos/ipl-2020-ferguson-stars-for-kkr-in-super-over-win-over-srh/videoshow/78740954.cms',\n",
       " 'https://timesofindia.indiatimes.com/sports/cricket/icc-womens-t20-world-cup/icc-womens-t20-world-cup-2020-schedule-and-timings/articleshow/73224072.cms',\n",
       " '/sports/football/champions-league-bayern-munich-humiliate-hapless-barcelona-with-8-2-crushing/videoshow/77563154.cms',\n",
       " '/sports/cricket/ipl/top-stories/kkr-vs-rcb-siraj-stars-as-royal-challengers-bangalore-beat-kolkata-knight-riders-by-8-wickets/articleshow/78794716.cms',\n",
       " '/sports/football/covid-19-red-card-warning-for-deliberate-coughing-in-football/videoshow/77349430.cms',\n",
       " '/sports/cricket/ipl-2020-dc-skipper-shreyas-iyer-hails-shikhar-dhawans-performance/videoshow/78785952.cms',\n",
       " '/sports/nfl/news/atlanta-falcons-close-facility-after-positive-covid-19-test/articleshow/78685111.cms',\n",
       " '/sports/wwe/top-stories/dont-have-the-desire-to-get-back-in-ring-the-undertaker-retires-from-wwe/articleshow/76517310.cms',\n",
       " '/sports/tennis/top-stories/germanys-julia-goerges-retires-from-tennis/articleshow/78794513.cms',\n",
       " 'https://timesofindia.indiatimes.com/sports/cricket/ipl/top-stories/ipl-2020-points-table-updated-points-table-of-ipl/articleshow/78533311.cms',\n",
       " '/sports/latest-videos/royals-beat-csk-to-spoil-dhonis-200th-ipl-appearance/videoshow/78760370.cms',\n",
       " '/sports/hockey/top-stories/committed-to-bring-my-a-game-to-find-regular-spot-in-team-says-nisha/articleshow/78784767.cms',\n",
       " '/sports/football/lionel-messi-tells-barcelona-he-wants-to-leave-the-club/videoshow/77755711.cms',\n",
       " '/sports/cricket/ipl/top-stories/running-faster-feeling-fresher-and-not-afraid-to-get-out-shikhar-dhawan-speaks-on-purple-patch/articleshow/78788179.cms',\n",
       " '/sports/tennis/top-stories/novak-djokovic-pulls-out-of-paris-masters-with-no-points-to-win/articleshow/78786520.cms',\n",
       " '/sports/football/champions-league/top-stories/champions-league-own-goal-hands-liverpool-away-win-at-ajax/articleshow/78801109.cms',\n",
       " '/sports/cricket/ipl/videos/ipl-ab-de-villiers-masterclass-stuns-rajasthan/videoshow/78730930.cms',\n",
       " '/sports/hockey/top-stories/drag-flicker-varun-kumar-says-contracting-covid-19-was-unlike-any-other-setback/articleshow/78656122.cms',\n",
       " 'https://timesofindia.indiatimes.com/sports/cricket/ipl/top-stories/rr-players-2020-complete-list-of-rajasthan-royals-players-for-ipl-2020/articleshow/72892177.cms',\n",
       " '/sports/cricket/ipl/top-stories/csk-vs-rr-live-score-regular-wickets-hurt-chennai-super-kings-innings/articleshow/78749971.cms',\n",
       " '/sports/football/epl/top-stories/mourinho-insists-nothing-spursy-about-west-ham-draw/articleshow/78792648.cms',\n",
       " '/sports/football/champions-league/top-stories/champions-league-manchester-city-come-back-for-3-1-win-over-porto/articleshow/78801389.cms',\n",
       " '/sports/football/top-stories/rule-makers-want-to-trial-permanent-substitutions-for-concussion-cases/articleshow/78793921.cms',\n",
       " 'https://timesofindia.indiatimes.com/sports/cricket/ipl/top-stories/ipl-2020-schedule-announced-chennai-super-kings-will-play-mumbai-indians-in-season-opener/articleshow/77961402.cms',\n",
       " '/sports/cricket/ipl/top-stories/it-was-a-late-call-to-ask-siraj-to-open-the-bowling-virat-kohli/articleshow/78795783.cms',\n",
       " '/sports/cricket/match-center/indian-premier-league-2020-kolkata-knight-riders-vs-royal-challengers-bangalore-live-cricket-score/scorecard/matchfile-krbc10212020197726.cms',\n",
       " 'https://timesofindia.indiatimes.com/sports/cricket/ipl/top-stories/purple-cap-and-orange-cap-in-ipl-2020/articleshow/78491209.cms',\n",
       " '/sports/cricket/ipl-13-kl-rahul-calls-glenn-maxwell-great-team-man-after-kxip-wins-over-dc/videoshow/78786030.cms',\n",
       " '/sports/cricket/ipl/photos/ipl-2020-match-39-kolkata-knight-riders-vs-royal-challengers-bangalore/photostory/78801393.cms',\n",
       " '/sports/cricket/ipl/top-stories/siraj-becomes-first-bowler-to-bowl-two-maiden-overs-in-ipl-match/articleshow/78792793.cms',\n",
       " '/sports/wwe/top-stories/drew-mcintyre-gears-up-for-the-orton-challenge/articleshow/77696177.cms',\n",
       " '/sports/cricket/ipl/top-stories/kxip-vs-dc-live-score-shreyas-iyer-falls-after-shikhar-dhawan-fifty/articleshow/78769670.cms',\n",
       " '/sports/cricket/ipl/top-stories/kkr-vs-rcb-virat-kohli-handing-new-ball-to-me-boosted-confidence-mohammed-siraj-on-magical-ipl-performance/articleshow/78801764.cms',\n",
       " '/sports/nfl/news/nfl-reports-19-positive-cases-up-four-from-previous-week/articleshow/78775390.cms',\n",
       " '/sports/cricket/ipl/top-stories/kkr-vs-rcb-i-dont-think-a-lot-of-people-have-belief-in-rcb-says-virat-kohli/articleshow/78800033.cms',\n",
       " '/sports/football/messi-saga-bid-to-oust-barcelona-chief-gathers-pace/videoshow/77999498.cms',\n",
       " '/sports/cricket/ipl/videos/ipl-dhawan-rides-his-luck-to-take-dc-home-against-csk/videoshow/78731314.cms',\n",
       " '/sports/cricket/ipl/top-stories/ipl-2020-this-wasnt-a-season-we-expected-but-keep-supporting-csk-says-bravo/articleshow/78791629.cms',\n",
       " '/sports/nfl/news/nfl-postpones-patriots-broncos-game-after-new-virus-case/articleshow/78608246.cms',\n",
       " '/sports/cricket/ipl/top-stories/kkr-vs-rcb-royal-challengers-bangalore-bowled-well-but-we-should-have-countered-that-better-says-eoin-morgan/articleshow/78802531.cms',\n",
       " '/sports/latest-videos/ipl-2020-gayles-return-lifts-kxip-to-last-ball-win-over-rcb/videoshow/78692533.cms',\n",
       " '/sports/cricket/plan-was-to-get-two-points-says-steve-smith-after-7-wicket-triumph-over-csk/videoshow/78765575.cms',\n",
       " '/sports/cricket/csks-head-coach-fleming-praises-rrs-disciplined-bowling/videoshow/78765640.cms',\n",
       " '/sports/cricket/cannot-rely-on-luck-have-to-win-every-game-says-rr-skipper-steve-smith/videoshow/78765616.cms',\n",
       " '/sports/football/champions-league/top-stories/bayern-to-host-atletico-despite-gnabrys-positive-covid-test-uefa/articleshow/78793210.cms',\n",
       " '/sports/football/us-open-2020-sumit-nagal-loses-to-dominic-thiem/videoshow/77925720.cms',\n",
       " '/sports/cricket/ipl-2020bowlers-were-exceptional-today-says-kxip-skipper-kl-rahul/videoshow/78785990.cms',\n",
       " '/sports/football/indian-super-league/top-stories/isl-kerala-blasters-sign-defender-bakary-kone-ahead-of-2020-21-season/articleshow/78791462.cms',\n",
       " 'https://timesofindia.indiatimes.com/sports/cricket/ipl/top-stories/dc-players-2020-complete-list-of-delhi-capitals-players-for-ipl-2020/articleshow/72891130.cms',\n",
       " 'https://timesofindia.indiatimes.com/sports/cricket/ipl/top-stories/srh-players-2020-complete-list-of-sunrisers-hyderabad-players-for-ipl-2020/articleshow/72892443.cms',\n",
       " '/sports/latest-videos/ipl-2020-bowlers-give-csk-20-run-win-over-srh/videoshow/78653265.cms',\n",
       " '/sports/cricket/ipl/top-stories/ipl-2020-we-want-to-finish-on-top-of-the-points-table-says-ab-de-villiers/articleshow/78792015.cms',\n",
       " '/sports/nfl/news/nfl-titans-steelers-game-postponed-again-after-more-positive-tests/articleshow/78431287.cms',\n",
       " '/sports/badminton/world-junior-badminton-championships-cancelled/articleshow/78799929.cms',\n",
       " '/sports/cricket/ipl/videos/clinical-mi-brush-aside-kkr-for-big-win/videoshow/78717885.cms',\n",
       " 'https://timesofindia.indiatimes.com/sports/cricket/ipl/top-stories/ipl-points-table-2020-updated-points-table-of-ipl-2020/articleshow/78645266.cms',\n",
       " '/sports/tennis/top-stories/marin-cilic-suffers-upset-defeat-in-first-round-of-cologne-championships/articleshow/78765339.cms',\n",
       " '/sports/cricket/news/bangladesh-woman-cricketer-sanjida-islams-wedding-photoshoot-on-pitch-bowls-out-social-media/articleshow/78795699.cms',\n",
       " '/sports/cricket/ipl/top-stories/kxip-showing-why-they-were-deemed-dangerous-at-the-start-of-ipl-2020-harsha-bhogle/articleshow/78800597.cms',\n",
       " '/sports/cricket/ipl/top-stories/kkr-vs-rcb-live-score-siraj-chahal-knock-down-kolkata-knight-riders-restrict-them-to-84/8/articleshow/78789627.cms',\n",
       " 'https://timesofindia.indiatimes.com/sports/cricket/ipl/top-stories/kxip-players-2020-complete-list-of-kings-xi-punjab-players-for-ipl-2020/articleshow/72891750.cms',\n",
       " 'https://timesofindia.indiatimes.com/sports/cricket/ipl/top-stories/kkr-players-2020-complete-list-of-kolkata-knight-riders-players-for-ipl-2020/articleshow/72890373.cms',\n",
       " '/sports/nfl/news/nfl-moves-titans-steelers-virus-delayed-game-to-october-25/articleshow/78451867.cms',\n",
       " '/sports/wwe/top-stories/nikki-cross-gears-up-for-her-clash-with-bayley/articleshow/77002062.cms',\n",
       " '/sports/latest-videos/ipl-2020-dhawans-ton-in-vain-as-punjab-beat-delhi/videoshow/78779819.cms']"
      ]
     },
     "execution_count": 11,
     "metadata": {},
     "output_type": "execute_result"
    }
   ],
   "source": [
    "url_toi_sports_raw = set(url_toi_sports_raw)\n",
    "url_toi_sports_raw = list(url_toi_sports_raw)\n",
    "#print(len(url_toi_sports_raw))\n",
    "url_toi_sports_raw"
   ]
  },
  {
   "cell_type": "markdown",
   "metadata": {},
   "source": [
    "#### Filtering without header URLs and adding header\n",
    "As you can notice above that there are many URLs which doesn't start with https or even www, rather they start from the category like '/sports/india-sports/sensex-drops-over-100-points-in-opening-trade-nifty-below-11650/articleshow/78527429.cms'. Now for such links we will have to use RegEx to substitute https://timesofindia.indiatimes.com in the beginning. That is what is done in next code snippet."
   ]
  },
  {
   "cell_type": "code",
   "execution_count": 12,
   "metadata": {},
   "outputs": [],
   "source": [
    "url_toi_sports = []\n",
    "url_toi_sports = [re.sub(r'(?<![a-z/:])(/sports/[a-z0-9/.:-]*[0-9.]+cms)', r'https://timesofindia.indiatimes.com\\1', without_header) for without_header in url_toi_sports_raw]\n",
    "#print(len(url_toi_sports))\n",
    "#print(url_toi_sports)"
   ]
  },
  {
   "cell_type": "markdown",
   "metadata": {},
   "source": [
    "#### Cached Previous day URL to compare against the new URL\n",
    "All the links present here can have duplicates from previous day or few days back. So, we have to make comparison with the URLs that we already have to find any redundant article. We can use our traditional filesystem to get the URLs from cached file."
   ]
  },
  {
   "cell_type": "code",
   "execution_count": 13,
   "metadata": {},
   "outputs": [],
   "source": [
    "cached_url_toi_sports = []\n",
    "with open('./data/times_of_india/cached_url_toi_sports.txt', 'r') as filehandle:\n",
    "    for line in filehandle:\n",
    "        # remove linebreak which is the last character of the string\n",
    "        currentPlace = line[:-1]\n",
    "\n",
    "        # add item to the list\n",
    "        cached_url_toi_sports.append(currentPlace)"
   ]
  },
  {
   "cell_type": "code",
   "execution_count": 14,
   "metadata": {},
   "outputs": [
    {
     "data": {
      "text/plain": [
       "502"
      ]
     },
     "execution_count": 14,
     "metadata": {},
     "output_type": "execute_result"
    }
   ],
   "source": [
    "len(cached_url_toi_sports)"
   ]
  },
  {
   "cell_type": "markdown",
   "metadata": {},
   "source": [
    "#### Compare against cached URLs to find only new links for today"
   ]
  },
  {
   "cell_type": "code",
   "execution_count": 15,
   "metadata": {},
   "outputs": [],
   "source": [
    "latest_url_toi_sports = list(set(url_toi_sports) - set(cached_url_toi_sports))\n",
    "\n",
    "#print(len(latest_url_toi_sports))\n",
    "#print(latest_url_toi_sports)"
   ]
  },
  {
   "cell_type": "markdown",
   "metadata": {},
   "source": [
    "#### Cache the latest URL for future comparisons"
   ]
  },
  {
   "cell_type": "code",
   "execution_count": 16,
   "metadata": {},
   "outputs": [],
   "source": [
    "with open('./data/times_of_india/cached_url_toi_sports.txt', 'a') as filehandle:\n",
    "    for listitem in latest_url_toi_sports:\n",
    "        filehandle.write('%s\\n' % listitem)"
   ]
  },
  {
   "cell_type": "markdown",
   "metadata": {},
   "source": [
    "### World "
   ]
  },
  {
   "cell_type": "markdown",
   "metadata": {},
   "source": [
    "Initial stage is collecting links from a particular URL, here I have taken world news in particular from Times of India. the reason for doing this manual labour for each category is to save the categorization(classifcation) training process for our model. The euqivalent of this would have been a huge task itself because we would have to label the news on our own and then classify it, which still might not have give us as accurate as this manual method."
   ]
  },
  {
   "cell_type": "markdown",
   "metadata": {},
   "source": [
    "Here we have collected all the links using Beautifulsoup library for url : https://timesofindia.indiatimes.com/world. The links are annotated by href in html."
   ]
  },
  {
   "cell_type": "code",
   "execution_count": 17,
   "metadata": {},
   "outputs": [],
   "source": [
    "import re\n",
    "import requests\n",
    "from bs4 import BeautifulSoup\n",
    "\n",
    "response_toi_world = requests.get(url='https://timesofindia.indiatimes.com/world', headers={'User-Agent':''})\n",
    "soup_toi_world = BeautifulSoup(response_toi_world.content, 'html.parser')\n",
    "\n",
    "links_toi_world = []\n",
    "for link in soup_toi_world.findAll('a', href=True):\n",
    "    links_toi_world.append(link.get('href'))\n",
    "#print(len(links_toi_world))\n",
    "#print(links_toi_world)"
   ]
  },
  {
   "cell_type": "markdown",
   "metadata": {},
   "source": [
    "#### Finding only the relevant URLs from the list of all links.\n",
    "Now we have to filter only the links that are related to articles and that too only world realted articles. I have used RegEx for this task. All the news articles have '.cms' type in the end and they contain '/world/' so I made use of those two major things to find all the valid URLs.  "
   ]
  },
  {
   "cell_type": "code",
   "execution_count": 18,
   "metadata": {},
   "outputs": [],
   "source": [
    "import re\n",
    "txt_toi_world = ' '.join(links_toi_world)\n",
    "url_toi_world_raw = re.findall(r'https://timesofindia.indiatimes.com/world/[a-z0-9\\/\\.\\-\\:]*[0-9\\.]+cms|/world/[a-z0-9\\/\\.\\-\\:]*[0-9\\.]+cms', txt_toi_world)\n",
    "#print(len(url_toi_world_raw))\n",
    "#print(url_toi_world_raw)"
   ]
  },
  {
   "cell_type": "markdown",
   "metadata": {},
   "source": [
    "#### Removing duplicates\n",
    "There can be duplicates present so a simple task to remove duplicates is to convert the list to set, as we know set can't contain duplicates. And then change the set back to list."
   ]
  },
  {
   "cell_type": "code",
   "execution_count": 19,
   "metadata": {},
   "outputs": [
    {
     "data": {
      "text/plain": [
       "['/world/pakistan/two-parallel-governments-control-pakistan-former-pm-nawaz-sharif/articleshow/78793346.cms',\n",
       " '/world/china/hong-kong-eases-social-distancing-measures-after-number-of-infections-decline/articleshow/78769398.cms',\n",
       " '/world/uk/eu-to-uk-on-brexit-talks-you-cant-have-cake-eat-it-too/articleshow/78787323.cms',\n",
       " '/world/pakistan/pakistans-political-crisis-deepens/articleshow/78796926.cms',\n",
       " '/world/europe/eu-to-uk-on-brexit-talks-you-cant-have-cake-eat-it-too/articleshow/78787229.cms',\n",
       " '/world/abu-dhabi/photogallery/bab-al-qasr/articleshow/76127904.cms',\n",
       " '/world/abu-dhabi/photogallery/al-ain/articleshow/76121615.cms',\n",
       " '/world/uk/britain-partners-with-oxford-firm-to-assess-coronavirus-vaccine-t-cell-responses/articleshow/78801172.cms',\n",
       " 'https://timesofindia.indiatimes.com/world/us/us-presidential-elections/trump-says-will-win-by-bigger-margin-seeks-thundering-defeat-for-rival-biden/articleshow/78781024.cms',\n",
       " '/world/rest-of-world/us-approves-1-billion-in-new-arms-sales-to-taiwan/articleshow/78800132.cms',\n",
       " '/world/mad-mad-world/john-oliver-now-has-a-sewage-plant-named-after-him/articleshow/78760109.cms',\n",
       " '/world/us/5-questions-as-trump-and-biden-prepare-for-final-debate/articleshow/78801386.cms',\n",
       " '/world/pakistan/pakistan-will-not-be-able-to-escape-fatf-grey-list-afghan-lawmaker/articleshow/78787258.cms',\n",
       " 'https://timesofindia.indiatimes.com/world/us/us-elections-2020-live-updates-october-16-trump-biden-duel-in-battleground-states-17-days-from-election/liveblog/78727590.cms',\n",
       " '/world/rest-of-world/nigeria-unrest-spreads-after-shooting-of-protesters/articleshow/78795361.cms',\n",
       " '/world/middle-east/as-us-vote-looms-gulf-powers-count-trump-blessings/articleshow/78760691.cms',\n",
       " '/world/middle-east/jamal-khashoggi-fiancee-sues-saudi-prince-in-us-over-murder/articleshow/78775074.cms',\n",
       " '/world/uk/police-open-murder-investigation-following-triple-death-of-tamil-origin-family-in-london/articleshow/78525099.cms',\n",
       " '/world/mad-mad-world/rudolph-and-his-nose-so-bright-into-auction-will-take-flight/articleshow/78707867.cms',\n",
       " '/world/abu-dhabi/photogallery/rosewood-abu-dhabi/articleshow/76122841.cms',\n",
       " 'https://timesofindia.indiatimes.com/world/pakistan/demoralized-shocked-sindh-police-in-open-revolt-against-pak-army-over-igp-kidnaping-jittery-bajwa-orders-inquiry/articleshow/78782200.cms',\n",
       " '/world/rest-of-world/australia-watchdog-considers-its-own-google-antitrust-case/articleshow/78799524.cms',\n",
       " '/world/uk/uk-scientific-advisor-says-coronavirus-unlikely-to-be-eradicated/articleshow/78786924.cms',\n",
       " '/world/south-asia/5-killed-9-injured-in-blast-in-central-afghanistan/articleshow/78771681.cms',\n",
       " '/world/us/us-presidential-elections/5-questions-as-trump-and-biden-prepare-for-final-debate/articleshow/78801379.cms',\n",
       " '/world/us/us-approves-1-billion-in-new-arms-sales-to-taiwan/articleshow/78800145.cms',\n",
       " '/world/abu-dhabi/photogallery/the-founders-memorial/articleshow/76121904.cms',\n",
       " '/world/uk/adding-a-sikh-ethnic-tick-box-to-uk-census-would-cost-over-rs-2000-crore-and-delay-census-by-full-year-court-hears/articleshow/78796985.cms',\n",
       " '/world/south-asia/bangladesh-professor-gets-death-threat-from-islamist-group/articleshow/78799547.cms',\n",
       " '/world/rest-of-world/astrazeneca-covid-19-vaccine-trial-brazil-volunteer-dies-trial-to-continue/articleshow/78798635.cms',\n",
       " '/world/pakistan/political-crisis-in-pakistan-deepens-after-police-army-dispute/articleshow/78789874.cms',\n",
       " '/world/china/china-takes-note-of-australia-joining-malabar-naval-drills/articleshow/78768423.cms',\n",
       " '/world/mad-mad-world/a-taste-for-travel-finnair-to-sell-plane-food-in-shops/articleshow/78665989.cms',\n",
       " '/world/middle-east/uae-government-delegation-heads-to-israel-for-first-official-visit/articleshow/78764353.cms',\n",
       " '/world/abu-dhabi/photogallery/zaya-nurai-island/articleshow/76128282.cms',\n",
       " '/world/us/us-presidential-elections/us-says-iran-russia-obtained-voter-registration-info/articleshow/78799986.cms',\n",
       " '/world/south-asia/thai-protesters-give-pm-prayuth-three-day-deadline-to-quit/articleshow/78792380.cms',\n",
       " '/world/south-asia/at-least-15-dead-in-stampede-near-pakistan-consulate-in-eastern-afghanistan/articleshow/78782681.cms',\n",
       " 'https://timesofindia.indiatimes.com/world/us/us-presidential-elections/us-presidential-election-2020-key-dates-and-events/articleshow/78634153.cms',\n",
       " '/world/europe/pope-endorses-same-sex-civil-unions-in-new-documentary-film/articleshow/78792741.cms',\n",
       " 'https://timesofindia.indiatimes.com/world/us/us-presidential-elections/i-will-deliver-optimism-opportunity-joe-biden-will-bring-in-pessimism-poverty-donald-trump/articleshow/78800413.cms',\n",
       " '/world/mad-mad-world/battle-tested-how-retirees-are-using-military-principles-to-stay-healthy/articleshow/78713078.cms',\n",
       " '/world/middle-east/trump-heights-a-symbol-of-us-shift-on-mideast-policy/articleshow/78780564.cms',\n",
       " '/world/china/chinese-city-to-offer-covid-19-vaccine-candidate-as-emergency-use-expands/articleshow/78780824.cms',\n",
       " 'https://timesofindia.indiatimes.com/world/us/us-presidential-elections/us-deserves-to-have-prez-who-understands-dignity-of-people-says-kamala-harris/articleshow/78800066.cms',\n",
       " '/world/us/three-man-us-russian-crew-returns-to-earth-from-iss/articleshow/78800466.cms',\n",
       " '/world/rest-of-world/landslide-kills-11-miners-in-indonesia/articleshow/78801557.cms',\n",
       " '/world/us/us-elections-2020-live-updates-october-22-trump-biden-duel-in-battleground-states/liveblog/78800120.cms',\n",
       " '/world/china/china-chides-us-official-meeting-with-tibet-govt-in-exile/articleshow/78784682.cms',\n",
       " '/world/europe/spains-parliament-debates-no-confidence-vote-to-oust-govt/articleshow/78786884.cms',\n",
       " '/world/europe/france-covid-19-cases-surpasses-1-million/articleshow/78800246.cms',\n",
       " '/world/abu-dhabi/photogallery/al-ain-zoo/articleshow/76128129.cms']"
      ]
     },
     "execution_count": 19,
     "metadata": {},
     "output_type": "execute_result"
    }
   ],
   "source": [
    "url_toi_world_raw = set(url_toi_world_raw)\n",
    "url_toi_world_raw = list(url_toi_world_raw)\n",
    "#print(len(url_toi_world_raw))\n",
    "url_toi_world_raw"
   ]
  },
  {
   "cell_type": "markdown",
   "metadata": {},
   "source": [
    "#### Filtering without header URLs and adding header\n",
    "As you can notice above that there are many URLs which doesn't start with https or even www, rather they start from the category like '/world/india-world/sensex-drops-over-100-points-in-opening-trade-nifty-below-11650/articleshow/78527429.cms'. Now for such links we will have to use RegEx to substitute https://timesofindia.indiatimes.com in the beginning. That is what is done in next code snippet."
   ]
  },
  {
   "cell_type": "code",
   "execution_count": 20,
   "metadata": {},
   "outputs": [],
   "source": [
    "url_toi_world = []\n",
    "url_toi_world = [re.sub(r'(?<![a-z/:])(/world/[a-z0-9/.:-]*[0-9.]+cms)', r'https://timesofindia.indiatimes.com\\1', without_header) for without_header in url_toi_world_raw]\n",
    "#print(len(url_toi_world))\n",
    "#print(url_toi_world)"
   ]
  },
  {
   "cell_type": "markdown",
   "metadata": {},
   "source": [
    "#### Cached Previous day URL to compare against the new URL\n",
    "All the links present here can have duplicates from previous day or few days back. So, we have to make comparison with the URLs that we already have to find any redundant article. We can use our traditional filesystem to get the URLs from cached file."
   ]
  },
  {
   "cell_type": "markdown",
   "metadata": {},
   "source": [
    "#### Compare against cached URLs to find only new links for today"
   ]
  },
  {
   "cell_type": "code",
   "execution_count": 21,
   "metadata": {},
   "outputs": [],
   "source": [
    "cached_url_toi_world = []\n",
    "with open('./data/times_of_india/cached_url_toi_world.txt', 'r') as filehandle:\n",
    "    for line in filehandle:\n",
    "        # remove linebreak which is the last character of the string\n",
    "        currentPlace = line[:-1]\n",
    "\n",
    "        # add item to the list\n",
    "        cached_url_toi_world.append(currentPlace)"
   ]
  },
  {
   "cell_type": "code",
   "execution_count": 22,
   "metadata": {},
   "outputs": [
    {
     "data": {
      "text/plain": [
       "321"
      ]
     },
     "execution_count": 22,
     "metadata": {},
     "output_type": "execute_result"
    }
   ],
   "source": [
    "len(cached_url_toi_world)"
   ]
  },
  {
   "cell_type": "code",
   "execution_count": 23,
   "metadata": {},
   "outputs": [],
   "source": [
    "latest_url_toi_world = list(set(url_toi_world) - set(cached_url_toi_world)) \n",
    "\n",
    "#print(len(latest_url_toi_world))\n",
    "#print(latest_url_toi_world)"
   ]
  },
  {
   "cell_type": "markdown",
   "metadata": {},
   "source": [
    "#### Cache the latest URL for future comparisons"
   ]
  },
  {
   "cell_type": "code",
   "execution_count": 24,
   "metadata": {},
   "outputs": [],
   "source": [
    "with open('./data/times_of_india/cached_url_toi_world.txt', 'a') as filehandle:\n",
    "    for listitem in latest_url_toi_world:\n",
    "        filehandle.write('%s\\n' % listitem)"
   ]
  },
  {
   "cell_type": "markdown",
   "metadata": {},
   "source": [
    "### Entertainment "
   ]
  },
  {
   "cell_type": "markdown",
   "metadata": {},
   "source": [
    "Initial stage is collecting links from a particular URL, here I have taken entertainment news in particular from Times of India. the reason for doing this manual labour for each category is to save the categorization(classifcation) training process for our model. The euqivalent of this would have been a huge task itself because we would have to label the news on our own and then classify it, which still might not have give us as accurate as this manual method."
   ]
  },
  {
   "cell_type": "markdown",
   "metadata": {},
   "source": [
    "Here we have collected all the links using Beautifulsoup library for url : https://timesofindia.indiatimes.com/entertainment. The links are annotated by href in html."
   ]
  },
  {
   "cell_type": "code",
   "execution_count": 25,
   "metadata": {},
   "outputs": [],
   "source": [
    "import re\n",
    "import requests\n",
    "from bs4 import BeautifulSoup\n",
    "\n",
    "response_toi_entertainment = requests.get(url='https://timesofindia.indiatimes.com/entertainment/hindi', headers={'User-Agent':''})\n",
    "soup_toi_entertainment = BeautifulSoup(response_toi_entertainment.content, 'html.parser')\n",
    "\n",
    "links_toi_entertainment = []\n",
    "for link in soup_toi_entertainment.findAll('a', href=True):\n",
    "    links_toi_entertainment.append(link.get('href'))\n",
    "#print(len(links_toi_entertainment))\n",
    "#print(links_toi_entertainment)"
   ]
  },
  {
   "cell_type": "markdown",
   "metadata": {},
   "source": [
    "#### Finding only the relevant URLs from the list of all links.\n",
    "Now we have to filter only the links that are related to articles and that too only entertainment realted articles. I have used RegEx for this task. All the news articles have '.cms' type in the end and they contain '/entertainment/' so I made use of those two major things to find all the valid URLs.  "
   ]
  },
  {
   "cell_type": "code",
   "execution_count": 26,
   "metadata": {},
   "outputs": [],
   "source": [
    "import re\n",
    "txt_toi_entertainment = ' '.join(links_toi_entertainment)\n",
    "url_toi_entertainment_raw = re.findall(r'https://timesofindia.indiatimes.com/entertainment/hindi/[a-z0-9\\/\\.\\-\\:]*[0-9\\.]+cms|/entertainment/hindi/[a-z0-9\\/\\.\\-\\:]*[0-9\\.]+cms', txt_toi_entertainment)\n",
    "#print(len(url_toi_entertainment_raw))\n",
    "#print(url_toi_entertainment_raw)"
   ]
  },
  {
   "cell_type": "markdown",
   "metadata": {},
   "source": [
    "#### Removing duplicates\n",
    "There can be duplicates present so a simple task to remove duplicates is to convert the list to set, as we know set can't contain duplicates. And then change the set back to list."
   ]
  },
  {
   "cell_type": "code",
   "execution_count": 27,
   "metadata": {},
   "outputs": [
    {
     "data": {
      "text/plain": [
       "['/entertainment/hindi/bollywood/news/25-years-of-ddlj-karan-johar-shares-priceless-bts-photos-featuring-shah-rukh-khan-and-late-amrish-puri/articleshow/78765328.cms',\n",
       " '/entertainment/hindi/water-baby-lisa-haydon-makes-most-of-her-day-doing-what-she-loves-shares-her-latest-surfing-picture/videoshow/78746446.cms',\n",
       " '/entertainment/hindi/rajkummar-rao-and-bhumi-pednekar-to-start-shooting-for-badhaai-do-from-january-2021/videoshow/78760764.cms',\n",
       " '/entertainment/hindi/saqib-saleem-on-nepotism-debate-cant-virat-anushka-make-their-child-a-cricketer-or-an-actor/videoshow/78785083.cms',\n",
       " '/entertainment/hindi/ddlj-was-a-trendsetter-in-terms-of-fashion-styling-and-souvenirs/videoshow/78784473.cms',\n",
       " '/entertainment/hindi/movie-details/shakuntala-devi/movieshow/71146516.cms',\n",
       " '/entertainment/hindi/dolly-kitty-aur-woh-chamakte-sitare-official-trailer/videoshow/78189079.cms',\n",
       " '/entertainment/hindi/swara-bhasker-criticises-shah-rukh-khans-character-raj-malhotra-from-ddlj-says-it-makes-stalking-seem-romantic/videoshow/78784987.cms',\n",
       " '/entertainment/hindi/bollywood/news/geet-from-jab-we-met-to-vaidehi-from-badrinath-ki-dulhania-5-times-bollywood-characters-fled-their-homes-to-find-their-inner-calling/articleshow/78777893.cms',\n",
       " '/entertainment/hindi/this-adorable-picture-of-janhvi-kapoor-holding-her-pet-dog-is-all-things-love/videoshow/78784637.cms',\n",
       " '/entertainment/hindi/lootcase-official-trailer/videoshow/76994155.cms',\n",
       " '/entertainment/hindi/bollywood/news/swara-bhasker-criticises-shah-rukh-khans-character-raj-from-dilwale-dulhania-le-jayenge-it-makes-stalking-seem-romantic/articleshow/78782297.cms',\n",
       " '/entertainment/hindi/taapsee-pannu-spills-the-beans-about-her-recent-maldives-vacation-says-its-been-a-practice-for-me-to-take-a-little-holiday-between-two-projects/videoshow/78761985.cms',\n",
       " '/entertainment/hindi/bollywood/news/sushant-singh-rajput-case-rakul-preet-singh-confesses-to-chats-with-rhea-chakraborty-but-denies-consuming-drugs-in-ncb-probe/articleshow/78315429.cms',\n",
       " 'https://timesofindia.indiatimes.com/entertainment/hindi/web-stories/anushka-sharma-virat-kohlis-lovely-clicks/photostory/78747960.cms',\n",
       " 'https://timesofindia.indiatimes.com/entertainment/hindi/bollywood/news/25-years-of-ddlj-shah-rukh-khan-and-kajol-update-their-names-on-twitter-to-raj-and-simran/articleshow/78761945.cms',\n",
       " '/entertainment/hindi/sushant-singh-rajputs-sister-shweta-singh-kirti-worships-goddess-chandraghanta-on-day-3-day-of-navratri/videoshow/78760449.cms',\n",
       " 'https://timesofindia.indiatimes.com/entertainment/hindi/bollywood/news/alia-bhatt-shares-a-picture-of-her-bestie-akansha-ranjan-kapoor-amidst-their-workout-session/articleshow/78632066.cms',\n",
       " '/entertainment/hindi/movie-details/pm-narendra-modi/movieshow/67421720.cms',\n",
       " '/entertainment/hindi/bollywood/news/exclusive-im-a-small-town-girl-with-dreams-bigger-than-i-was-supposed-to-have-priyanka-chopra-jonas/articleshow/78797187.cms',\n",
       " '/entertainment/hindi/movie-details/gunjan-saxena-the-kargil-girl/movieshow/70889752.cms',\n",
       " '/entertainment/hindi/movie-details/sadak-2/movieshow/61980857.cms',\n",
       " '/entertainment/hindi/movie-details/pareeksha-the-final-test/movieshow/77386453.cms',\n",
       " '/entertainment/hindi/trouble-mounts-for-arjun-rampals-girlfriend-gabriella-demetriades-brother-agisilaos-demetriades-as-ndps-court-sends-him-to-judicial-custody-in-drugs-case/videoshow/78783480.cms',\n",
       " 'https://timesofindia.indiatimes.com/entertainment/hindi/bollywood/news/katrina-kaif-calls-2020-a-roller-coaster-ride-says-she-looks-at-this-year-as-an-opportunity-to-make-her-life-better/articleshow/78780658.cms',\n",
       " '/entertainment/hindi/movie-details/khaali-peeli/movieshow/70870829.cms',\n",
       " '/entertainment/hindi/abhishek-bachchan-rajkummar-rao-starrer-ludo-trailer-out-fans-get-impressed/videoshow/78760685.cms',\n",
       " '/entertainment/hindi/movie-details/lootcase/movieshow/69875221.cms',\n",
       " '/entertainment/hindi/nepotism-face-off-kangana-ranaut-blasts-pooja-bhatt-for-supporting-mahesh-bhatt-says-doesnt-give-your-father-a-license-to-throw-chappals/videoshow/76868514.cms',\n",
       " '/entertainment/hindi/bollywood/box-office/tanhaji-the-unsung-warrior-ajay-devgns-period-drama-tops-the-overseas-grossers-of-2020/articleshow/74861778.cms',\n",
       " '/entertainment/hindi/bollywood/previews/angrezi-medium/articleshow/74606385.cms',\n",
       " 'https://timesofindia.indiatimes.com/entertainment/hindi/bollywood/news/imran-khans-estranged-wife-avantika-malik-shares-a-cryptic-post-about-marriage-and-divorce-captions-it-serious-truth-bomb/articleshow/78768357.cms',\n",
       " '/entertainment/hindi/bollywood/previews/thappad/articleshow/74386867.cms',\n",
       " '/entertainment/hindi/bollywood/news/happy-birthday-parineeti-chopra-5-times-when-the-gorgeous-diva-channeled-her-inner-wanderlust/photostory/78801377.cms',\n",
       " '/entertainment/hindi/neha-kakkar-shares-adorable-video-from-her-roka-ceremony-with-beau-rohanpreet-singh/videoshow/78760429.cms',\n",
       " '/entertainment/hindi/bollywood/news/shweta-singh-kirti-urges-sushant-singh-rajputs-fans-to-feed-the-hungry-one-of-the-best-pious-ways-to-show-support/articleshow/78780338.cms',\n",
       " '/entertainment/hindi/bollywood/did-you-know/did-you-know-sushant-singh-rajput-was-a-background-dancer-for-aishwarya-rai-bachchan-in-2006/articleshow/76459940.cms',\n",
       " '/entertainment/hindi/falguni-pathak-gets-teary-eyed-misses-doing-concerts-during-navratri-this-year/videoshow/78782417.cms',\n",
       " '/entertainment/hindi/movie-reviews/gunjan-saxena-the-kargil-girl/movie-review/77458279.cms',\n",
       " '/entertainment/hindi/movie-reviews/lootcase/movie-review/77274108.cms',\n",
       " '/entertainment/hindi/movie-reviews/gulabo-sitabo/movie-review/76328770.cms',\n",
       " '/entertainment/hindi/bollywood/did-you-know/did-you-know-salman-khan-had-helped-hrithik-roshan-to-prep-for-his-debut-film-kaho-naa-pyaar-hai/articleshow/75997187.cms',\n",
       " '/entertainment/hindi/bollywood/previews/baaghi-3/articleshow/74574574.cms',\n",
       " '/entertainment/hindi/aditya-narayan-questions-neha-kakkar-and-rohanpreet-singhs-wedding-says-its-very-strange/videoshow/78784275.cms',\n",
       " '/entertainment/hindi/sandeep-aur-pinky-faraar-official-trailer/videoshow/74474729.cms',\n",
       " 'https://timesofindia.indiatimes.com/entertainment/hindi/bollywood/news/kartik-aaryan-wants-to-make-a-film-with-his-new-regal-look-and-this-is-what-janhvi-kapoor-has-to-say/articleshow/78782754.cms',\n",
       " 'https://timesofindia.indiatimes.com/entertainment/hindi/bollywood/news/throwback-kajol-and-shah-rukh-khans-epic-response-when-asked-about-aryan-khan-eloping-with-nysa/articleshow/78751872.cms',\n",
       " '/entertainment/hindi/bollywood/news/19-years-of-rehnaa-hai-terre-dil-mein-r-madhavan-gets-nostalgic-as-he-shares-a-throwback-video-thanks-fans-for-the-affection/articleshow/78766439.cms',\n",
       " '/entertainment/hindi/amrita-rao-is-getting-princess-treatment-from-hubby-rj-anmol-as-they-gear-up-to-become-first-time-parents/videoshow/78788088.cms',\n",
       " '/entertainment/hindi/bollywood/news/saif-ali-khan-finally-breaks-his-silence-over-rumours-of-distancing-himself-from-sara-ali-khan-after-the-ncb-drug-scandal-says-he-is-always-there-for-his-kids/articleshow/78525764.cms',\n",
       " 'https://timesofindia.indiatimes.com/entertainment/hindi/bollywood/news/five-times-when-mom-to-be-anushka-sharma-impressed-us-with-her-maternity-style/photostory/78746382.cms',\n",
       " '/entertainment/hindi/bollywood/previews/jawaani-jaaneman/articleshow/74384479.cms',\n",
       " 'https://timesofindia.indiatimes.com/entertainment/hindi/bollywood/news/radhe-shyam-prabhas-looks-classy-and-dashing-as-vikramaditya-in-his-first-look-poster/articleshow/78783998.cms',\n",
       " '/entertainment/hindi/anushka-sharma-flaunts-her-baby-bump-in-these-beautiful-sunkissed-pictures-shekhar-suman-praises-sushant-singh-rajputs-exemplary-work-in-an-emotional-post-and-more-/videoshow/78746474.cms',\n",
       " '/entertainment/hindi/katrina-kaif-calls-2020-a-year-of-introspection-urges-people-to-switch-on-the-sunshine-that-lies-within/videoshow/78784732.cms',\n",
       " 'https://timesofindia.indiatimes.com/entertainment/hindi/web-stories/celebs-who-got-tattoos-for-their-partner/photostory/78788482.cms',\n",
       " '/entertainment/hindi/music/i-dont-know-why-there-is-a-fixation-with-remixes-kk/articleshow/74673504.cms',\n",
       " 'https://timesofindia.indiatimes.com/entertainment/hindi/bollywood/news/14-years-of-don-farhan-akhtar-celebrates-the-shah-rukh-khan-priyanka-chopra-starrer-while-fans-request-for-don-3/articleshow/78763045.cms',\n",
       " 'https://timesofindia.indiatimes.com/entertainment/hindi/bollywood/news/katrina-kaifs-superhero-film-with-ali-abbas-zafar-to-be-shot-across-three-four-countries/articleshow/78783110.cms',\n",
       " '/entertainment/hindi/top-10/salman-khan-to-shah-rukh-khan-top-10-celebrity-cameos-that-stole-all-the-attention/photostory/78698721.cms',\n",
       " '/entertainment/hindi/bollywood/news/when-saif-ali-khan-had-to-buy-back-pataudi-palace-with-money-earned-from-films/articleshow/78730541.cms',\n",
       " 'https://timesofindia.indiatimes.com/entertainment/hindi/bollywood/news/monday-motivation-kareena-kapoor-khans-happy-face-at-work-is-the-best-thing-you-will-see-on-internet-today/articleshow/78745732.cms',\n",
       " 'https://timesofindia.indiatimes.com/entertainment/hindi/bollywood/news/swara-bhasker-criticises-shah-rukh-khans-character-raj-from-dilwale-dulhania-le-jayenge-it-makes-stalking-seem-romantic/articleshow/78782297.cms',\n",
       " '/entertainment/hindi/bollywood/box-office/when-shah-rukh-khan-and-akshay-kumar-clashed-at-the-box-office-for-the-first-time-read-details/articleshow/74847483.cms',\n",
       " '/entertainment/hindi/ileana-dcruz-opens-up-about-having-limited-friends-from-film-industry/videoshow/78760396.cms',\n",
       " '/entertainment/hindi/25-years-of-dilwale-dulhania-le-jayenge-shah-rukh-khan-kajols-statue-to-be-part-of-londons-scenes-in-the-square/videoshow/78744725.cms',\n",
       " 'https://timesofindia.indiatimes.com/entertainment/hindi/bollywood/news/varun-dhawan-is-mighty-impressed-as-indonesian-fans-recreate-his-and-shraddha-kapoors-song-sun-saathiya-from-abcd-2/articleshow/78781147.cms',\n",
       " '/entertainment/hindi/top-10/from-priyanka-chopra-jonas-to-angelina-jolie-to-beyonc-celebs-who-admitted-they-cant-cook-up-a-storm-save-their-lives/photostory/78698571.cms',\n",
       " '/entertainment/hindi/when-helen-opened-up-about-marrying-salman-khans-father-salim-khan/videoshow/78784000.cms',\n",
       " '/entertainment/hindi/bollywood/did-you-know/did-you-know-ajay-devgn-was-not-the-first-choice-to-play-the-role-of-kaali-pratap-singh-in-kaal/articleshow/76702942.cms',\n",
       " 'https://timesofindia.indiatimes.com/entertainment/hindi/bollywood/news/shweta-singh-kirti-urges-sushant-singh-rajputs-fans-to-feed-the-hungry-one-of-the-best-pious-ways-to-show-support/articleshow/78780338.cms',\n",
       " '/entertainment/hindi/kangana-ranaut-reveals-how-sister-rangoli-borrows-her-sari-and-never-returns-calls-it-seizing/videoshow/78745912.cms',\n",
       " '/entertainment/hindi/movie-details/dolly-kitty-aur-woh-chamakte-sitare/movieshow/66220491.cms',\n",
       " '/entertainment/hindi/movie-reviews/khuda-haafiz/movie-review/77544794.cms',\n",
       " '/entertainment/hindi/bollywood/did-you-know/did-you-know-karan-johar-approached-chandrachur-singh-for-salman-khans-role-in-kuch-kuch-hota-hai/articleshow/76477765.cms',\n",
       " '/entertainment/hindi/movie-reviews/khaali-peeli/movie-review/78443276.cms',\n",
       " 'https://timesofindia.indiatimes.com/entertainment/hindi/bollywood/news/saqib-saleem-opens-up-about-the-nepotism-debate-in-bollywood-says-cant-virat-kohli-and-anushka-sharma-make-their-child-a-cricketer-or-an-actor/articleshow/78781139.cms',\n",
       " '/entertainment/hindi/bollywood/news/kareena-kapoor-khan-to-gal-gadot-actresses-who-concealed-their-baby-bump-on-screen-using-vfx/photostory/78498035.cms',\n",
       " '/entertainment/hindi/bollywood/news/saqib-saleem-opens-up-about-the-nepotism-debate-in-bollywood-says-cant-virat-kohli-and-anushka-sharma-make-their-child-a-cricketer-or-an-actor/articleshow/78781139.cms',\n",
       " '/entertainment/hindi/bollywood/news/shahid-kapoor-flaunts-his-chiselled-jawline-in-his-latest-instagram-selfie-video/articleshow/78799486.cms',\n",
       " 'https://timesofindia.indiatimes.com/entertainment/hindi/bollywood/news/kangana-ranaut-slams-ill-mannered-city-brats-come-to-himachal-pradesh-but-dont-throw-plastic-around/articleshow/78784218.cms',\n",
       " '/entertainment/hindi/bollywood/news/kangana-ranaut-reacts-to-summons-by-mumbai-police-says-youre-missing-me-so-much-dont-worry-i-will-be-there-soon/articleshow/78802736.cms',\n",
       " '/entertainment/hindi/watch-ankita-lokhande-leaves-fans-bewitched-with-her-new-dance-video/videoshow/78783255.cms',\n",
       " '/entertainment/hindi/kangana-ranauts-pictures-with-brother-aksht-is-giving-us-major-sibling-goals/videoshow/78760905.cms',\n",
       " 'https://timesofindia.indiatimes.com/entertainment/hindi/bollywood/news/25-years-of-ddlj-10-best-moments-from-shah-rukh-khan-kajol-starrer/articleshow/78764791.cms',\n",
       " '/entertainment/hindi/bollywood/news/katrina-kaifs-superhero-film-with-ali-abbas-zafar-to-be-shot-across-three-four-countries/articleshow/78783110.cms',\n",
       " '/entertainment/hindi/bollywood/news/katrina-kaif-calls-2020-a-roller-coaster-ride-says-she-looks-at-this-year-as-an-opportunity-to-make-her-life-better/articleshow/78780658.cms',\n",
       " '/entertainment/hindi/suhana-khans-grandmothers-young-age-photo-surfaces-on-twitter-this-is-what-the-star-kids-fans-have-to-say/videoshow/78747356.cms',\n",
       " '/entertainment/hindi/bollywood/news/monday-motivation-kareena-kapoor-khans-happy-face-at-work-is-the-best-thing-you-will-see-on-internet-today/articleshow/78745732.cms',\n",
       " '/entertainment/hindi/sadak-2-official-trailer/videoshow/77498263.cms',\n",
       " '/entertainment/hindi/vaani-kapoor-flaunts-her-post-workout-glow-as-she-starts-prep-of-her-next-film/videoshow/78783933.cms',\n",
       " '/entertainment/hindi/movie-reviews/shakuntala-devi/movie-review/77269254.cms',\n",
       " 'https://timesofindia.indiatimes.com/entertainment/hindi/bollywood/news/dharmendra-shares-a-glimpse-from-sunny-deols-64th-birthday-celebrations-in-true-deol-style/articleshow/78760635.cms',\n",
       " '/entertainment/hindi/movie-reviews/dolly-kitty-aur-woh-chamakte-sitare/movie-review/78187062.cms',\n",
       " '/entertainment/hindi/music/sanjeeda-shaikh-collaborates-with-musician-jigar-saraiya-for-a-pop-music-video/articleshow/70839872.cms',\n",
       " '/entertainment/hindi/did-you-know-shah-rukh-khan-was-once-beaten-up-by-boys-in-delhi/videoshow/78745831.cms',\n",
       " '/entertainment/hindi/bollywood/did-you-know/did-you-know-rana-daggubati-made-a-cameo-in-this-ranbir-kapoor-and-deepika-padukone-starrer-film/articleshow/75864361.cms',\n",
       " '/entertainment/hindi/shilpa-shetty-gorges-on-hot-jalebis-says-cold-weather-and-hot-jalebi-are-like-matches-that-truly-made-in-heaven/videoshow/78760295.cms',\n",
       " '/entertainment/hindi/after-simmba-ranveer-singh-and-rohit-shetty-are-back-with-cirkus/videoshow/78744736.cms',\n",
       " '/entertainment/hindi/bollywood/news/priyanka-chopra-smooching-hubby-nick-jonas-in-this-adorable-picture-is-too-cute-to-miss/articleshow/78800469.cms',\n",
       " '/entertainment/hindi/movie-details/khuda-hafiz/movieshow/71576796.cms',\n",
       " '/entertainment/hindi/top-10/akshay-kumar-to-deepika-padukone-top-10-celebs-who-resumed-work-in-the-new-normal/photostory/78328415.cms',\n",
       " '/entertainment/hindi/aditya-narayan-and-shweta-agarwal-to-get-married-in-a-simple-temple-on-december-1-2020/videoshow/78746025.cms',\n",
       " '/entertainment/hindi/bollywood/box-office/salman-khan-vs-shah-rukh-khan-find-out-which-superstar-has-delivered-the-most-number-of-rs-100-crore-films-at-the-box-office/articleshow/76075627.cms',\n",
       " 'https://timesofindia.indiatimes.com/entertainment/hindi/bollywood/news/farida-jalals-candid-interview-makers-of-mammo-told-me-they-had-waheeda-rehman-in-mind/articleshow/78756437.cms',\n",
       " '/entertainment/hindi/bollywood/news/sunny-leone-pens-a-heartfelt-note-on-her-daughter-nisha-kaur-webers-birthday-i-cant-believe-you-are-going-to-be-5/articleshow/78658934.cms',\n",
       " '/entertainment/hindi/good-news-sanjay-dutt-is-responding-well-to-the-cancer-treatment-reveals-a-close-family-member/videoshow/78756736.cms',\n",
       " '/entertainment/hindi/bollywood/news/are-makers-of-salman-khan-starrer-radhe-your-most-wanted-bhai-aiming-at-eid-2021-release/articleshow/78802242.cms',\n",
       " '/entertainment/hindi/bollywood/box-office/first-quarter-box-office-report-ajay-devgns-tanhaji-the-unsung-warrior-dominates-as-bollywood-earns-a-total-of-rs-732-63-crore/articleshow/74963277.cms',\n",
       " '/entertainment/hindi/bollywood/news/five-times-when-mom-to-be-anushka-sharma-impressed-us-with-her-maternity-style/photostory/78746382.cms',\n",
       " '/entertainment/hindi/bollywood/news/shammi-kapoor-birth-anniversary-five-lesser-known-facts-about-the-elvis-presley-of-bollywood/photostory/78770664.cms',\n",
       " '/entertainment/hindi/bollywood/news/imran-khans-estranged-wife-avantika-malik-shares-a-cryptic-post-about-marriage-and-divorce-captions-it-serious-truth-bomb/articleshow/78768357.cms',\n",
       " 'https://timesofindia.indiatimes.com/entertainment/hindi/bollywood/news/photos-vidya-balan-resumes-sherni-shoot-in-madhya-pradesh-with-a-pooja/articleshow/78784655.cms',\n",
       " '/entertainment/hindi/bollywood/box-office/shah-rukh-khan-vs-hrithik-roshan-find-out-which-actor-has-delivered-most-rs-100-crore-films-at-the-box-office/articleshow/75556974.cms',\n",
       " '/entertainment/hindi/movie-reviews/dil-bechara/movie-review/77155182.cms',\n",
       " '/entertainment/hindi/bollywood/news/throwback-kajol-and-shah-rukh-khans-epic-response-when-asked-about-aryan-khan-eloping-with-nysa/articleshow/78751872.cms',\n",
       " '/entertainment/hindi/mommy-to-be-anushka-sharma-looks-adorable-in-peach-dungaree-as-she-enjoys-her-day-basking-in-the-sun-flaunting-her-baby-bump/videoshow/78744839.cms',\n",
       " '/entertainment/hindi/bollywood/previews/bhoot-part-one-the-haunted-ship/articleshow/74386457.cms',\n",
       " '/entertainment/hindi/bollywood/news/hrithik-roshans-mother-pinkie-roshan-shares-a-post-for-sushant-singh-rajput-everyone-wants-the-truth-but-no-one-wants-to-be-honest/articleshow/78800040.cms',\n",
       " 'https://timesofindia.indiatimes.com/entertainment/hindi/bollywood/news/pooja-hegde-expresses-her-excitement-as-she-gets-on-board-for-cirkus-calls-ranveer-singh-and-rohit-shetty-a-super-talented-and-energetic-duo/articleshow/78759439.cms',\n",
       " '/entertainment/hindi/bollywood/previews/shubh-mangal-zyada-saavdhan/articleshow/74386697.cms',\n",
       " '/entertainment/hindi/movie-details/the-pickup-artist/movieshow/78680188.cms',\n",
       " '/entertainment/hindi/bollywood/box-office/deepika-padukone-vs-katrina-kaif-find-out-which-diva-has-delivered-the-most-number-of-rs-100-crore-films-at-the-box-office/articleshow/75833836.cms',\n",
       " '/entertainment/hindi/bollywood/did-you-know/did-you-know-karan-johar-marked-his-debut-with-a-tv-show-and-not-dilwale-dulhania-le-jayenge/articleshow/75965486.cms',\n",
       " 'https://timesofindia.indiatimes.com/entertainment/hindi/bollywood/news/after-ileana-dcruz-varun-dhawan-digs-out-a-hilarious-picture-to-birthday-wish-his-mai-tera-hero-co-star-nargis-fakhri/articleshow/78783622.cms',\n",
       " '/entertainment/hindi/bollywood/news/salman-khan-katrina-kaif-to-ranbir-kapoor-alia-bhatt-bollywood-celebs-look-aww-dorable-with-baby-face-filter/articleshow/78801295.cms',\n",
       " '/entertainment/hindi/movie-reviews/sadak-2/movie-review/77810897.cms',\n",
       " 'https://timesofindia.indiatimes.com/entertainment/hindi/bollywood/news/geet-from-jab-we-met-to-vaidehi-from-badrinath-ki-dulhania-5-times-bollywood-characters-fled-their-homes-to-find-their-inner-calling/articleshow/78777893.cms',\n",
       " '/entertainment/hindi/swara-bhasker-lets-her-hair-down-at-uncles-wedding-amid-pandemic-dances-to-sridevis-navrai-majhi-from-english-vinglish/videoshow/76867676.cms',\n",
       " '/entertainment/hindi/gulabo-sitabo-official-trailer/videoshow/76032172.cms',\n",
       " '/entertainment/hindi/bollywood/news/mom-to-be-kareena-kapoor-khan-shares-a-stunning-picture-with-team-as-she-celebrates-her-last-day-on-the-sets-of-laal-singh-chaddha/articleshow/78663592.cms',\n",
       " 'https://timesofindia.indiatimes.com/entertainment/hindi/bollywood/news/shammi-kapoor-birth-anniversary-five-lesser-known-facts-about-the-elvis-presley-of-bollywood/photostory/78770471.cms',\n",
       " '/entertainment/hindi/bollywood/news/varun-dhawan-is-mighty-impressed-as-indonesian-fans-recreate-his-and-shraddha-kapoors-song-sun-saathiya-from-abcd-2/articleshow/78781147.cms',\n",
       " '/entertainment/hindi/music/news/neha-kakkar-ft-jaanis-jinke-liye-is-a-tale-of-treachery-that-will-break-your-heart/articleshow/74907162.cms',\n",
       " 'https://timesofindia.indiatimes.com/entertainment/hindi/bollywood/news/throwback-kareena-kapoor-khan-aces-no-make-up-look-like-a-pro-as-she-poses-with-her-fans/articleshow/78782957.cms',\n",
       " '/entertainment/hindi/bollywood/news/happy-birthday-parineeti-chopra-top-5-films-of-the-talented-actress-which-excelled-at-the-box-office/photostory/78798789.cms',\n",
       " '/entertainment/hindi/dil-bechara-official-trailer/videoshow/76813358.cms']"
      ]
     },
     "execution_count": 27,
     "metadata": {},
     "output_type": "execute_result"
    }
   ],
   "source": [
    "url_toi_entertainment_raw = set(url_toi_entertainment_raw)\n",
    "url_toi_entertainment_raw = list(url_toi_entertainment_raw)\n",
    "#print(len(url_toi_entertainment_raw))\n",
    "url_toi_entertainment_raw"
   ]
  },
  {
   "cell_type": "markdown",
   "metadata": {},
   "source": [
    "#### Filtering without header URLs and adding header\n",
    "As you can notice above that there are many URLs which doesn't start with https or even www, rather they start from the category like '/entertainment/india-entertainment/sensex-drops-over-100-points-in-opening-trade-nifty-below-11650/articleshow/78527429.cms'. Now for such links we will have to use RegEx to substitute https://timesofindia.indiatimes.com in the beginning. That is what is done in next code snippet."
   ]
  },
  {
   "cell_type": "code",
   "execution_count": 28,
   "metadata": {},
   "outputs": [],
   "source": [
    "url_toi_entertainment = []\n",
    "url_toi_entertainment = [re.sub(r'(?<![a-z/:])(/entertainment/hindi/[a-z0-9/.:-]*[0-9.]+cms)', r'https://timesofindia.indiatimes.com\\1', without_header) for without_header in url_toi_entertainment_raw]\n",
    "#print(len(url_toi_entertainment))\n",
    "#print(url_toi_entertainment)"
   ]
  },
  {
   "cell_type": "markdown",
   "metadata": {},
   "source": [
    "#### Cached Previous day URL to compare against the new URL\n",
    "All the links present here can have duplicates from previous day or few days back. So, we have to make comparison with the URLs that we already have to find any redundant article. We can use our traditional filesystem to get the URLs from cached file."
   ]
  },
  {
   "cell_type": "markdown",
   "metadata": {},
   "source": [
    "#### Compare against cached URLs to find only new links for today"
   ]
  },
  {
   "cell_type": "code",
   "execution_count": 29,
   "metadata": {},
   "outputs": [],
   "source": [
    "cached_url_toi_entertainment = []\n",
    "with open('./data/times_of_india/cached_url_toi_entertainment.txt', 'r') as filehandle:\n",
    "    for line in filehandle:\n",
    "        # remove linebreak which is the last character of the string\n",
    "        currentPlace = line[:-1]\n",
    "\n",
    "        # add item to the list\n",
    "        cached_url_toi_entertainment.append(currentPlace)"
   ]
  },
  {
   "cell_type": "code",
   "execution_count": 30,
   "metadata": {},
   "outputs": [
    {
     "data": {
      "text/plain": [
       "473"
      ]
     },
     "execution_count": 30,
     "metadata": {},
     "output_type": "execute_result"
    }
   ],
   "source": [
    "len(cached_url_toi_entertainment)"
   ]
  },
  {
   "cell_type": "code",
   "execution_count": 31,
   "metadata": {},
   "outputs": [],
   "source": [
    "latest_url_toi_entertainment = list(set(url_toi_entertainment) - set(cached_url_toi_entertainment))\n",
    "\n",
    "#print(len(latest_url_toi_entertainment))\n",
    "#print(latest_url_toi_entertainment)"
   ]
  },
  {
   "cell_type": "markdown",
   "metadata": {},
   "source": [
    "#### Cache the latest URL for future comparisons"
   ]
  },
  {
   "cell_type": "code",
   "execution_count": 32,
   "metadata": {},
   "outputs": [],
   "source": [
    "with open('./data/times_of_india/cached_url_toi_entertainment.txt', 'a') as filehandle:\n",
    "    for listitem in latest_url_toi_entertainment:\n",
    "        filehandle.write('%s\\n' % listitem)"
   ]
  },
  {
   "cell_type": "markdown",
   "metadata": {},
   "source": [
    "### Politics "
   ]
  },
  {
   "cell_type": "markdown",
   "metadata": {},
   "source": [
    "Initial stage is collecting links from a particular URL, here I have taken politics news in particular from Times of India. the reason for doing this manual labour for each category is to save the categorization(classifcation) training process for our model. The euqivalent of this would have been a huge task itself because we would have to label the news on our own and then classify it, which still might not have give us as accurate as this manual method."
   ]
  },
  {
   "cell_type": "markdown",
   "metadata": {},
   "source": [
    "Here we have collected all the links using Beautifulsoup library for url : https://timesofindia.indiatimes.com/politics. The links are annotated by href in html."
   ]
  },
  {
   "cell_type": "code",
   "execution_count": 33,
   "metadata": {},
   "outputs": [],
   "source": [
    "import re\n",
    "import requests\n",
    "from bs4 import BeautifulSoup\n",
    "\n",
    "response_toi_politics = requests.get(url='https://timesofindia.indiatimes.com/politics/news', headers={'User-Agent':''})\n",
    "soup_toi_politics = BeautifulSoup(response_toi_politics.content, 'html.parser')\n",
    "\n",
    "links_toi_politics = []\n",
    "for link in soup_toi_politics.findAll('a', href=True):\n",
    "    links_toi_politics.append(link.get('href'))\n",
    "#print(len(links_toi_politics))\n",
    "#print(links_toi_politics)"
   ]
  },
  {
   "cell_type": "markdown",
   "metadata": {},
   "source": [
    "#### Finding only the relevant URLs from the list of all links.\n",
    "Now we have to filter only the links that are related to articles and that too only politics realted articles. I have used RegEx for this task. All the news articles have '.cms' type in the end and they contain '/politics/' so I made use of those two major things to find all the valid URLs.  "
   ]
  },
  {
   "cell_type": "code",
   "execution_count": 34,
   "metadata": {},
   "outputs": [],
   "source": [
    "import re\n",
    "txt_toi_politics = ' '.join(links_toi_politics)\n",
    "url_toi_politics_raw = re.findall(r'https://timesofindia.indiatimes.com/politics/news/[a-z0-9\\/\\.\\-\\:]*[0-9\\.]+cms|/politics/[a-z0-9\\/\\.\\-\\:]*[0-9\\.]+cms', txt_toi_politics)\n",
    "#print(len(url_toi_politics_raw))\n",
    "#print(url_toi_politics_raw)"
   ]
  },
  {
   "cell_type": "markdown",
   "metadata": {},
   "source": [
    "#### Removing duplicates\n",
    "There can be duplicates present so a simple task to remove duplicates is to convert the list to set, as we know set can't contain duplicates. And then change the set back to list."
   ]
  },
  {
   "cell_type": "code",
   "execution_count": 35,
   "metadata": {},
   "outputs": [
    {
     "data": {
      "text/plain": [
       "['/politics/news/rivals-belt-out-songs-hope-theyre-music-to-voters-ears/articleshow/78651121.cms',\n",
       " '/politics/news/bihar-polls-chirag-releases-ljp-manifesto-bihar-first-bihari-first/articleshow/78789444.cms',\n",
       " '/politics/news/rectify-mistake-focus-on-ensuring-justice-to-hathras-victims-family-mayawati-tells-up-govt/articleshow/78506998.cms',\n",
       " '/politics/news/item-remark-row-did-not-insult-anyone-claims-kamal-nath-bjp-holds-silent-protest/articleshow/78748488.cms',\n",
       " '/politics/news/farooq-calls-gupkar-declaration-meeting-today-mehbooba-to-attend/articleshow/78672261.cms',\n",
       " '/politics/news/bjp-backs-nitish-in-bihar-snubs-ljp/articleshow/78524425.cms',\n",
       " '/politics/news/mamata-invokes-sc-ruling-to-block-bjp-march-street-battles-rage-in-kolkata/articleshow/78564743.cms',\n",
       " '/politics/news/will-congress-cross-the-rubicon-declare-priyanka-cm-candidate/articleshow/78695875.cms',\n",
       " '/politics/news/modi-at-key-bjp-meet-to-finalise-candidates-for-bihar-election/articleshow/78598082.cms',\n",
       " '/politics/news/adhir-ranjan-chowdhury-questions-pm-modis-silence-over-hathras-rape-case/articleshow/78490059.cms',\n",
       " '/politics/news/udit-raj-restores-tweet-questioning-kumbh-mela-spend-after-removing-it-briefly-bjp-seeks-answers-from-priyanka/articleshow/78680443.cms',\n",
       " '/politics/news/g23-to-take-stand-on-issues-expose-gaps-in-congress-strategy/articleshow/78652407.cms',\n",
       " '/politics/news/nadda-hits-out-at-rahul-chidambaram-says-divide-india-dirty-tricks/articleshow/78715968.cms',\n",
       " '/politics/news/oppn-picking-cases-with-vote-banks-in-mind-nadda-on-hathras-protests/articleshow/78524998.cms',\n",
       " '/politics/news/ram-vilas-paswan-a-mainstream-dalit-leader-who-couldnt-be-rebel/articleshow/78564641.cms',\n",
       " '/politics/news/edappadi-k-palaniswami-is-aiadmks-cm-candidate-in-tamil-nadu-panneerselvam-announces/articleshow/78527578.cms',\n",
       " '/politics/news/sc-rejects-pil-seeking-dismissal-of-maharashtra-govt/articleshow/78698566.cms',\n",
       " '/politics/news/g-23-signatories-stand-by-reforms-demand-congress-manish-tewari/articleshow/78525208.cms',\n",
       " '/politics/news/over-50000-voters-opt-for-postal-ballot-in-first-phase-of-bihar-polls/articleshow/78630370.cms',\n",
       " '/politics/news/buzz-of-ysrc-joining-nda-as-jagan-set-to-meet-modi/articleshow/78504366.cms',\n",
       " '/politics/news/bihar-polls-ec-reiterates-need-to-maintain-crowd-discipline-during-electioneering/articleshow/78788720.cms',\n",
       " '/politics/news/bihar-polls-peoples-trust-in-pm-modi-will-benefit-bjp-and-allies-says-fadnavis/articleshow/78731982.cms',\n",
       " '/politics/news/piyush-goyal-gets-additional-charge-of-food-ministry/articleshow/78570340.cms',\n",
       " '/politics/news/bjp-leaders-cabinet-members-laud-modi-as-he-enters-20th-year-as-head-of-elected-government/articleshow/78536656.cms',\n",
       " '/politics/news/mayawati-slams-kamal-nath-over-sexist-remarks-demands-apology-from-congress/articleshow/78749323.cms',\n",
       " '/politics/news/rahul-mocks-pms-water-from-air-idea-bjp-hits-back/articleshow/78584124.cms',\n",
       " '/politics/news/jdu-issues-list-of-candidates-lalus-samdhi-to-contest-from-nitish-party/articleshow/78537971.cms',\n",
       " '/politics/news/randeep-surjewala-to-head-congress-bihar-poll-panel/articleshow/78610999.cms',\n",
       " '/politics/news/bjp-will-keep-fighting-didis-dictatorial-rule/articleshow/78564525.cms',\n",
       " '/politics/news/modi-not-bothered-about-whats-happening-in-country-only-protects-his-image-rahul/articleshow/78520799.cms',\n",
       " '/politics/news/congress-seeks-b-s-yeddiyurappas-ouster-over-corruption-by-kin/articleshow/78611066.cms',\n",
       " '/politics/news/pm-modi-to-address-at-least-nine-physical-rallies-in-bihar/articleshow/78651105.cms',\n",
       " '/politics/news/hardeep-puri-arun-singh-neeraj-shekhar-laxmi-kant-bjp-probables-for-rs/articleshow/78677761.cms',\n",
       " '/politics/news/bjp-names-16-for-bypolls-in-five-states/articleshow/78611071.cms',\n",
       " '/politics/news/khushbu-sundar-quits-congress-and-joins-bjp-says-nation-needs-modi/articleshow/78630525.cms',\n",
       " '/politics/news/judge-me-by-work-of-15-years-vote-nitish-urges-voters/articleshow/78630459.cms',\n",
       " '/politics/news/why-is-pm-silent-on-economic-setbacks-chinese-intrusion-covid-crisis-adhir/articleshow/78788593.cms',\n",
       " '/politics/news/bjp-an-evil-force-biggest-pandemic-mamata-banerjee/articleshow/78622318.cms',\n",
       " '/politics/news/bihar-polls-naddas-rally-in-gaya-is-first-in-covid-time/articleshow/78610993.cms',\n",
       " '/politics/news/axe-cm-or-give-us-bigger-role-tripura-bjp-rebels-tell-party/articleshow/78629640.cms',\n",
       " '/politics/news/shiv-sena-asks-pm-modi-amit-shah-to-recall-maharashtra-governor/articleshow/78677035.cms',\n",
       " '/politics/news/bihar-polls-bjp-suspends-6-turncoats-ljps-2nd-list-may-have-more-rebels/articleshow/78630360.cms',\n",
       " '/politics/news/bihar-congress-president-absent-from-manifesto-launch-cites-mlc-election/articleshow/78787630.cms',\n",
       " '/politics/news/maha-guv-could-have-been-restrained-in-choice-of-words-to-uddhav-amit-shah/articleshow/78728271.cms',\n",
       " '/politics/news/congress-manifesto-promises-10-lakh-jobs-farm-loan-waiver-rs-1500-unemployment-allowance/articleshow/78788927.cms',\n",
       " '/politics/news/no-article-370-means-license-to-buy-property-in-kashmir-yogi-at-bihar-rallies/articleshow/78790503.cms',\n",
       " '/politics/news/rahul-gandhi-doesnt-even-know-when-different-crops-are-sown-harvested-mukhtar-abbas-naqvi/articleshow/78532214.cms',\n",
       " '/politics/news/law-and-order-nosediving-alarmingly-in-bengal-governor-dhankhar/articleshow/78492251.cms',\n",
       " '/politics/news/ljps-second-list-of-candidates-may-include-some-bjp-leaders/articleshow/78630441.cms',\n",
       " '/politics/news/controversy-over-sikh-mans-turban-being-pulled-bjp-slams-wb-govt-cops-say-it-fell-off-automatically-in-scuffle/articleshow/78581799.cms']"
      ]
     },
     "execution_count": 35,
     "metadata": {},
     "output_type": "execute_result"
    }
   ],
   "source": [
    "url_toi_politics_raw = set(url_toi_politics_raw)\n",
    "url_toi_politics_raw = list(url_toi_politics_raw)\n",
    "#print(len(url_toi_politics_raw))\n",
    "url_toi_politics_raw"
   ]
  },
  {
   "cell_type": "markdown",
   "metadata": {},
   "source": [
    "#### Filtering without header URLs and adding header\n",
    "As you can notice above that there are many URLs which doesn't start with https or even www, rather they start from the category like '/politics/india-politics/sensex-drops-over-100-points-in-opening-trade-nifty-below-11650/articleshow/78527429.cms'. Now for such links we will have to use RegEx to substitute https://timesofindia.indiatimes.com in the beginning. That is what is done in next code snippet."
   ]
  },
  {
   "cell_type": "code",
   "execution_count": 36,
   "metadata": {},
   "outputs": [],
   "source": [
    "url_toi_politics = []\n",
    "url_toi_politics = [re.sub(r'(?<![a-z/:])(/politics/news/[a-z0-9/.:-]*[0-9.]+cms)', r'https://timesofindia.indiatimes.com\\1', without_header) for without_header in url_toi_politics_raw]\n",
    "#print(len(url_toi_politics))\n",
    "#print(url_toi_politics)"
   ]
  },
  {
   "cell_type": "markdown",
   "metadata": {},
   "source": [
    "#### Cached Previous day URL to compare against the new URL\n",
    "All the links present here can have duplicates from previous day or few days back. So, we have to make comparison with the URLs that we already have to find any redundant article. We can use our traditional filesystem to get the URLs from cached file."
   ]
  },
  {
   "cell_type": "markdown",
   "metadata": {},
   "source": [
    "#### Compare against cached URLs to find only new links for today"
   ]
  },
  {
   "cell_type": "code",
   "execution_count": 37,
   "metadata": {},
   "outputs": [],
   "source": [
    "cached_url_toi_politics = []\n",
    "with open('./data/times_of_india/cached_url_toi_politics.txt', 'r') as filehandle:\n",
    "    for line in filehandle:\n",
    "        # remove linebreak which is the last character of the string\n",
    "        currentPlace = line[:-1]\n",
    "\n",
    "        # add item to the list\n",
    "        cached_url_toi_politics.append(currentPlace)"
   ]
  },
  {
   "cell_type": "code",
   "execution_count": 38,
   "metadata": {},
   "outputs": [
    {
     "data": {
      "text/plain": [
       "82"
      ]
     },
     "execution_count": 38,
     "metadata": {},
     "output_type": "execute_result"
    }
   ],
   "source": [
    "len(cached_url_toi_politics)"
   ]
  },
  {
   "cell_type": "code",
   "execution_count": 39,
   "metadata": {},
   "outputs": [],
   "source": [
    "latest_url_toi_politics = list(set(url_toi_politics) - set(cached_url_toi_politics))\n",
    "#print(len(latest_url_toi_politics))\n",
    "#print(latest_url_toi_politics)"
   ]
  },
  {
   "cell_type": "markdown",
   "metadata": {},
   "source": [
    "#### Cache the latest URL for future comparisons"
   ]
  },
  {
   "cell_type": "code",
   "execution_count": 40,
   "metadata": {},
   "outputs": [],
   "source": [
    "with open('./data/times_of_india/cached_url_toi_politics.txt', 'a') as filehandle:\n",
    "    for listitem in latest_url_toi_politics:\n",
    "        filehandle.write('%s\\n' % listitem)"
   ]
  },
  {
   "cell_type": "code",
   "execution_count": 41,
   "metadata": {},
   "outputs": [],
   "source": [
    "%reset -f"
   ]
  },
  {
   "cell_type": "markdown",
   "metadata": {},
   "source": [
    "# Indian Express"
   ]
  },
  {
   "cell_type": "markdown",
   "metadata": {},
   "source": [
    "### Business"
   ]
  },
  {
   "cell_type": "code",
   "execution_count": 42,
   "metadata": {},
   "outputs": [],
   "source": [
    "import re\n",
    "import requests\n",
    "from bs4 import BeautifulSoup\n",
    "\n",
    "response_ie_business = requests.get(url='https://indianexpress.com/section/business/', headers={'User-Agent':''})\n",
    "soup_ie_business = BeautifulSoup(response_ie_business.content, 'html.parser')\n",
    "\n",
    "links_ie_business = []\n",
    "for link in soup_ie_business.findAll('a', href=True):\n",
    "    links_ie_business.append(link.get('href'))\n",
    "#print(len(links_ie_business))\n",
    "#print(links_ie_business)"
   ]
  },
  {
   "cell_type": "markdown",
   "metadata": {},
   "source": [
    "#### Finding only the relevant URLs from the list of all links.\n",
    "Now we have to filter only the links that are related to articles and that too only business realted articles. I have used RegEx for this task. All the news articles have '.cms' type in the end and they contain '/business/' so I made use of those two major things to find all the valid URLs.  "
   ]
  },
  {
   "cell_type": "code",
   "execution_count": 43,
   "metadata": {},
   "outputs": [],
   "source": [
    "import re\n",
    "txt_ie_business = ' '.join(links_ie_business)\n",
    "url_ie_business = re.findall(r'https://indianexpress.com/article/business/[a-zA-Z0-9\\/\\.\\-\\:]*', txt_ie_business)\n",
    "#print(len(url_ie_business))\n",
    "#print(url_ie_business)"
   ]
  },
  {
   "cell_type": "markdown",
   "metadata": {},
   "source": [
    "#### Removing duplicates\n",
    "There can be duplicates present so a simple task to remove duplicates is to convert the list to set, as we know set can't contain duplicates. And then change the set back to list."
   ]
  },
  {
   "cell_type": "code",
   "execution_count": 44,
   "metadata": {},
   "outputs": [
    {
     "data": {
      "text/plain": [
       "['https://indianexpress.com/article/business/market/recovery-in-markets-after-pandemic-shock-is-broad-based-sebi-chief-ajay-tyagi-6821112/',\n",
       " 'https://indianexpress.com/article/business/companies/lic-launches-pension-scheme-6825308/',\n",
       " 'https://indianexpress.com/article/business/aviation/cathay-pacific-to-cut-over-5000-hong-kong-jobs-close-dragon-brand-6817254/',\n",
       " 'https://indianexpress.com/article/business/economy/india-at-doorstep-of-economic-revival-says-rbi-governor-6822193/',\n",
       " 'https://indianexpress.com/article/business/companies/hul-q2-net-profit-rises-9-operations-services-back-to-pre-covid-levels-6811918/',\n",
       " 'https://indianexpress.com/article/business/companies/mercedes-benz-to-start-local-assembly-of-vehicle-range-amg-in-india-6805384/',\n",
       " 'https://indianexpress.com/article/business/working-on-next-stimulus-dea-secy-6825271/',\n",
       " 'https://indianexpress.com/article/business/companies/dukaan-raises-6-mn-from-matrix-lightspeed-others-6825387/',\n",
       " 'https://indianexpress.com/article/business/market/rupee-rises-13-paise-to-73-36-against-us-dollar-in-early-trade-6819575/',\n",
       " 'https://indianexpress.com/article/business/companies/lt-bags-multiple-orders-across-business-verticals-in-domestic-market-6820386/',\n",
       " 'https://indianexpress.com/article/business/aviation/cathay-pacific-airways-covid-19-impact-12-airlines-that-did-not-survive-the-pandemic-6821661/',\n",
       " 'https://indianexpress.com/article/business/stricter-ad-policy-for-insurers-6825354/',\n",
       " 'https://indianexpress.com/article/business/companies/videocon-insolvency-case-dhoot-family-offers-to-pay-rs-30000-crore-to-lenders-6821509/',\n",
       " 'https://indianexpress.com/article/business/market/rupee-falls-16-paise-against-us-dollar-in-early-trade-6832920/',\n",
       " 'https://indianexpress.com/article/business/banking-and-finance/covid-shadow-sharp-dip-in-banks-share-in-equity-funds-tech-pharma-surge-6811928/',\n",
       " 'https://indianexpress.com/article/business/market/markets-live-updates-nse-bse-nifty-sensex-stocks-shares-6832584/',\n",
       " 'https://indianexpress.com/article/business/companies/bajaj-finance-q2-net-profit-falls-36-per-cent-to-rs-965-crore-6821421/',\n",
       " 'https://indianexpress.com/article/business/nclat-discoms-cant-cancel-ppa-amid-corporate-insolvency-process-6825263/',\n",
       " 'https://indianexpress.com/article/business/market/sebi-to-conduct-examinations-in-jan-feb-to-hire-147-senior-officers-6821051/',\n",
       " 'https://indianexpress.com/article/business/economy/compensation-deficit-under-gst-regime-some-states-seek-no-strings-attached-borrowing-scrapping-payout-conditions-6811735/',\n",
       " 'https://indianexpress.com/article/business/market/bse-sensex-nse-nifty-markets-live-updates-stocks-shares-6819003/',\n",
       " 'https://indianexpress.com/article/business/market/market-recovery-broad-based-ajay-tyagi-6825176/',\n",
       " 'https://indianexpress.com/article/business/economy/cabinet-approves-productivity-linked-bonus-non-productivity-linked-bonus-2019-20-6821298/',\n",
       " 'https://indianexpress.com/article/business/aviation/india-germany-flights-under-air-bubble-resume-6825207/',\n",
       " 'https://indianexpress.com/article/business/startups/43-per-cent-msmes-startups-plan-on-hiring-women-workforce-localcircles-survey-6805579/']"
      ]
     },
     "execution_count": 44,
     "metadata": {},
     "output_type": "execute_result"
    }
   ],
   "source": [
    "url_ie_business = set(url_ie_business)\n",
    "url_ie_business = list(url_ie_business)\n",
    "#print(len(url_ie_business))\n",
    "url_ie_business"
   ]
  },
  {
   "cell_type": "markdown",
   "metadata": {},
   "source": [
    "#### Cached Previous day URL to compare against the new URL\n",
    "All the links present here can have duplicates from previous day or few days back. So, we have to make comparison with the URLs that we already have to find any redundant article. We can use our traditional filesystem to get the URLs from cached file."
   ]
  },
  {
   "cell_type": "markdown",
   "metadata": {},
   "source": [
    "#### Compare against cached URLs to find only new links for today"
   ]
  },
  {
   "cell_type": "code",
   "execution_count": 45,
   "metadata": {},
   "outputs": [],
   "source": [
    "cached_url_ie_business = []\n",
    "with open('./data/indian_express/cached_url_ie_business.txt', 'r') as filehandle:\n",
    "    for line in filehandle:\n",
    "        # remove linebreak which is the last character of the string\n",
    "        currentPlace = line[:-1]\n",
    "\n",
    "        # add item to the list\n",
    "        cached_url_ie_business.append(currentPlace)"
   ]
  },
  {
   "cell_type": "code",
   "execution_count": 46,
   "metadata": {},
   "outputs": [
    {
     "data": {
      "text/plain": [
       "155"
      ]
     },
     "execution_count": 46,
     "metadata": {},
     "output_type": "execute_result"
    }
   ],
   "source": [
    "len(cached_url_ie_business)"
   ]
  },
  {
   "cell_type": "code",
   "execution_count": 47,
   "metadata": {},
   "outputs": [],
   "source": [
    "latest_url_ie_business = list(set(url_ie_business) - set(cached_url_ie_business))\n",
    "\n",
    "#print(len(latest_url_ie_business))\n",
    "#print(latest_url_ie_business)"
   ]
  },
  {
   "cell_type": "markdown",
   "metadata": {},
   "source": [
    "#### Cache the latest URL for future comparisons"
   ]
  },
  {
   "cell_type": "code",
   "execution_count": 48,
   "metadata": {},
   "outputs": [],
   "source": [
    "with open('./data/indian_express/cached_url_ie_business.txt', 'a') as filehandle:\n",
    "    for listitem in latest_url_ie_business:\n",
    "        filehandle.write('%s\\n' % listitem)"
   ]
  },
  {
   "cell_type": "markdown",
   "metadata": {},
   "source": [
    "### Sports"
   ]
  },
  {
   "cell_type": "code",
   "execution_count": 49,
   "metadata": {},
   "outputs": [],
   "source": [
    "import re\n",
    "import requests\n",
    "from bs4 import BeautifulSoup\n",
    "\n",
    "response_ie_sports = requests.get(url='https://indianexpress.com/section/sports/', headers={'User-Agent':''})\n",
    "soup_ie_sports = BeautifulSoup(response_ie_sports.content, 'html.parser')\n",
    "\n",
    "links_ie_sports = []\n",
    "for link in soup_ie_sports.findAll('a', href=True):\n",
    "    links_ie_sports.append(link.get('href'))\n",
    "#print(len(links_ie_sports))\n",
    "#print(links_ie_sports)"
   ]
  },
  {
   "cell_type": "markdown",
   "metadata": {},
   "source": [
    "#### Finding only the relevant URLs from the list of all links.\n",
    "Now we have to filter only the links that are related to articles and that too only sports realted articles. I have used RegEx for this task. All the news articles have '.cms' type in the end and they contain '/sports/' so I made use of those two major things to find all the valid URLs.  "
   ]
  },
  {
   "cell_type": "code",
   "execution_count": 50,
   "metadata": {},
   "outputs": [],
   "source": [
    "import re\n",
    "txt_ie_sports = ' '.join(links_ie_sports)\n",
    "url_ie_sports = re.findall(r'https://indianexpress.com/article/sports/[a-zA-Z0-9\\/\\.\\-\\:]*', txt_ie_sports)\n",
    "#print(len(url_ie_sports))\n",
    "#print(url_ie_sports)"
   ]
  },
  {
   "cell_type": "markdown",
   "metadata": {},
   "source": [
    "#### Removing duplicates\n",
    "There can be duplicates present so a simple task to remove duplicates is to convert the list to set, as we know set can't contain duplicates. And then change the set back to list."
   ]
  },
  {
   "cell_type": "code",
   "execution_count": 51,
   "metadata": {},
   "outputs": [
    {
     "data": {
      "text/plain": [
       "['https://indianexpress.com/article/sports/ipl/kolkata-knight-riders-kkr-ipl-team-2020-full-squad-players-list-6590998/',\n",
       " 'https://indianexpress.com/article/sports/football/english-premier-league/axel-tuanzebe-manchester-uniteds-unlikely-hero-in-paris-6825517/',\n",
       " 'https://indianexpress.com/article/sports/ipl/sunrisers-hyderabad-srh-ipl-team-2020-full-squad-players-list-6589430/',\n",
       " 'https://indianexpress.com/article/sports/ipl/rr-vs-srh-predicted-playing-11-ipl-2020-live-updates-6832104/',\n",
       " 'https://indianexpress.com/article/sports/ipl/rcb-ipl-team-2020-players-list-royal-challengers-bangalore-full-squad-players-list-6590686/',\n",
       " 'https://indianexpress.com/article/sports/ipl/mumbai-indians-ipl-2020-full-squad-players-list-6590649/',\n",
       " 'https://indianexpress.com/article/sports/cricket/england-vs-south-africa-limited-overs-series-tour-6823186/',\n",
       " 'https://indianexpress.com/article/sports/ipl/shikhar-dhawan-ipl-2020-dc-running-faster-not-afraid-6821493/',\n",
       " 'https://indianexpress.com/article/sports/sport-others/ritu-phogat-mma-interview-khabib-kohli-one-championship-6822790/',\n",
       " 'https://indianexpress.com/article/sports/ipl/ipl-2020-points-table-orange-cap-purple-cap-6608690/',\n",
       " 'https://indianexpress.com/article/sports/football/uefa-warns-against-boring-fifa-linked-euro-super-league-6821645/',\n",
       " 'https://indianexpress.com/article/sports/ipl/another-big-blow-to-csk-in-ipl-dwayne-bravo-ruled-out-with-groin-injury-6821208/',\n",
       " 'https://indianexpress.com/article/sports/ipl/ipl-2020-rr-vs-srh-preview-strugglers-royals-and-sunrisers-lock-horns-in-must-win-game-6821271/',\n",
       " 'https://indianexpress.com/article/sports/ipl/rcb-vs-kkr-virat-handing-new-ball-to-me-boosted-confidence-mohd-siraj-on-magical-performance-6833476/',\n",
       " 'https://indianexpress.com/article/sports/ipl/jason-holder-sad-that-black-lives-matter-movement-not-part-of-ipl-6821183/',\n",
       " 'https://indianexpress.com/article/sports/tennis/novak-djokovic-paris-masters-pulls-out-6821523/',\n",
       " 'https://indianexpress.com/article/sports/football/nigeria-government-soldiers-fire-end-sars-protest-man-utds-ighalo-6821405/',\n",
       " 'https://indianexpress.com/article/sports/football/mesut-ozil-arsenal-premier-league-squad-left-out-disappointed-6821577/',\n",
       " 'https://indianexpress.com/article/sports/sport-others/27-nsfs-to-be-granted-recognition-ministry-in-its-affidavit-to-hc-6821643/',\n",
       " 'https://indianexpress.com/article/sports/sport-others/kkr-vs-rcb-ipl-2020-live-cricket-streaming-when-and-where-to-watch-kolkata-knight-riders-vs-royal-challengers-bangalore-6821359/',\n",
       " 'https://indianexpress.com/article/sports/cricket/chris-gayle-kandy-tuskers-lanka-premier-league-sohail-khan-owner-6821438/',\n",
       " 'https://indianexpress.com/article/sports/motor-sport/lance-stroll-covid-19-positive-after-eifel-gp-6821569/',\n",
       " 'https://indianexpress.com/article/sports/ipl/mohammed-siraj-kkr-vs-rcb-ipl-2020-two-maiden-overs-record-6821952/',\n",
       " 'https://indianexpress.com/article/sports/cricket/cricketers-from-west-more-likely-to-have-mental-health-issues-misbah-on-playing-in-bio-bubble-6833164/',\n",
       " 'https://indianexpress.com/article/sports/ipl/delhi-capitals-dc-ipl-team-2020-full-squad-players-list-6589340/',\n",
       " 'https://indianexpress.com/article/sports/ipl/kings-xi-punjab-kxip-ipl-team-2020-full-squad-players-list-6589529/',\n",
       " 'https://indianexpress.com/article/sports/sport-others/adille-sumariwalla-afi-chief-anju-bobby-george-senior-vp-elections-6821683/',\n",
       " 'https://indianexpress.com/article/sports/ipl/csk-ipl-team-2020-full-squad-players-list-6590531/',\n",
       " 'https://indianexpress.com/article/sports/ipl/rcb-vs-kkr-mohammad-siraj-spell-proves-decisive-6825322/',\n",
       " 'https://indianexpress.com/article/sports/ipl/ipl-2020-kkr-vs-rcb-live-cricket-score-online-6821492/',\n",
       " 'https://indianexpress.com/article/sports/football/champions-league-round-up-man-citys-3-1-win-to-real-madrids-3-2-defeat-and-match-highlights-6830887/',\n",
       " 'https://indianexpress.com/article/sports/ipl/ab-de-villiers-ipl-2020-rcb-points-table-top-aim-6821707/',\n",
       " 'https://indianexpress.com/article/sports/football/isl-mumbai-city-fc-ropes-in-nigerian-striker-ogbeche-fc-goa-signs-mid-fielder-muhammed-nemil-6821374/']"
      ]
     },
     "execution_count": 51,
     "metadata": {},
     "output_type": "execute_result"
    }
   ],
   "source": [
    "url_ie_sports = set(url_ie_sports)\n",
    "url_ie_sports = list(url_ie_sports)\n",
    "#print(len(url_ie_sports))\n",
    "url_ie_sports"
   ]
  },
  {
   "cell_type": "markdown",
   "metadata": {},
   "source": [
    "#### Cached Previous day URL to compare against the new URL\n",
    "All the links present here can have duplicates from previous day or few days back. So, we have to make comparison with the URLs that we already have to find any redundant article. We can use our traditional filesystem to get the URLs from cached file."
   ]
  },
  {
   "cell_type": "markdown",
   "metadata": {},
   "source": [
    "#### Compare against cached URLs to find only new links for today"
   ]
  },
  {
   "cell_type": "code",
   "execution_count": 52,
   "metadata": {},
   "outputs": [],
   "source": [
    "cached_url_ie_sports = []\n",
    "with open('./data/indian_express/cached_url_ie_sports.txt', 'r') as filehandle:\n",
    "    for line in filehandle:\n",
    "        # remove linebreak which is the last character of the string\n",
    "        currentPlace = line[:-1]\n",
    "\n",
    "        # add item to the list\n",
    "        cached_url_ie_sports.append(currentPlace)"
   ]
  },
  {
   "cell_type": "code",
   "execution_count": 53,
   "metadata": {},
   "outputs": [
    {
     "data": {
      "text/plain": [
       "258"
      ]
     },
     "execution_count": 53,
     "metadata": {},
     "output_type": "execute_result"
    }
   ],
   "source": [
    "len(cached_url_ie_sports)"
   ]
  },
  {
   "cell_type": "code",
   "execution_count": 54,
   "metadata": {},
   "outputs": [],
   "source": [
    "latest_url_ie_sports = list(set(url_ie_sports) - set(cached_url_ie_sports))\n",
    "\n",
    "#print(len(latest_url_ie_sports))\n",
    "#print(latest_url_ie_sports)"
   ]
  },
  {
   "cell_type": "markdown",
   "metadata": {},
   "source": [
    "#### Cache the latest URL for future comparisons"
   ]
  },
  {
   "cell_type": "code",
   "execution_count": 55,
   "metadata": {},
   "outputs": [],
   "source": [
    "with open('./data/indian_express/cached_url_ie_sports.txt', 'a') as filehandle:\n",
    "    for listitem in latest_url_ie_sports:\n",
    "        filehandle.write('%s\\n' % listitem)"
   ]
  },
  {
   "cell_type": "markdown",
   "metadata": {},
   "source": [
    "### Entertainment"
   ]
  },
  {
   "cell_type": "code",
   "execution_count": 56,
   "metadata": {},
   "outputs": [],
   "source": [
    "import re\n",
    "import requests\n",
    "from bs4 import BeautifulSoup\n",
    "\n",
    "response_ie_entertainment = requests.get(url='https://indianexpress.com/section/entertainment/', headers={'User-Agent':''})\n",
    "soup_ie_entertainment = BeautifulSoup(response_ie_entertainment.content, 'html.parser')\n",
    "\n",
    "links_ie_entertainment = []\n",
    "for link in soup_ie_entertainment.findAll('a', href=True):\n",
    "    links_ie_entertainment.append(link.get('href'))\n",
    "#print(len(links_ie_entertainment))\n",
    "#print(links_ie_entertainment)"
   ]
  },
  {
   "cell_type": "markdown",
   "metadata": {},
   "source": [
    "#### Finding only the relevant URLs from the list of all links.\n",
    "Now we have to filter only the links that are related to articles and that too only entertainment realted articles. I have used RegEx for this task. All the news articles have '.cms' type in the end and they contain '/entertainment/' so I made use of those two major things to find all the valid URLs.  "
   ]
  },
  {
   "cell_type": "code",
   "execution_count": 57,
   "metadata": {},
   "outputs": [],
   "source": [
    "import re\n",
    "txt_ie_entertainment = ' '.join(links_ie_entertainment)\n",
    "url_ie_entertainment = re.findall(r'https://indianexpress.com/article/entertainment/[a-zA-Z0-9\\/\\.\\-\\:]*', txt_ie_entertainment)\n",
    "#print(len(url_ie_entertainment))\n",
    "#print(url_ie_entertainment)"
   ]
  },
  {
   "cell_type": "markdown",
   "metadata": {},
   "source": [
    "#### Removing duplicates\n",
    "There can be duplicates present so a simple task to remove duplicates is to convert the list to set, as we know set can't contain duplicates. And then change the set back to list."
   ]
  },
  {
   "cell_type": "code",
   "execution_count": 58,
   "metadata": {},
   "outputs": [
    {
     "data": {
      "text/plain": [
       "['https://indianexpress.com/article/entertainment/television/shehzad-deol-gets-evicted-from-bigg-boss-14-6821626/',\n",
       " 'https://indianexpress.com/article/entertainment/bollywood/suraj-pe-mangal-bhari-trailer-6820350/',\n",
       " 'https://indianexpress.com/article/entertainment/web-series/jamie-foxx-to-play-lead-in-netflix-vampire-comedy-day-shift-6820394/',\n",
       " 'https://indianexpress.com/article/entertainment/bollywood/sanjay-dutt-recovers-from-cancer-happy-to-come-out-victorious-from-this-battle-6821320/',\n",
       " 'https://indianexpress.com/article/entertainment/web-series/david-letterman-is-from-mars-kim-kardashian-is-from-venus-but-they-meet-on-earth-for-a-netflix-special-6821401/',\n",
       " 'https://indianexpress.com/article/entertainment/movie-review/varmaa-movie-review-bala-bold-interpretation-of-arjun-reddy-6705535/',\n",
       " 'https://indianexpress.com/article/entertainment/web-series/mirzapur-rasika-beena-is-as-manipulative-as-she-was-in-season-1-6738705/',\n",
       " 'https://indianexpress.com/article/entertainment/movie-review/serious-men-review-a-bitingly-sharp-satirical-look-at-aspirational-india-6634338/',\n",
       " 'https://indianexpress.com/article/entertainment/regional/doctors-consulting-experts-on-soumitra-chatterjee-neurological-condition-6831343/',\n",
       " 'https://indianexpress.com/article/entertainment/web-series/a-suitable-boy-ishaan-khatter-maan-kapoor-is-an-almost-kaleidoscopic-character-6717422/',\n",
       " 'https://indianexpress.com/article/entertainment/regional/bheemasena-nalamaharaja-trailer-karthik-saragur-film-promises-a-meal-to-remember-6821172/',\n",
       " 'https://indianexpress.com/article/entertainment/hollywood/chris-pratt-worst-chris-twitter-mcu-actors-6821265/',\n",
       " 'https://indianexpress.com/article/entertainment/web-series/the-right-stuff-actor-patrick-adams-every-day-of-my-life-is-a-struggle-to-establish-a-new-identity-6821576/',\n",
       " 'https://indianexpress.com/article/entertainment/telugu/prabhas-is-vikramaditya-in-radhe-shyam-check-out-poster-6818723/',\n",
       " 'https://indianexpress.com/article/entertainment/bollywood/bollywood-movies-in-2020-laal-singh-chaddha-sooryavanshi-83-6200206/',\n",
       " 'https://indianexpress.com/article/entertainment/hollywood/reese-witherspoon-legally-blonde-3-to-hit-screens-in-may-2022-6831957/',\n",
       " 'https://indianexpress.com/article/entertainment/hollywood/the-sofia-coppola-watchlist-lost-in-translation-the-virgin-suicides-and-more-6804473/',\n",
       " 'https://indianexpress.com/article/entertainment/telugu/rana-daggubati-confirms-sankranti-release-for-aranya-6821283/',\n",
       " 'https://indianexpress.com/article/entertainment/television/bigg-boss-14-october-21-episode-live-updates-team-sidharth-hina-gauahar-6819599/',\n",
       " 'https://indianexpress.com/article/entertainment/web-series/pakistan-has-its-own-money-heist-but-theres-a-catch-6822419/',\n",
       " 'https://indianexpress.com/article/entertainment/web-series/mirzapur-actor-amit-sial-maurya-is-an-integral-part-of-the-story-in-this-season-6805704/',\n",
       " 'https://indianexpress.com/article/entertainment/web-series/mank-trailer-richly-shot-well-acted-film-in-the-offing-6831422/',\n",
       " 'https://indianexpress.com/article/entertainment/hollywood/director-stephen-daldry-exits-wicked-film-adaptation-6818082/',\n",
       " 'https://indianexpress.com/article/entertainment/movie-review/comedy-couple-review-well-meaning-tired-romantic-drama-6802535/',\n",
       " 'https://indianexpress.com/article/entertainment/movie-review/ginny-weds-sunny-review-pallid-writing-spoils-the-fun-6717226/',\n",
       " 'https://indianexpress.com/article/entertainment/hollywood/revisiting-borat-before-the-sequel-6789154/',\n",
       " 'https://indianexpress.com/article/entertainment/music/neha-kakkar-rohanpreet-singhs-nehu-da-vyah-is-all-things-cute-6819277/',\n",
       " 'https://indianexpress.com/article/entertainment/television/juhi-parmar-on-hamariwali-good-news-not-bold-but-a-positive-concept-6821246/',\n",
       " 'https://indianexpress.com/article/entertainment/hollywood/rudy-giuliani-shown-in-hotel-bedroom-scene-in-borat-2-6831565/',\n",
       " 'https://indianexpress.com/article/entertainment/movie-review/khaali-peeli-review-a-timepass-film-6664780/']"
      ]
     },
     "execution_count": 58,
     "metadata": {},
     "output_type": "execute_result"
    }
   ],
   "source": [
    "url_ie_entertainment = set(url_ie_entertainment)\n",
    "url_ie_entertainment = list(url_ie_entertainment)\n",
    "#print(len(url_ie_entertainment))\n",
    "url_ie_entertainment"
   ]
  },
  {
   "cell_type": "markdown",
   "metadata": {},
   "source": [
    "#### Cached Previous day URL to compare against the new URL\n",
    "All the links present here can have duplicates from previous day or few days back. So, we have to make comparison with the URLs that we already have to find any redundant article. We can use our traditional filesystem to get the URLs from cached file."
   ]
  },
  {
   "cell_type": "markdown",
   "metadata": {},
   "source": [
    "#### Compare against cached URLs to find only new links for today"
   ]
  },
  {
   "cell_type": "code",
   "execution_count": 59,
   "metadata": {},
   "outputs": [],
   "source": [
    "cached_url_ie_entertainment = []\n",
    "with open('./data/indian_express/cached_url_ie_entertainment.txt', 'r') as filehandle:\n",
    "    for line in filehandle:\n",
    "        # remove linebreak which is the last character of the string\n",
    "        currentPlace = line[:-1]\n",
    "\n",
    "        # add item to the list\n",
    "        cached_url_ie_entertainment.append(currentPlace)"
   ]
  },
  {
   "cell_type": "code",
   "execution_count": 60,
   "metadata": {},
   "outputs": [
    {
     "data": {
      "text/plain": [
       "238"
      ]
     },
     "execution_count": 60,
     "metadata": {},
     "output_type": "execute_result"
    }
   ],
   "source": [
    "len(cached_url_ie_entertainment)"
   ]
  },
  {
   "cell_type": "code",
   "execution_count": 61,
   "metadata": {},
   "outputs": [],
   "source": [
    "latest_url_ie_entertainment = list(set(url_ie_entertainment) - set(cached_url_ie_entertainment))\n",
    "\n",
    "#print(len(latest_url_ie_entertainment))\n",
    "#print(latest_url_ie_entertainment)"
   ]
  },
  {
   "cell_type": "markdown",
   "metadata": {},
   "source": [
    "#### Cache the latest URL for future comparisons"
   ]
  },
  {
   "cell_type": "code",
   "execution_count": 62,
   "metadata": {},
   "outputs": [],
   "source": [
    "with open('./data/indian_express/cached_url_ie_entertainment.txt', 'a') as filehandle:\n",
    "    for listitem in latest_url_ie_entertainment:\n",
    "        filehandle.write('%s\\n' % listitem)"
   ]
  },
  {
   "cell_type": "markdown",
   "metadata": {},
   "source": [
    "### World"
   ]
  },
  {
   "cell_type": "code",
   "execution_count": 63,
   "metadata": {},
   "outputs": [],
   "source": [
    "import re\n",
    "import requests\n",
    "from bs4 import BeautifulSoup\n",
    "\n",
    "response_ie_world = requests.get(url='https://indianexpress.com/section/world/', headers={'User-Agent':''})\n",
    "soup_ie_world = BeautifulSoup(response_ie_world.content, 'html.parser')\n",
    "\n",
    "links_ie_world = []\n",
    "for link in soup_ie_world.findAll('a', href=True):\n",
    "    links_ie_world.append(link.get('href'))\n",
    "#print(len(links_ie_world))\n",
    "#print(links_ie_world)"
   ]
  },
  {
   "cell_type": "markdown",
   "metadata": {},
   "source": [
    "#### Finding only the relevant URLs from the list of all links.\n",
    "Now we have to filter only the links that are related to articles and that too only world realted articles. I have used RegEx for this task. All the news articles have '.cms' type in the end and they contain '/world/' so I made use of those two major things to find all the valid URLs.  "
   ]
  },
  {
   "cell_type": "code",
   "execution_count": 64,
   "metadata": {},
   "outputs": [],
   "source": [
    "import re\n",
    "txt_ie_world = ' '.join(links_ie_world)\n",
    "url_ie_world = re.findall(r'https://indianexpress.com/article/world/[a-zA-Z0-9\\/\\.\\-\\:]*', txt_ie_world)\n",
    "#print(len(url_ie_world))\n",
    "#print(url_ie_world)"
   ]
  },
  {
   "cell_type": "markdown",
   "metadata": {},
   "source": [
    "#### Removing duplicates\n",
    "There can be duplicates present so a simple task to remove duplicates is to convert the list to set, as we know set can't contain duplicates. And then change the set back to list."
   ]
  },
  {
   "cell_type": "code",
   "execution_count": 65,
   "metadata": {},
   "outputs": [
    {
     "data": {
      "text/plain": [
       "['https://indianexpress.com/article/world/thai-protesters-reject-pms-olive-branch-give-fresh-ultimatum-6831410/',\n",
       " 'https://indianexpress.com/article/world/pope-francis-endorses-same-sex-civil-unions-in-new-documentary-film-6821741/',\n",
       " 'https://indianexpress.com/article/world/us-and-russia-ready-to-freeze-number-of-nuclear-warheads-6821330/',\n",
       " 'https://indianexpress.com/article/world/europes-dying-villages-woo-immigrants-to-survive-6821304/',\n",
       " 'https://indianexpress.com/article/world/japans-suga-opposes-actions-that-boost-tension-in-south-china-sea-6821417/',\n",
       " 'https://indianexpress.com/article/world/germany-issues-warrants-for-panama-papers-lawyers-say-reports-6821299/',\n",
       " 'https://indianexpress.com/article/world/pakistan-unlikely-to-exit-fatfs-grey-list-report-6821376/',\n",
       " 'https://indianexpress.com/article/world/us-deserves-to-have-prez-who-understands-dignity-of-people-says-kamala-harris-6830908/',\n",
       " 'https://indianexpress.com/article/world/canada-avoids-snap-election-after-parliament-vote-6831959/',\n",
       " 'https://indianexpress.com/article/world/france-president-macron-says-beheaded-teacher-was-victim-of-stupidity-hate-6831177/',\n",
       " 'https://indianexpress.com/article/world/eu-uk-brexit-talks-you-cant-have-cake-eat-it-too-6821418/',\n",
       " 'https://indianexpress.com/article/world/us-elections-2020-live-updates-will-win-by-bigger-margin-than-2016-says-trump/',\n",
       " 'https://indianexpress.com/article/world/afghanistan-stampede-pakistan-consulate-deaths-jalalabad-6821150/',\n",
       " 'https://indianexpress.com/article/world/many-feared-dead-in-suspected-gas-explosion-in-west-london-say-reports-6821678/',\n",
       " 'https://indianexpress.com/article/world/parents-of-545-children-separated-at-border-cant-be-found-6821296/',\n",
       " 'https://indianexpress.com/article/world/hurricane-epsilon-10th-season-nears-bermuda-6821495/',\n",
       " 'https://indianexpress.com/article/world/cdc-says-us-has-seen-300000-more-deaths-than-usual-6821207/',\n",
       " 'https://indianexpress.com/article/world/astrazeneca-covid-19-vaccine-trial-brazil-volunteer-dies-trial-to-continue-6824251/',\n",
       " 'https://indianexpress.com/article/world/us-election-wrap-oct-21-battleground-states-in-focus-trumps-tax-records-reveal-his-chinese-bank-account-6820284/',\n",
       " 'https://indianexpress.com/article/world/european-nations-mixed-in-their-response-to-covid-19-spikes-6821211/',\n",
       " 'https://indianexpress.com/article/world/plan-to-release-fukushima-water-into-pacific-provokes-furious-reaction-6821290/',\n",
       " 'https://indianexpress.com/article/world/how-donald-trump-plowed-through-1-billion-losing-cash-advantage/',\n",
       " 'https://indianexpress.com/article/world/south-korean-deaths-spark-flu-vaccine-safety-fears-6832334/',\n",
       " 'https://indianexpress.com/article/world/barack-obama-launches-searing-attack-on-trump-appeals-voters-to-elect-biden-6831229/',\n",
       " 'https://indianexpress.com/article/world/us-official-say-iran-russia-trying-to-interfere-in-2020-election-6830063/',\n",
       " 'https://indianexpress.com/article/world/us-proposes-not-to-issue-business-visas-for-h-1b-speciality-occupations-6830605/']"
      ]
     },
     "execution_count": 65,
     "metadata": {},
     "output_type": "execute_result"
    }
   ],
   "source": [
    "url_ie_world = set(url_ie_world)\n",
    "url_ie_world = list(url_ie_world)\n",
    "#print(len(url_ie_world))\n",
    "url_ie_world"
   ]
  },
  {
   "cell_type": "markdown",
   "metadata": {},
   "source": [
    "#### Cached Previous day URL to compare against the new URL\n",
    "All the links present here can have duplicates from previous day or few days back. So, we have to make comparison with the URLs that we already have to find any redundant article. We can use our traditional filesystem to get the URLs from cached file."
   ]
  },
  {
   "cell_type": "markdown",
   "metadata": {},
   "source": [
    "#### Compare against cached URLs to find only new links for today"
   ]
  },
  {
   "cell_type": "code",
   "execution_count": 66,
   "metadata": {},
   "outputs": [],
   "source": [
    "cached_url_ie_world = []\n",
    "with open('./data/indian_express/cached_url_ie_world.txt', 'r') as filehandle:\n",
    "    for line in filehandle:\n",
    "        # remove linebreak which is the last character of the string\n",
    "        currentPlace = line[:-1]\n",
    "\n",
    "        # add item to the list\n",
    "        cached_url_ie_world.append(currentPlace)"
   ]
  },
  {
   "cell_type": "code",
   "execution_count": 67,
   "metadata": {},
   "outputs": [
    {
     "data": {
      "text/plain": [
       "252"
      ]
     },
     "execution_count": 67,
     "metadata": {},
     "output_type": "execute_result"
    }
   ],
   "source": [
    "len(cached_url_ie_world)"
   ]
  },
  {
   "cell_type": "code",
   "execution_count": 68,
   "metadata": {},
   "outputs": [],
   "source": [
    "latest_url_ie_world = list(set(url_ie_world) - set(cached_url_ie_world))\n",
    "\n",
    "#print(len(latest_url_ie_world))\n",
    "#print(latest_url_ie_world)"
   ]
  },
  {
   "cell_type": "markdown",
   "metadata": {},
   "source": [
    "#### Cache the latest URL for future comparisons"
   ]
  },
  {
   "cell_type": "code",
   "execution_count": 69,
   "metadata": {},
   "outputs": [],
   "source": [
    "with open('./data/indian_express/cached_url_ie_world.txt', 'a') as filehandle:\n",
    "    for listitem in latest_url_ie_world:\n",
    "        filehandle.write('%s\\n' % listitem)"
   ]
  },
  {
   "cell_type": "markdown",
   "metadata": {},
   "source": [
    "### India"
   ]
  },
  {
   "cell_type": "code",
   "execution_count": 70,
   "metadata": {},
   "outputs": [],
   "source": [
    "import re\n",
    "import requests\n",
    "from bs4 import BeautifulSoup\n",
    "\n",
    "response_ie_india = requests.get(url='https://indianexpress.com/section/india/', headers={'User-Agent':''})\n",
    "soup_ie_india = BeautifulSoup(response_ie_india.content, 'html.parser')\n",
    "\n",
    "links_ie_india = []\n",
    "for link in soup_ie_india.findAll('a', href=True):\n",
    "    links_ie_india.append(link.get('href'))\n",
    "#print(len(links_ie_india))\n",
    "#print(links_ie_india)"
   ]
  },
  {
   "cell_type": "markdown",
   "metadata": {},
   "source": [
    "#### Finding only the relevant URLs from the list of all links.\n",
    "Now we have to filter only the links that are related to articles and that too only india realted articles. I have used RegEx for this task. All the news articles have '.cms' type in the end and they contain '/india/' so I made use of those two major things to find all the valid URLs.  "
   ]
  },
  {
   "cell_type": "code",
   "execution_count": 71,
   "metadata": {
    "scrolled": true
   },
   "outputs": [],
   "source": [
    "import re\n",
    "txt_ie_india = ' '.join(links_ie_india)\n",
    "url_ie_india = re.findall(r'https://indianexpress.com/article/india/[a-zA-Z0-9\\/\\.\\-\\:]*', txt_ie_india)\n",
    "#print(len(url_ie_india))\n",
    "#print(url_ie_india)"
   ]
  },
  {
   "cell_type": "markdown",
   "metadata": {},
   "source": [
    "#### Removing duplicates\n",
    "There can be duplicates present so a simple task to remove duplicates is to convert the list to set, as we know set can't contain duplicates. And then change the set back to list."
   ]
  },
  {
   "cell_type": "code",
   "execution_count": 72,
   "metadata": {},
   "outputs": [
    {
     "data": {
      "text/plain": [
       "['https://indianexpress.com/article/india/case-over-patidar-agitation-hardik-moves-gujarat-hc-seeks-deletion-of-bail-clause-6828737/',\n",
       " 'https://indianexpress.com/article/india/kin-of-kerala-journalist-facing-uapa-charges-meet-rahul-gandhi/',\n",
       " 'https://indianexpress.com/article/india/gujarat-bjp-suspends-three-over-filing-papers-against-party-nominees-6828504/',\n",
       " 'https://indianexpress.com/article/india/police-commemoration-day-in-remembering-the-slain-stories-of-loss-bravery-and-belonging-6832333/',\n",
       " 'https://indianexpress.com/article/india/coronavirus-india-cases-deaths-covid-19-peak-schools-live-updates-6817667/',\n",
       " 'https://indianexpress.com/article/india/amit-shah-birthday-narendra-modi-wishes-6831614/',\n",
       " 'https://indianexpress.com/article/india/narendra-modi-to-virtually-inaugurate-three-projects-in-gujarat-on-oct-24-6828189/',\n",
       " 'https://indianexpress.com/article/india/kerala-to-start-msp-for-vegetables-from-nov-1-6825840/',\n",
       " 'https://indianexpress.com/article/india/chhattisgarh-to-hold-special-session-next-week-for-new-farm-law-6826064/',\n",
       " 'https://indianexpress.com/article/india/gujarat-parsi-man-seeks-quashing-of-fir-over-misusing-name-to-sell-land-6828363/',\n",
       " 'https://indianexpress.com/article/india/code-of-ethics-for-digital-news-websites-6758543/',\n",
       " 'https://indianexpress.com/article/india/political-angle-in-hiren-patel-murder-probe-team-seeks-details-from-jhalod-municipality-6826555/',\n",
       " 'https://indianexpress.com/article/india/vadodara-ca-student-held-for-floating-fake-firms-6828301/',\n",
       " 'https://indianexpress.com/article/india/congress-and-bjp-dirt-flies-in-mp-rakhail-item-bangles-6827085/',\n",
       " 'https://indianexpress.com/article/india/elgaar-parishad-case-most-witnesses-say-did-not-enter-venue-due-to-large-crowd-didnt-hear-speeches-6826845/',\n",
       " 'https://indianexpress.com/article/india/cabinet-clears-decks-for-district-councils-in-kashmir-6827457/',\n",
       " 'https://indianexpress.com/article/india/45-arrested-over-himmatnagar-clash-on-oct-18-6828966/',\n",
       " 'https://indianexpress.com/article/india/hopes-fade-ins-viraat-inches-closer-to-being-dismantled-6828603/',\n",
       " 'https://indianexpress.com/article/india/no-criminal-roaming-free-in-up-yogi-adityanath-6826177/',\n",
       " 'https://indianexpress.com/article/india/maharashtra-crop-damage-crosses-10-lakh-hectares-in-flood-hit-areas-soaring-food-prices-stoke-concerns-of-stagflation-6827414/',\n",
       " 'https://indianexpress.com/article/india/rajkot-ahmedabad-traffic-asi-among-3-held-transporting-liquor-6828662/',\n",
       " 'https://indianexpress.com/article/india/kerala-plans-tougher-laws-on-online-abuse-6827041/',\n",
       " 'https://indianexpress.com/article/india/monetisation-of-idle-land-railways-defence-bsnl-in-line-6827326/',\n",
       " 'https://indianexpress.com/article/india/lion-safaris-begin-in-gir-but-poor-tourist-response-a-cause-for-concern-6829133/',\n",
       " 'https://indianexpress.com/article/india/gujarat-acb-books-gidc-engineer-over-disproportionate-assets-of-rs-1-cr-6828860/',\n",
       " 'https://indianexpress.com/article/india/gujarat-covid-19-cases-cross-1-63-lakh-6828135/',\n",
       " 'https://indianexpress.com/article/india/harassment-of-journalists-global-press-bodies-write-to-pm-modi-6826220/']"
      ]
     },
     "execution_count": 72,
     "metadata": {},
     "output_type": "execute_result"
    }
   ],
   "source": [
    "url_ie_india = set(url_ie_india)\n",
    "url_ie_india = list(url_ie_india)\n",
    "#print(len(url_ie_india))\n",
    "url_ie_india"
   ]
  },
  {
   "cell_type": "markdown",
   "metadata": {},
   "source": [
    "#### Cached Previous day URL to compare against the new URL\n",
    "All the links present here can have duplicates from previous day or few days back. So, we have to make comparison with the URLs that we already have to find any redundant article. We can use our traditional filesystem to get the URLs from cached file."
   ]
  },
  {
   "cell_type": "markdown",
   "metadata": {},
   "source": [
    "#### Compare against cached URLs to find only new links for today"
   ]
  },
  {
   "cell_type": "code",
   "execution_count": 73,
   "metadata": {},
   "outputs": [],
   "source": [
    "cached_url_ie_india = []\n",
    "with open('./data/indian_express/cached_url_ie_india.txt', 'r') as filehandle:\n",
    "    for line in filehandle:\n",
    "        # remove linebreak which is the last character of the string\n",
    "        currentPlace = line[:-1]\n",
    "\n",
    "        # add item to the list\n",
    "        cached_url_ie_india.append(currentPlace)"
   ]
  },
  {
   "cell_type": "code",
   "execution_count": 74,
   "metadata": {},
   "outputs": [
    {
     "data": {
      "text/plain": [
       "260"
      ]
     },
     "execution_count": 74,
     "metadata": {},
     "output_type": "execute_result"
    }
   ],
   "source": [
    "len(cached_url_ie_india)"
   ]
  },
  {
   "cell_type": "code",
   "execution_count": 75,
   "metadata": {},
   "outputs": [],
   "source": [
    "latest_url_ie_india = list(set(url_ie_india) - set(cached_url_ie_india))\n",
    "\n",
    "#print(len(latest_url_ie_india))\n",
    "#print(latest_url_ie_india)"
   ]
  },
  {
   "cell_type": "markdown",
   "metadata": {},
   "source": [
    "#### Cache the latest URL for future comparisons"
   ]
  },
  {
   "cell_type": "code",
   "execution_count": 76,
   "metadata": {},
   "outputs": [],
   "source": [
    "with open('./data/indian_express/cached_url_ie_india.txt', 'a') as filehandle:\n",
    "    for listitem in latest_url_ie_india:\n",
    "        filehandle.write('%s\\n' % listitem)"
   ]
  },
  {
   "cell_type": "code",
   "execution_count": 77,
   "metadata": {},
   "outputs": [],
   "source": [
    "%reset -f"
   ]
  },
  {
   "cell_type": "markdown",
   "metadata": {},
   "source": [
    "# Times Now"
   ]
  },
  {
   "cell_type": "markdown",
   "metadata": {},
   "source": [
    "### Business"
   ]
  },
  {
   "cell_type": "code",
   "execution_count": 78,
   "metadata": {},
   "outputs": [],
   "source": [
    "import re\n",
    "import requests\n",
    "from bs4 import BeautifulSoup\n",
    "\n",
    "response_tn_business = requests.get(url='https://www.timesnownews.com/business-economy', headers={'User-Agent':''})\n",
    "soup_tn_business = BeautifulSoup(response_tn_business.content, 'html.parser')\n",
    "\n",
    "links_tn_business = []\n",
    "for link in soup_tn_business.findAll('a', href=True):\n",
    "    links_tn_business.append(link.get('href'))\n",
    "#print(len(links_tn_business))\n",
    "#print(links_tn_business)"
   ]
  },
  {
   "cell_type": "markdown",
   "metadata": {},
   "source": [
    "#### Finding only the relevant URLs from the list of all links.\n",
    "Now we have to filter only the links that are related to articles and that too only business realted articles. I have used RegEx for this task. All the news articles have '.cms' type in the end and they contain '/business/' so I made use of those two major things to find all the valid URLs.  "
   ]
  },
  {
   "cell_type": "code",
   "execution_count": 79,
   "metadata": {
    "scrolled": true
   },
   "outputs": [],
   "source": [
    "import re\n",
    "txt_tn_business = ' '.join(links_tn_business)\n",
    "url_tn_business_raw = re.findall(r'https://www.timesnownews.com/business-economy/[a-zA-Z0-9\\/\\.\\-\\:]*/[0-9]+|/business-economy/[a-zA-Z0-9\\/\\.\\-\\:]*/[0-9]+', txt_tn_business)\n",
    "#print(len(url_tn_business_raw))\n",
    "#print(url_tn_business_raw)"
   ]
  },
  {
   "cell_type": "markdown",
   "metadata": {},
   "source": [
    "#### Removing duplicates\n",
    "There can be duplicates present so a simple task to remove duplicates is to convert the list to set, as we know set can't contain duplicates. And then change the set back to list."
   ]
  },
  {
   "cell_type": "code",
   "execution_count": 80,
   "metadata": {},
   "outputs": [
    {
     "data": {
      "text/plain": [
       "['https://www.timesnownews.com/business-economy/companies/article/ril-stock-rally-swells-mukesh-ambanis-net-worth-by-rs-41500-crore-to-rs-6-56-lakh-crore-in-a-day/650845',\n",
       " '/business-economy/real-estate/article/july-sales-of-new-homes-surge-13-9-far-more-than-thought/642730',\n",
       " '/business-economy/industry/article/aai-plans-to-develop-100-airports-waterdromes-heliports-under-udan-by/670866',\n",
       " 'https://www.timesnownews.com/business-economy/industry/article/delhi-airport-emerges-second-safest-globally-on-covid-19-related-safety-protocols-dial/670878',\n",
       " '/business-economy/world-news/article/sweden-bans-chinas-huawei-zte-from-5g-network/670355',\n",
       " '/business-economy/personal-finance/article/latest-fixed-deposit-rates-compared-fd-rates-for-sbi-pnb-hdfc-and-other-banks/670368',\n",
       " 'https://www.timesnownews.com/business-economy/economy/article/govt-needs-to-put-out-fiscal-roadmap-post-virus-says-rbi-governor-shaktikanta-das/670844',\n",
       " '/business-economy/article/goddess-lakshmi-shines-during-navratri-indians-spend-rs-22000-crore-in-4-5-days-of-online-festive-sale/670699',\n",
       " 'https://www.timesnownews.com/business-economy/markets/article/sebi-chief-tyagi-bats-for-reducing-fin-sectors-reliance-on-banking-system-for-fundraise/670896',\n",
       " '/business-economy/industry/article/cabinet-approves-productivity-linked-bonus-non-productivity-linked-bonus-for-2019/670705',\n",
       " '/business-economy/companies/article/neutralising-negative-growth-coal-india-poised-for-output-ramp-up/670845',\n",
       " 'https://www.timesnownews.com/business-economy/personal-finance/planning-investing/article/investing-just-rs-1000-per-month-may-help-you-accumulate-rs-50-lakh-before-retirement/650517',\n",
       " 'https://www.timesnownews.com/business-economy/economy/article/bharatmala-pariyojana-greenfield-highway-to-be-constructed-in-rajasthan/670735',\n",
       " 'https://www.timesnownews.com/business-economy/companies/article/yes-bank-offers-discounts-on-credit-card-purchases-loans-at-competitive-rates/670838',\n",
       " 'https://www.timesnownews.com/business-economy/markets/article/market-recovery-since-lows-of-march-broad-based-sebi-chief/670882',\n",
       " '/business-economy/real-estate/article/realtors-woo-buyers-with-discounts-to-boost-sales-amid-pandemic-good-time-to-buy/649107',\n",
       " '/business-economy/industry/article/delhi-airport-emerges-second-safest-globally-on-covid-19-related-safety-protocols-dial/670878',\n",
       " 'https://www.timesnownews.com/business-economy/economy/article/govt-plans-to-extend-pli-scheme-to-7-8-more-sectors-to-promote-manufacturing-dea-secy/670852',\n",
       " 'https://www.timesnownews.com/business-economy/markets/article/wall-street-shoots-higher-with-focus-on-stimulus/670869',\n",
       " '/business-economy/markets/article/global-equities-fail-to-advance-stimulus-talks-yield-nothing-concrete/670998',\n",
       " 'https://www.timesnownews.com/business-economy/economy/article/raghuram-rajan-cautions-against-import-substitution/670922',\n",
       " 'https://www.timesnownews.com/business-economy/markets/article/sebi-penalises-kirloskar-brothers-ltd-promoters-others-for-fraud/670872',\n",
       " '/business-economy/industry/article/gadkari-launches-unique-khadi-footwear-kvic-targets-rs-5000-crore-business/670819',\n",
       " '/business-economy/companies/article/yes-bank-offers-discounts-on-credit-card-purchases-loans-at-competitive-rates/670838',\n",
       " 'https://www.timesnownews.com/business-economy/economy/article/workforce-automating-faster-than-expected-automation-digitisation-in-india-above-global-avg-study/670727',\n",
       " 'https://www.timesnownews.com/business-economy/personal-finance/loans/article/how-retail-borrowers-can-restructure-their-home-car-and-personal-loans-all-questions-answered/650944',\n",
       " '/business-economy/real-estate/article/empty-homes-rise-in-bengaluru-heres-why/647211',\n",
       " '/business-economy/industry/article/reports-of-hike-in-rail-passenger-fare-during-festival-season-misleading-clarifies-railways/670803',\n",
       " 'https://www.timesnownews.com/business-economy/industry/article/work-from-home-tips-for-the-long-haul-that-you-need-to-know/650787',\n",
       " '/business-economy/markets/article/market-opens-lower-following-weak-global-cues-sensex-down-215-points-nifty-below/671018',\n",
       " 'https://www.timesnownews.com/business-economy/companies/article/covid-driven-cleanliness-overdrive-adds-sparkle-to-fmcg-sales/670863',\n",
       " '/business-economy/companies/article/exclusive-amazon-vs-future-group-emergency-arbitration-ruling-by-oct/670192',\n",
       " 'https://www.timesnownews.com/business-economy/industry/article/e-tailing-to-become-usd-200-bn-opportunity-by-2025-report/670875',\n",
       " '/business-economy/personal-finance/article/this-app-now-offers-scan-now-and-pay-later-option-on-upi/670867',\n",
       " '/business-economy/personal-finance/income-tax/article/income-tax-return-for-ay-2020-21-documents-required-last-date-and-other-details/670293',\n",
       " '/business-economy/economy/article/stimulus-mini-2-0-conditions-apply-to-jump-start-the-economy/665995',\n",
       " 'https://www.timesnownews.com/business-economy/real-estate/article/dlf-signs-on-stanc-in-1-of-2020s-largest-deals-in-commercial-real-estate/670839',\n",
       " '/business-economy/economy/article/why-the-indian-economic-engine-needs-a-strong-second-stimulus/662903',\n",
       " '/business-economy/personal-finance/loans/article/sbi-announces-festive-season-interest-concession-up-to-0-25-on-select-home-loans/670577',\n",
       " '/business-economy/world-news/article/us-vs-google-antitrust-case-10-top-takeaways-from-64-page-complaint/670400',\n",
       " '/business-economy/world-news/article/chinas-gdp-growth-quickens-but-below-expectations/669565',\n",
       " 'https://www.timesnownews.com/business-economy/personal-finance/article/this-app-now-offers-scan-now-and-pay-later-option-on-upi/670867',\n",
       " 'https://www.timesnownews.com/business-economy/personal-finance/planning-investing/article/sbi-special-fd-scheme-for-senior-citizens-heres-what-sbi-hdfc-bank-others-offer/670918',\n",
       " '/business-economy/economy/article/har-ek-asset-class-zaruri-hota-hai/670665',\n",
       " '/business-economy/economy/article/pm-modi-to-meet-15-fund-houses-to-attract-foreign-investment/671007',\n",
       " 'https://www.timesnownews.com/business-economy/economy/article/govt-will-have-to-spell-out-fiscal-roadmap-once-covid-19-is-contained-says-rbi-governor/670885',\n",
       " '/business-economy/economy/article/onion-prices-reach-rs-100-per-kg-in-mumbai-pune-as-wholesale-prices-soar/671060',\n",
       " 'https://www.timesnownews.com/business-economy/companies/article/neutralising-negative-growth-coal-india-poised-for-output-ramp-up/670845',\n",
       " '/business-economy/real-estate/article/home-buyers-on-the-rise-in-bengaluru-kerala-pune-gurugram/646640',\n",
       " '/business-economy/industry/article/railways-to-allow-women-to-travel-on-suburban-trains-check-timings-and-other-details/670233',\n",
       " '/business-economy/companies/article/covid-driven-cleanliness-overdrive-adds-sparkle-to-fmcg-sales/670863',\n",
       " '/business-economy/companies/article/from-indo-pak-border-in-gujarat-to-jungles-of-gir-where-flipkart-delivered-this-festive-season/670827',\n",
       " '/business-economy/markets/article/india-equity-trade-setup-for-22-october/670993',\n",
       " '/business-economy/world-news/article/jeetu-panjabi-analysis-the-global-super-cycle/670213',\n",
       " '/business-economy/economy/article/raghuram-rajan-cautions-against-import-substitution/670922',\n",
       " '/business-economy/economy/article/govt-will-have-to-spell-out-fiscal-roadmap-once-covid-19-is-contained-says-rbi-governor/670885',\n",
       " 'https://www.timesnownews.com/business-economy/companies/article/flipkart-walmart-vie-for-stake-in-aditya-birla-fashion-and-retail-abfrl/670965',\n",
       " 'https://www.timesnownews.com/business-economy/economy/article/epfo-to-try-and-pay-interest-of-8-5-for-fy20-at-one-shot/650883',\n",
       " '/business-economy/world-news/article/philips-third-quarter-core-profit-jumps-32-as-pandemic-spurs-hospital-demand/669433',\n",
       " '/business-economy/markets/article/stocks-to-track-in-trade-for-october-22-2020-bajaj-finserv-chennai-petroleum-jk-tyre-dlf-abfrl-colgate/670994',\n",
       " '/business-economy/real-estate/article/dlf-signs-on-stanc-in-1-of-2020s-largest-deals-in-commercial-real-estate/670839',\n",
       " '/business-economy/companies/article/flipkart-walmart-vie-for-stake-in-aditya-birla-fashion-and-retail-abfrl/670965',\n",
       " '/business-economy/personal-finance/planning-investing/article/sbi-special-fd-scheme-for-senior-citizens-heres-what-sbi-hdfc-bank-others-offer/670918',\n",
       " '/business-economy/economy/article/indian-economy-set-for-a-near-double-digit-contraction-this-fiscal-year/671052',\n",
       " '/business-economy/markets/article/oil-slips-on-weaker-demand-outlook-after-us-gasoline-stocks-build/670988',\n",
       " '/business-economy/industry/article/e-tailing-to-become-usd-200-bn-opportunity-by-2025-report/670875',\n",
       " 'https://www.timesnownews.com/business-economy/industry/article/aai-plans-to-develop-100-airports-waterdromes-heliports-under-udan-by-2024/670866']"
      ]
     },
     "execution_count": 80,
     "metadata": {},
     "output_type": "execute_result"
    }
   ],
   "source": [
    "url_tn_business_raw = set(url_tn_business_raw)\n",
    "url_tn_business_raw = list(url_tn_business_raw)\n",
    "#print(len(url_tn_business_raw))\n",
    "url_tn_business_raw"
   ]
  },
  {
   "cell_type": "markdown",
   "metadata": {},
   "source": [
    "#### Filtering without header URLs and adding header\n",
    "As you can notice above that there are many URLs which doesn't start with https or even www, rather they start from the category like '/business/india-business/sensex-drops-over-100-points-in-opening-trade-nifty-below-11650/articleshow/78527429.cms'. Now for such links we will have to use RegEx to substitute https://timesofindia.indiatimes.com in the beginning. That is what is done in next code snippet."
   ]
  },
  {
   "cell_type": "code",
   "execution_count": 81,
   "metadata": {},
   "outputs": [],
   "source": [
    "url_tn_business = []\n",
    "url_tn_business = [re.sub(r'(?<![a-z/:])(/business-economy/[a-zA-Z0-9\\/\\.\\-\\:]*/[0-9]+)', r'https://www.timesnownews.com\\1', without_header) for without_header in url_tn_business_raw]\n",
    "#print(len(url_tn_business))\n",
    "#print(url_tn_business)"
   ]
  },
  {
   "cell_type": "markdown",
   "metadata": {},
   "source": [
    "#### Cached Previous day URL to compare against the new URL\n",
    "All the links present here can have duplicates from previous day or few days back. So, we have to make comparison with the URLs that we already have to find any redundant article. We can use our traditional filesystem to get the URLs from cached file."
   ]
  },
  {
   "cell_type": "markdown",
   "metadata": {},
   "source": [
    "#### Compare against cached URLs to find only new links for today"
   ]
  },
  {
   "cell_type": "code",
   "execution_count": 82,
   "metadata": {},
   "outputs": [],
   "source": [
    "cached_url_tn_business = []\n",
    "with open('./data/times_now/cached_url_tn_business.txt', 'r') as filehandle:\n",
    "    for line in filehandle:\n",
    "        # remove linebreak which is the last character of the string\n",
    "        currentPlace = line[:-1]\n",
    "\n",
    "        # add item to the list\n",
    "        cached_url_tn_business.append(currentPlace)"
   ]
  },
  {
   "cell_type": "code",
   "execution_count": 83,
   "metadata": {},
   "outputs": [
    {
     "data": {
      "text/plain": [
       "309"
      ]
     },
     "execution_count": 83,
     "metadata": {},
     "output_type": "execute_result"
    }
   ],
   "source": [
    "len(cached_url_tn_business)"
   ]
  },
  {
   "cell_type": "code",
   "execution_count": 84,
   "metadata": {},
   "outputs": [],
   "source": [
    "latest_url_tn_business = list(set(url_tn_business) - set(cached_url_tn_business))\n",
    "\n",
    "#print(len(latest_url_tn_business))\n",
    "#print(latest_url_tn_business)"
   ]
  },
  {
   "cell_type": "markdown",
   "metadata": {},
   "source": [
    "#### Cache the latest URL for future comparisons"
   ]
  },
  {
   "cell_type": "code",
   "execution_count": 85,
   "metadata": {},
   "outputs": [],
   "source": [
    "with open('./data/times_now/cached_url_tn_business.txt', 'a') as filehandle:\n",
    "    for listitem in latest_url_tn_business:\n",
    "        filehandle.write('%s\\n' % listitem)"
   ]
  },
  {
   "cell_type": "markdown",
   "metadata": {},
   "source": [
    "### Sports"
   ]
  },
  {
   "cell_type": "code",
   "execution_count": 86,
   "metadata": {},
   "outputs": [],
   "source": [
    "import re\n",
    "import requests\n",
    "from bs4 import BeautifulSoup\n",
    "\n",
    "response_tn_sports = requests.get(url='https://www.timesnownews.com/sports', headers={'User-Agent':''})\n",
    "soup_tn_sports = BeautifulSoup(response_tn_sports.content, 'html.parser')\n",
    "\n",
    "links_tn_sports = []\n",
    "for link in soup_tn_sports.findAll('a', href=True):\n",
    "    links_tn_sports.append(link.get('href'))\n",
    "#print(len(links_tn_sports))\n",
    "#print(links_tn_sports)"
   ]
  },
  {
   "cell_type": "markdown",
   "metadata": {},
   "source": [
    "#### Finding only the relevant URLs from the list of all links.\n",
    "Now we have to filter only the links that are related to articles and that too only sports realted articles. I have used RegEx for this task. All the news articles have '.cms' type in the end and they contain '/sports/' so I made use of those two major things to find all the valid URLs.  "
   ]
  },
  {
   "cell_type": "code",
   "execution_count": 87,
   "metadata": {
    "scrolled": true
   },
   "outputs": [],
   "source": [
    "import re\n",
    "txt_tn_sports = ' '.join(links_tn_sports)\n",
    "url_tn_sports_raw = re.findall(r'https://www.timesnownews.com/sports/[a-zA-Z0-9\\/\\.\\-\\:]*/[0-9]+|/sports/[a-zA-Z0-9\\/\\.\\-\\:]*/[0-9]+', txt_tn_sports)\n",
    "#print(len(url_tn_sports_raw))\n",
    "#print(url_tn_sports_raw)"
   ]
  },
  {
   "cell_type": "markdown",
   "metadata": {},
   "source": [
    "#### Removing duplicates\n",
    "There can be duplicates present so a simple task to remove duplicates is to convert the list to set, as we know set can't contain duplicates. And then change the set back to list."
   ]
  },
  {
   "cell_type": "code",
   "execution_count": 88,
   "metadata": {},
   "outputs": [
    {
     "data": {
      "text/plain": [
       "['/sports/cricket/article/miyan-ready-ho-jao-what-virat-kohli-told-mohammed-siraj-before-his-sensational-opening-spell-against-kkr/670927',\n",
       " 'https://www.timesnownews.com/sports/tennis/article/novak-djokovic-pulls-out-of-paris-masters-with-no-points-to-win/670771',\n",
       " 'https://www.timesnownews.com/sports/cricket/article/rr-vs-srh-prediction-who-will-win-rajasthan-royals-vs-sunrisers-hyderabad-ipl-2020-match-today/670962',\n",
       " '/sports/football/article/chapions-league-liverpool-edge-past-ajax-1-0-show-they-can-cope-without-virgil-van-dijk/670974',\n",
       " 'https://www.timesnownews.com/sports/cricket/article/dont-think-a-lot-of-people-have-belief-in-rcb-but-i-do-virat-kohli-oozing-with-confidence-post-kkr-win/671031',\n",
       " 'https://www.timesnownews.com/sports/cricket/article/ipl-2020-updated-points-table-orange-cap-purple-cap-standings-after-kkr-vs-rcb-match/670911',\n",
       " '/sports/football/article/kingsley-coman-bags-brace-as-bayern-munich-thump-atletico-madrid-4-0-in-champions-league-opener/670971',\n",
       " 'https://www.timesnownews.com/sports/cricket/cricket-news/article/englands-white-ball-tour-of-south-africa-to-go-ahead-amid-sa-government-threat/670890',\n",
       " 'https://www.timesnownews.com/sports/cricket/article/romario-shepherd-to-replace-injured-dwayne-bravo-in-west-indies-squad-for-new-zealand-tour/671034',\n",
       " '/sports/cricket/article/move-away-gracefully-fans-ask-ms-dhoni-stephen-fleming-to-quit-as-csk-look-set-to-miss-out-on-playoffs/670069',\n",
       " '/sports/cricket/article/virat-kohli-imitates-steve-smiths-batting-stance-prior-to-rcb-vs-kkr-tie-in-ipl-2020-watch/670880',\n",
       " 'https://www.timesnownews.com/sports/cricket/article/rajasthan-royals-vs-sunrisers-hyderabad-likely-playing-xis-jason-holder-to-replace-kane-williamson/671025',\n",
       " '/sports/cricket/article/kolkata-knight-riders-vs-royal-challengers-bangalore-kkr-vs-rcb-ipl-2020-live-score-and-updates/670789',\n",
       " '/sports/cricket/article/watch-bhangra-and-celebrations-in-kxip-dressing-room-after-defeating-top-three-teams-in-ipl/671039',\n",
       " '/sports/cricket/article/ipl-2020-kkr-vs-rcb-highlights-mohammed-siraj-virat-kohli-kolkata-knight-riders-royal-challengers-bangalore/670929',\n",
       " '/sports/cricket/article/dont-get-the-reason-behind-giving-the-ball-to-a-new-bowler-virat-kohlis-captaincy-surprises-gautam-gambhir/671066',\n",
       " '/sports/cricket/article/kkrs-848-against-rcb-a-look-at-top-10-lowest-totals-in-ipl-history/670906',\n",
       " '/sports/cricket/article/rajasthan-royals-vs-sunrisers-hyderabad-likely-playing-xis-jason-holder-to-replace-kane-williamson/671025',\n",
       " '/sports/cricket/article/dont-think-a-lot-of-people-have-belief-in-rcb-but-i-do-virat-kohli-oozing-with-confidence-post-kkr-win/671031',\n",
       " '/sports/cricket/article/ipl-2020-playoffs-qualification-scenario-why-kkrs-defeat-against-rcb-is-good-news-for-kxip-and-rr/670921',\n",
       " '/sports/football/article/real-madrid-stunned-by-shakhtar-donetsk-in-champions-league-opener/670925',\n",
       " 'https://www.timesnownews.com/sports/cricket/photo-gallery/in-photos-ipl-2020-kkr-vs-rcb-match-39-kolkata-knight-riders-vs-royal-challengers-bangalore/670864',\n",
       " '/sports/cricket/article/unhappy-csk-management-to-take-tough-calls-ahead-of-ipl-2021-several-players-could-be-axed-report/670986',\n",
       " 'https://www.timesnownews.com/sports/football/article/manchester-united-report-net-annual-loss-of-30-3-million-due-to-coronavirus-pandemic/670892',\n",
       " 'https://www.timesnownews.com/sports/football/article/chapions-league-liverpool-edge-past-ajax-1-0-show-they-can-cope-without-virgil-van-dijk/670974',\n",
       " '/sports/cricket/article/who-is-riana-lalwani-the-mystery-girl-who-became-an-internet-sensation-after-kxip-vs-mi-super-over-tie/670173',\n",
       " 'https://www.timesnownews.com/sports/cricket/article/dwayne-bravo-shares-emotional-message-to-csk-fans-before-leaving-uae-this-wasnt-a-season-we-expected/670848',\n",
       " '/sports/cricket/article/bcci-to-pick-32-member-team-for-australia-tour-unlike-ipl-2020-no-families-allowed-report/670461',\n",
       " 'https://www.timesnownews.com/sports/cricket/ipl/article/wake-up-call-for-us-we-should-take-more-responsibility-delhi-capitals-skipper-shreyas-iyer-after-kxip-loss/670817',\n",
       " '/sports/football/article/pep-guardiola-bemoans-gruelling-schedule-as-sluggish-manchester-city-see-off-fc-porto/670977',\n",
       " '/sports/football/article/manchester-united-report-net-annual-loss-of-30-3-million-due-to-coronavirus-pandemic/670892',\n",
       " 'https://www.timesnownews.com/sports/cricket/article/watch-bhangra-and-celebrations-in-kxip-dressing-room-after-defeating-top-three-teams-in-ipl-2020/671039',\n",
       " 'https://www.timesnownews.com/sports/cricket/article/lowest-he-should-go-is-no-5-ajit-agarkar-suggests-one-change-ms-dhoni-needs-to-make-for-csk/670853',\n",
       " 'https://www.timesnownews.com/sports/cricket/article/we-should-have-bowled-first-eoin-morgan-reacts-after-kkrs-defeat-against-kohli-led-rcb/670917',\n",
       " 'https://www.timesnownews.com/sports/cricket/article/royal-challengers-bangalore-thrash-kolkata-knight-riders-by-8-wickets/670889',\n",
       " 'https://www.timesnownews.com/sports/cricket/article/watch-mohammed-siraj-cleans-up-nitish-rana-with-a-peach-to-take-two-wickets-in-two-balls-against-kkr/670874',\n",
       " '/sports/cricket/article/ipl-2020-playoffs-qualification-scenario-what-do-csk-kxip-rr-srh-need-to-finish-in-top/669909',\n",
       " 'https://www.timesnownews.com/sports/football/article/pep-guardiola-bemoans-gruelling-schedule-as-sluggish-manchester-city-see-off-fc-porto/670977',\n",
       " 'https://www.timesnownews.com/sports/cricket/article/feels-like-i-have-failed-arsenal-says-mikel-arteta-as-mesut-ozil-blasts-club-over-omission-from-squad/670952',\n",
       " 'https://www.timesnownews.com/sports/cricket/article/dont-get-the-reason-behind-giving-the-ball-to-a-new-bowler-virat-kohlis-captaincy-surprises-gautam-gambhir/671066',\n",
       " '/sports/cricket/article/romario-shepherd-to-replace-injured-dwayne-bravo-in-west-indies-squad-for-new-zealand-tour/671034']"
      ]
     },
     "execution_count": 88,
     "metadata": {},
     "output_type": "execute_result"
    }
   ],
   "source": [
    "url_tn_sports_raw = set(url_tn_sports_raw)\n",
    "url_tn_sports_raw = list(url_tn_sports_raw)\n",
    "#print(len(url_tn_sports_raw))\n",
    "url_tn_sports_raw"
   ]
  },
  {
   "cell_type": "markdown",
   "metadata": {},
   "source": [
    "#### Filtering without header URLs and adding header\n",
    "As you can notice above that there are many URLs which doesn't start with https or even www, rather they start from the category like '/sports/india-sports/sensex-drops-over-100-points-in-opening-trade-nifty-below-11650/articleshow/78527429.cms'. Now for such links we will have to use RegEx to substitute https://timesofindia.indiatimes.com in the beginning. That is what is done in next code snippet."
   ]
  },
  {
   "cell_type": "code",
   "execution_count": 89,
   "metadata": {},
   "outputs": [],
   "source": [
    "url_tn_sports = []\n",
    "url_tn_sports = [re.sub(r'(?<![a-z/:])(/sports/[a-zA-Z0-9\\/\\.\\-\\:]*/[0-9]+)', r'https://www.timesnownews.com\\1', without_header) for without_header in url_tn_sports_raw]\n",
    "#print(len(url_tn_sports))\n",
    "#print(url_tn_sports)"
   ]
  },
  {
   "cell_type": "markdown",
   "metadata": {},
   "source": [
    "#### Cached Previous day URL to compare against the new URL\n",
    "All the links present here can have duplicates from previous day or few days back. So, we have to make comparison with the URLs that we already have to find any redundant article. We can use our traditional filesystem to get the URLs from cached file."
   ]
  },
  {
   "cell_type": "markdown",
   "metadata": {},
   "source": [
    "#### Compare against cached URLs to find only new links for today"
   ]
  },
  {
   "cell_type": "code",
   "execution_count": 90,
   "metadata": {},
   "outputs": [],
   "source": [
    "cached_url_tn_sports = []\n",
    "with open('./data/times_now/cached_url_tn_sports.txt', 'r') as filehandle:\n",
    "    for line in filehandle:\n",
    "        # remove linebreak which is the last character of the string\n",
    "        currentPlace = line[:-1]\n",
    "\n",
    "        # add item to the list\n",
    "        cached_url_tn_sports.append(currentPlace)"
   ]
  },
  {
   "cell_type": "code",
   "execution_count": 91,
   "metadata": {},
   "outputs": [
    {
     "data": {
      "text/plain": [
       "258"
      ]
     },
     "execution_count": 91,
     "metadata": {},
     "output_type": "execute_result"
    }
   ],
   "source": [
    "len(cached_url_tn_sports)"
   ]
  },
  {
   "cell_type": "code",
   "execution_count": 92,
   "metadata": {},
   "outputs": [],
   "source": [
    "latest_url_tn_sports = list(set(url_tn_sports) - set(cached_url_tn_sports))\n",
    "\n",
    "#print(len(latest_url_tn_sports))\n",
    "#print(latest_url_tn_sports)"
   ]
  },
  {
   "cell_type": "markdown",
   "metadata": {},
   "source": [
    "#### Cache the latest URL for future comparisons"
   ]
  },
  {
   "cell_type": "code",
   "execution_count": 93,
   "metadata": {},
   "outputs": [],
   "source": [
    "with open('./data/times_now/cached_url_tn_sports.txt', 'a') as filehandle:\n",
    "    for listitem in latest_url_tn_sports:\n",
    "        filehandle.write('%s\\n' % listitem)"
   ]
  },
  {
   "cell_type": "markdown",
   "metadata": {},
   "source": [
    "### World"
   ]
  },
  {
   "cell_type": "code",
   "execution_count": 94,
   "metadata": {},
   "outputs": [],
   "source": [
    "import re\n",
    "import requests\n",
    "from bs4 import BeautifulSoup\n",
    "\n",
    "response_tn_world = requests.get(url='https://www.timesnownews.com/international', headers={'User-Agent':''})\n",
    "soup_tn_world = BeautifulSoup(response_tn_world.content, 'html.parser')\n",
    "\n",
    "links_tn_world = []\n",
    "for link in soup_tn_world.findAll('a', href=True):\n",
    "    links_tn_world.append(link.get('href'))\n",
    "#print(len(links_tn_world))\n",
    "#print(links_tn_world)"
   ]
  },
  {
   "cell_type": "markdown",
   "metadata": {},
   "source": [
    "#### Finding only the relevant URLs from the list of all links.\n",
    "Now we have to filter only the links that are related to articles and that too only world realted articles. I have used RegEx for this task. All the news articles have '.cms' type in the end and they contain '/world/' so I made use of those two major things to find all the valid URLs.  "
   ]
  },
  {
   "cell_type": "code",
   "execution_count": 95,
   "metadata": {
    "scrolled": true
   },
   "outputs": [],
   "source": [
    "import re\n",
    "txt_tn_world = ' '.join(links_tn_world)\n",
    "url_tn_world_raw = re.findall(r'https://www.timesnownews.com/international/[a-zA-Z0-9\\/\\.\\-\\:]*/[0-9]+|/international/[a-zA-Z0-9\\/\\.\\-\\:]*/[0-9]+', txt_tn_world)\n",
    "#print(len(url_tn_world_raw))\n",
    "#print(url_tn_world_raw)"
   ]
  },
  {
   "cell_type": "markdown",
   "metadata": {},
   "source": [
    "#### Removing duplicates\n",
    "There can be duplicates present so a simple task to remove duplicates is to convert the list to set, as we know set can't contain duplicates. And then change the set back to list."
   ]
  },
  {
   "cell_type": "code",
   "execution_count": 96,
   "metadata": {},
   "outputs": [
    {
     "data": {
      "text/plain": [
       "['/international/photo-gallery/international-womens-day-2020-greta-thunberg-to-oprah-winfrey-10-influential-female-figures-of-the-world/562427',\n",
       " 'https://www.timesnownews.com/international/article/us-charges-6-russian-intelligence-officers-for-global-hacking-campaign-including-notpetya-ransomware-attacks/669917',\n",
       " 'https://www.timesnownews.com/international/article/uk-govt-suffers-defeat-by-house-of-lords-over-brexit-bill/670343',\n",
       " 'https://www.timesnownews.com/international/article/hindu-groups-want-kamala-harris-niece-to-apologise-for-tweeting-image-showing-aunt-as-durga/670136',\n",
       " '/international/video/uzbekistan-s-tourism-landscape-offers-tremendous-business-opportunities-for-india/322568',\n",
       " '/international/article/us-presidential-election-debate-2020-donald-trump-joe-biden-final-face-off/670920',\n",
       " 'https://www.timesnownews.com/international/article/microphones-will-be-muted-in-next-us-presidential-debate-on-thursday-report/669985',\n",
       " 'https://www.timesnownews.com/international/article/trump-says-sudan-will-be-removed-from-terrorism-list/669874',\n",
       " '/international/article/us-lists-six-more-chinese-media-outlets-as-foreign-missions/670909',\n",
       " '/international/article/uk-man-jailed-for-three-years-for-having-sex-with-pet-chickens-his-wife-filmed-horrifying-act/670018',\n",
       " '/international/photo-gallery/photos-melania-trump-to-sophie-gregoire-trudeau-meet-some-of-the-popular-first-ladies-of-the-world/564270',\n",
       " 'https://www.timesnownews.com/international/article/what-a-joe-biden-presidency-could-mean-for-us-india-relations/670210',\n",
       " 'https://www.timesnownews.com/international/article/france-closes-paris-mosque-in-clampdown-over-teachers-beheading/670404',\n",
       " '/international/photo-gallery/photos-defying-curfew-thousands-from-across-the-us-join-to-protest-george-floyds-death/600949',\n",
       " 'https://www.timesnownews.com/international/article/donald-trump-joe-biden-go-head-to-head-as-republicans-close-in-on-democrat-lead-two-weeks-before-crucial-us-elections/669853',\n",
       " 'https://www.timesnownews.com/international/article/the-diverse-campaign-style-of-president-trump-and-joe-biden/670361',\n",
       " '/international/article/hindu-groups-want-kamala-harris-niece-to-apologise-for-tweeting-image-showing-aunt-as-durga/670136',\n",
       " 'https://www.timesnownews.com/international/article/iran-woman-arrested-for-cycling-without-hijab/670340',\n",
       " '/international/video/north-korea-kim-jong-un-surprise-visit-to-china-president-xi-jinping-beijing/211670',\n",
       " '/international/article/us-snubs-beijing-one-china-policy-decides-to-sell-air-to-ground-missiles-to-taiwan/670992',\n",
       " '/international/photo-gallery/photos-jair-bolsonaro-to-bill-clinton-prominent-world-leaders-who-have-visited-the-taj-mahal/555846',\n",
       " '/international/video/france-islamic-state-trebes-carcassonne-super-u-supermarket-shooting-hostages-paris-europe/210579',\n",
       " '/international/video/uzbekistan-fast-emerging-as-a-land-of-business-opportunities/322582',\n",
       " '/international/article/pope-francis-favors-legal-rights-for-same-sex-couples-in-a-big-first/670851',\n",
       " '/international/article/massive-unrest-in-karachi-after-top-provincial-police-official-allegedly-abducted-pakistan-army-orders-probe/670473',\n",
       " '/international/article/pakistan-is-hurtling-towards-chaos-karachi-incident-raises-troubling-questions-over-who-is-in-charge/670743',\n",
       " 'https://www.timesnownews.com/international/article/will-pakistan-continue-to-stay-on-fatfs-grey-list-global-watchdog-to-decide-today/670387',\n",
       " 'https://www.timesnownews.com/international/article/vladimir-putin-says-russia-supports-stronger-un-role-in-world-affairs/669862',\n",
       " 'https://www.timesnownews.com/international/article/uk-man-jailed-for-three-years-for-having-sex-with-pet-chickens-his-wife-filmed-horrifying-act/670018',\n",
       " '/international/article/barack-obama-rips-into-donald-trump-record-in-2020-white-house-campaign-trail-debut/670939',\n",
       " 'https://www.timesnownews.com/international/article/japan-ramping-up-pressure-on-china-over-south-china-sea-report/670076',\n",
       " '/international/photo-gallery/pics-activists-supporters-and-leaders-pay-tribute-to-late-george-floyd-at-his-memorial-in-minneapolis/601940',\n",
       " '/international/article/france-closes-paris-mosque-in-clampdown-over-teachers-beheading/670404',\n",
       " 'https://www.timesnownews.com/international/article/conversion-of-hindu-girls-cant-be-considered-forced-pak-senator/670272',\n",
       " 'https://www.timesnownews.com/international/article/arrest-warrants-issued-for-founders-of-panama-papers-firm-report/670111',\n",
       " 'https://www.timesnownews.com/international/article/principle-of-self-determination-deliberately-misused-by-a-particular-nation-india-veiled-jibe-at-pakistan-in-un/670451',\n",
       " '/international/photo-gallery/belgium-chocolate-festival-2020-pics-pure-chocolate-made-designer-outfits-will-leave-you-drooling-for-a-bite/553534',\n",
       " 'https://www.timesnownews.com/international/article/uae-government-delegation-arrives-in-israel-on-historic-first-official-visit/670104',\n",
       " 'https://www.timesnownews.com/international/article/ahead-of-fatf-meet-pakistan-continues-blind-eye-on-let-jem-haqqani-network/670330',\n",
       " '/international/article/us-elections-2020-barack-obama-lends-support-to-biden-harris-campaign-in-philadelphia/671019',\n",
       " '/international/video/baghdadi-video-pentagon-releases-video-footage-of-is-chief-al-baghdadi-killed-during-us-armys-raids/509857',\n",
       " '/international/photo-gallery/photos-statues-defaced-and-slogans-shouted-black-lives-matter-movement-intensifies-in-britain/604136',\n",
       " '/international/article/two-parallel-govts-controlling-pak-says-nawaz-sharif-after-sindh-police-igs-abduction-son-in-laws-arrest/670829',\n",
       " 'https://www.timesnownews.com/international/article/pro-trump-indian-american-campaign-video-stresses-safety-economy-and-india-support/670106']"
      ]
     },
     "execution_count": 96,
     "metadata": {},
     "output_type": "execute_result"
    }
   ],
   "source": [
    "url_tn_world_raw = set(url_tn_world_raw)\n",
    "url_tn_world_raw = list(url_tn_world_raw)\n",
    "#print(len(url_tn_world_raw))\n",
    "url_tn_world_raw"
   ]
  },
  {
   "cell_type": "markdown",
   "metadata": {},
   "source": [
    "#### Filtering without header URLs and adding header\n",
    "As you can notice above that there are many URLs which doesn't start with https or even www, rather they start from the category like '/world/india-world/sensex-drops-over-100-points-in-opening-trade-nifty-below-11650/articleshow/78527429.cms'. Now for such links we will have to use RegEx to substitute https://timesofindia.indiatimes.com in the beginning. That is what is done in next code snippet."
   ]
  },
  {
   "cell_type": "code",
   "execution_count": 97,
   "metadata": {},
   "outputs": [],
   "source": [
    "url_tn_world = []\n",
    "url_tn_world = [re.sub(r'(?<![a-z/:])(/international/[a-zA-Z0-9\\/\\.\\-\\:]*/[0-9]+)', r'https://www.timesnownews.com\\1', without_header) for without_header in url_tn_world_raw]\n",
    "#print(len(url_tn_world))\n",
    "#print(url_tn_world)"
   ]
  },
  {
   "cell_type": "markdown",
   "metadata": {},
   "source": [
    "#### Cached Previous day URL to compare against the new URL\n",
    "All the links present here can have duplicates from previous day or few days back. So, we have to make comparison with the URLs that we already have to find any redundant article. We can use our traditional filesystem to get the URLs from cached file."
   ]
  },
  {
   "cell_type": "markdown",
   "metadata": {},
   "source": [
    "#### Compare against cached URLs to find only new links for today"
   ]
  },
  {
   "cell_type": "code",
   "execution_count": 98,
   "metadata": {},
   "outputs": [],
   "source": [
    "cached_url_tn_world = []\n",
    "with open('./data/times_now/cached_url_tn_world.txt', 'r') as filehandle:\n",
    "    for line in filehandle:\n",
    "        # remove linebreak which is the last character of the string\n",
    "        currentPlace = line[:-1]\n",
    "\n",
    "        # add item to the list\n",
    "        cached_url_tn_world.append(currentPlace)"
   ]
  },
  {
   "cell_type": "code",
   "execution_count": 99,
   "metadata": {},
   "outputs": [
    {
     "data": {
      "text/plain": [
       "168"
      ]
     },
     "execution_count": 99,
     "metadata": {},
     "output_type": "execute_result"
    }
   ],
   "source": [
    "len(cached_url_tn_world)"
   ]
  },
  {
   "cell_type": "code",
   "execution_count": 100,
   "metadata": {
    "scrolled": true
   },
   "outputs": [],
   "source": [
    "latest_url_tn_world = list(set(url_tn_world) - set(cached_url_tn_world))\n",
    "\n",
    "#print(len(latest_url_tn_world))\n",
    "#print(latest_url_tn_world)"
   ]
  },
  {
   "cell_type": "markdown",
   "metadata": {},
   "source": [
    "#### Cache the latest URL for future comparisons"
   ]
  },
  {
   "cell_type": "code",
   "execution_count": 101,
   "metadata": {},
   "outputs": [],
   "source": [
    "with open('./data/times_now/cached_url_tn_world.txt', 'a') as filehandle:\n",
    "    for listitem in latest_url_tn_world:\n",
    "        filehandle.write('%s\\n' % listitem)"
   ]
  },
  {
   "cell_type": "markdown",
   "metadata": {},
   "source": [
    "### Entertainment"
   ]
  },
  {
   "cell_type": "code",
   "execution_count": 102,
   "metadata": {},
   "outputs": [],
   "source": [
    "import re\n",
    "import requests\n",
    "from bs4 import BeautifulSoup\n",
    "\n",
    "response_tn_entertainment = requests.get(url='https://www.timesnownews.com/entertainment-news', headers={'User-Agent':''})\n",
    "soup_tn_entertainment = BeautifulSoup(response_tn_entertainment.content, 'html.parser')\n",
    "\n",
    "links_tn_entertainment = []\n",
    "for link in soup_tn_entertainment.findAll('a', href=True):\n",
    "    links_tn_entertainment.append(link.get('href'))\n",
    "#print(len(links_tn_entertainment))\n",
    "#print(links_tn_entertainment)"
   ]
  },
  {
   "cell_type": "markdown",
   "metadata": {},
   "source": [
    "#### Finding only the relevant URLs from the list of all links.\n",
    "Now we have to filter only the links that are related to articles and that too only entertainment realted articles. I have used RegEx for this task. All the news articles have '.cms' type in the end and they contain '/entertainment/' so I made use of those two major things to find all the valid URLs.  "
   ]
  },
  {
   "cell_type": "code",
   "execution_count": 103,
   "metadata": {
    "scrolled": true
   },
   "outputs": [],
   "source": [
    "import re\n",
    "txt_tn_entertainment = ' '.join(links_tn_entertainment)\n",
    "url_tn_entertainment_raw = re.findall(r'https://www.timesnownews.com/entertainment-news/[a-zA-Z0-9\\/\\.\\-\\:]*/[0-9]+|/entertainment-news/[a-zA-Z0-9\\/\\.\\-\\:]*/[0-9]+', txt_tn_entertainment)\n",
    "#print(len(url_tn_entertainment_raw))\n",
    "#print(url_tn_entertainment_raw)"
   ]
  },
  {
   "cell_type": "markdown",
   "metadata": {},
   "source": [
    "#### Removing duplicates\n",
    "There can be duplicates present so a simple task to remove duplicates is to convert the list to set, as we know set can't contain duplicates. And then change the set back to list."
   ]
  },
  {
   "cell_type": "code",
   "execution_count": 104,
   "metadata": {},
   "outputs": [
    {
     "data": {
      "text/plain": [
       "['https://www.timesnownews.com/entertainment-news/article/mandira-bedi-farida-jalal-anupam-kher-parmeet-sethi-how-dilwale-dulhania-le-jayenge-supporting-cast-members-look-like-now/670664',\n",
       " 'https://www.timesnownews.com/entertainment-news/article/video-sidharth-shukla-screams-with-anger-as-hina-khan-gauahar-khan-say-his-team-cheated-during-task/670074',\n",
       " '/entertainment-news/article/akshay-kumar-continues-to-get-trolled-on-twitter-as-hindu-sena-demands-laxmmi-bomb-title-change/670554',\n",
       " 'https://www.timesnownews.com/entertainment-news/article/kbc-12-man-urges-amitabh-bachchan-to-visit-his-ancestral-village-babu-patti-here-s-how-he-responds/670366',\n",
       " '/entertainment-news/article/bride-to-be-neha-kakkar-shares-unseen-photos-of-rohanpreet-singhs-romantic-proposal-ahead-of-wedding/671062',\n",
       " 'https://www.timesnownews.com/entertainment-news/article/deepika-padukone-alia-bhatt-anushka-sharma-kareena-kapoor-khan-when-bollywood-actresses-wore-pantsuits-without-shirts/669929',\n",
       " 'https://www.timesnownews.com/entertainment-news/article/exclusive-saqeeb-saleem-on-nepotism-debate-if-shah-rukhs-son-is-launched-the-whole-world-would-want-to-watch-him/670037',\n",
       " 'https://www.timesnownews.com/entertainment-news/article/kiara-advanis-gorgeous-maroon-ghagara-sets-cost-is-enough-for-a-5-day-trip-to-thailand/670257',\n",
       " '/entertainment-news/article/exclusive-rashmika-mandanna-and-vijay-deverakondas-stylist-reveals-the-ideal-look-for-an-intimate-wedding/670968',\n",
       " 'https://www.timesnownews.com/entertainment-news/article/25-years-of-dilwale-dulhania-le-jayenge-did-you-know-song-tujhe-dekha-toh-picturised-on-shah-rukh-khan-and-kajol-was-shot-in-gurgaon/669828',\n",
       " 'https://www.timesnownews.com/entertainment-news/article/kbc-12-rs-5000-question-that-sent-subhash-bishnoi-back-home-empty-handed/669797',\n",
       " '/entertainment-news/article/happy-birthday-parineeti-chopra-a-look-back-at-her-inspiring-weight-loss-transformation-journey/670955',\n",
       " '/entertainment-news/article/kbc-12-can-you-answer-rs-50-lakh-question-that-contestant-farhat-naz-found-too-risky-to-attempt/670895',\n",
       " 'https://www.timesnownews.com/entertainment-news/article/exclusive-rj-anmol-on-jitters-before-amrita-raos-delivery-have-to-see-the-baby-to-believe-ye-ho-gaya-hai/670443',\n",
       " 'https://www.timesnownews.com/entertainment-news/article/sanjay-dutt-announces-that-he-is-now-cancer-free/670669',\n",
       " 'https://www.timesnownews.com/entertainment-news/article/wild-card-entries-in-bigg-boss-14-fans-predict-as-contestants-are-alarmed-by-siren-wails-in-latest-video/670592',\n",
       " '/entertainment-news/article/kiara-advanis-gorgeous-maroon-ghagara-sets-cost-is-enough-for-a-5-day-trip-to-thailand/670257',\n",
       " '/entertainment-news/article/kbc-12-man-urges-amitabh-bachchan-to-visit-his-ancestral-village-babu-patti-here-s-how-he-responds/670366',\n",
       " 'https://www.timesnownews.com/entertainment-news/article/alia-bhatt-sara-ali-khan-anushka-deepika-padukone-sonam-kapoor-kareena-kapoor-bollywood-actresses-who-have-aced-the-red-hot-lips-look-0/670434',\n",
       " 'https://www.timesnownews.com/entertainment-news/article/these-before-and-after-photos-of-rockstar-actress-nargis-fakhri-will-leave-you-impressed-0/669846',\n",
       " '/entertainment-news/article/photos-and-videos-that-will-take-you-inside-priyanka-chopras-swanky-mumbai-home/670754',\n",
       " 'https://www.timesnownews.com/entertainment-news/article/vijay-sethupathi-walks-out-of-800-after-backlash-padmaavat-sadak-2-and-more-films-that-created-controversies-before-release/670004',\n",
       " '/entertainment-news/article/kareena-kapoor-khan-kiara-advani-katrina-kaif-shah-rukh-khan-secrets-behind-celeb-names-we-bet-you-didnt-know/670963',\n",
       " 'https://www.timesnownews.com/entertainment-news/article/from-shah-rukh-khan-to-akshay-kumar-bollywood-celebrities-who-have-received-death-threats/669705',\n",
       " 'https://www.timesnownews.com/entertainment-news/article/akshay-kumar-continues-to-get-trolled-on-twitter-as-hindu-sena-demands-laxmmi-bomb-title-change/670554',\n",
       " '/entertainment-news/article/exclusive-saqeeb-saleem-on-nepotism-debate-if-shah-rukhs-son-is-launched-the-whole-world-would-want-to-watch-him/670037',\n",
       " 'https://www.timesnownews.com/entertainment-news/article/after-sussanne-khans-instagram-account-gets-hacked-ekta-kapoor-fears-becoming-the-next-target/669918',\n",
       " 'https://www.timesnownews.com/entertainment-news/article/when-helen-trekked-from-burma-to-mumbai-and-got-reduced-to-almost-a-skeleton/670382',\n",
       " 'https://www.timesnownews.com/entertainment-news/article/bigg-boss-fame-shehnaaz-gills-before-and-after-photos-will-leave-you-jaw-dropped/670110',\n",
       " '/entertainment-news/article/exclusive-shweta-tripathi-aka-golu-of-mirzapur-2-reveals-the-toughest-part-of-working-on-a-show-like-this/670624',\n",
       " 'https://www.timesnownews.com/entertainment-news/article/did-you-know-ali-fazal-aka-guddu-pandit-was-approached-to-play-munna-bhaiya-in-mirzapur-check-out-more-trivia/670649',\n",
       " '/entertainment-news/article/bigg-boss-fame-shehnaaz-gills-before-and-after-photos-will-leave-you-jaw-dropped/670110']"
      ]
     },
     "execution_count": 104,
     "metadata": {},
     "output_type": "execute_result"
    }
   ],
   "source": [
    "url_tn_entertainment_raw = set(url_tn_entertainment_raw)\n",
    "url_tn_entertainment_raw = list(url_tn_entertainment_raw)\n",
    "#print(len(url_tn_entertainment_raw))\n",
    "url_tn_entertainment_raw"
   ]
  },
  {
   "cell_type": "markdown",
   "metadata": {},
   "source": [
    "#### Filtering without header URLs and adding header\n",
    "As you can notice above that there are many URLs which doesn't start with https or even www, rather they start from the category like '/entertainment/india-entertainment/sensex-drops-over-100-points-in-opening-trade-nifty-below-11650/articleshow/78527429.cms'. Now for such links we will have to use RegEx to substitute https://timesofindia.indiatimes.com in the beginning. That is what is done in next code snippet."
   ]
  },
  {
   "cell_type": "code",
   "execution_count": 105,
   "metadata": {},
   "outputs": [],
   "source": [
    "url_tn_entertainment = []\n",
    "url_tn_entertainment = [re.sub(r'(?<![a-z/:])(/entertainment-news/[a-zA-Z0-9\\/\\.\\-\\:]*/[0-9]+)', r'https://www.timesnownews.com\\1', without_header) for without_header in url_tn_entertainment_raw]\n",
    "#print(len(url_tn_entertainment))\n",
    "#print(url_tn_entertainment)"
   ]
  },
  {
   "cell_type": "markdown",
   "metadata": {},
   "source": [
    "#### Cached Previous day URL to compare against the new URL\n",
    "All the links present here can have duplicates from previous day or few days back. So, we have to make comparison with the URLs that we already have to find any redundant article. We can use our traditional filesystem to get the URLs from cached file."
   ]
  },
  {
   "cell_type": "markdown",
   "metadata": {},
   "source": [
    "#### Compare against cached URLs to find only new links for today"
   ]
  },
  {
   "cell_type": "code",
   "execution_count": 106,
   "metadata": {},
   "outputs": [],
   "source": [
    "cached_url_tn_entertainment = []\n",
    "with open('./data/times_now/cached_url_tn_entertainment.txt', 'r') as filehandle:\n",
    "    for line in filehandle:\n",
    "        # remove linebreak which is the last character of the string\n",
    "        currentPlace = line[:-1]\n",
    "\n",
    "        # add item to the list\n",
    "        cached_url_tn_entertainment.append(currentPlace)"
   ]
  },
  {
   "cell_type": "code",
   "execution_count": 107,
   "metadata": {},
   "outputs": [
    {
     "data": {
      "text/plain": [
       "134"
      ]
     },
     "execution_count": 107,
     "metadata": {},
     "output_type": "execute_result"
    }
   ],
   "source": [
    "len(cached_url_tn_entertainment)"
   ]
  },
  {
   "cell_type": "code",
   "execution_count": 108,
   "metadata": {
    "scrolled": true
   },
   "outputs": [],
   "source": [
    "latest_url_tn_entertainment = list(set(url_tn_entertainment) - set(cached_url_tn_entertainment))\n",
    "\n",
    "#print(len(latest_url_tn_entertainment))\n",
    "#print(latest_url_tn_entertainment)"
   ]
  },
  {
   "cell_type": "markdown",
   "metadata": {},
   "source": [
    "#### Cache the latest URL for future comparisons"
   ]
  },
  {
   "cell_type": "code",
   "execution_count": 109,
   "metadata": {},
   "outputs": [],
   "source": [
    "with open('./data/times_now/cached_url_tn_entertainment.txt', 'a') as filehandle:\n",
    "    for listitem in latest_url_tn_entertainment:\n",
    "        filehandle.write('%s\\n' % listitem)"
   ]
  },
  {
   "cell_type": "markdown",
   "metadata": {},
   "source": [
    "### India"
   ]
  },
  {
   "cell_type": "code",
   "execution_count": 110,
   "metadata": {},
   "outputs": [],
   "source": [
    "import re\n",
    "import requests\n",
    "from bs4 import BeautifulSoup\n",
    "\n",
    "response_tn_india = requests.get(url='https://www.timesnownews.com/india', headers={'User-Agent':''})\n",
    "soup_tn_india = BeautifulSoup(response_tn_india.content, 'html.parser')\n",
    "\n",
    "links_tn_india = []\n",
    "for link in soup_tn_india.findAll('a', href=True):\n",
    "    links_tn_india.append(link.get('href'))\n",
    "#print(len(links_tn_india))\n",
    "#print(links_tn_india)"
   ]
  },
  {
   "cell_type": "markdown",
   "metadata": {},
   "source": [
    "#### Finding only the relevant URLs from the list of all links.\n",
    "Now we have to filter only the links that are related to articles and that too only india realted articles. I have used RegEx for this task. All the news articles have '.cms' type in the end and they contain '/india/' so I made use of those two major things to find all the valid URLs.  "
   ]
  },
  {
   "cell_type": "code",
   "execution_count": 111,
   "metadata": {
    "scrolled": true
   },
   "outputs": [],
   "source": [
    "import re\n",
    "txt_tn_india = ' '.join(links_tn_india)\n",
    "url_tn_india_raw = re.findall(r'https://www.timesnownews.com/india/[a-zA-Z0-9\\/\\.\\-\\:]*/[0-9]+|/india/[a-zA-Z0-9\\/\\.\\-\\:]*/[0-9]+', txt_tn_india)\n",
    "#print(len(url_tn_india_raw))\n",
    "#print(url_tn_india_raw)"
   ]
  },
  {
   "cell_type": "markdown",
   "metadata": {},
   "source": [
    "#### Removing duplicates\n",
    "There can be duplicates present so a simple task to remove duplicates is to convert the list to set, as we know set can't contain duplicates. And then change the set back to list."
   ]
  },
  {
   "cell_type": "code",
   "execution_count": 112,
   "metadata": {},
   "outputs": [
    {
     "data": {
      "text/plain": [
       "['https://www.timesnownews.com/india/article/indigenously-built-stealth-corvette-ins-kavaratti-to-be-commissioned-into-navy-on-thursday/670914',\n",
       " 'https://www.timesnownews.com/india/maharashtra-news/article/palghar-lynching-case-208-new-accused-50-nabbed-by-cid/670901',\n",
       " 'https://www.timesnownews.com/india/article/india-us-22-dialogue-on-october-27-talks-to-focus-on-strengthening-strategic-ties/670908',\n",
       " '/india/article/kerala-govt-revokes-decision-on-salary-cut-deferred-salary-from-april-to-merge-with-pf/671014',\n",
       " '/india/article/cabinet-nod-to-defence-ministry-s-proposal-to-sign-beca-with-united-states-of-america/671017',\n",
       " 'https://www.timesnownews.com/india/article/bjp-takes-it-on-the-chin-even-as-ncp-claims-not-just-eknath-khadse-many-willing-to-quit-party-to-join-aghadi/670876',\n",
       " 'https://www.timesnownews.com/india/article/india-to-observe-october-22-as-black-day-to-highlight-pakistan-backed-militias-invasion-of-jk/670967',\n",
       " 'https://www.timesnownews.com/india/article/environmental-evil-causes-of-industrial-pollution-and-ways-to-control-it/670919',\n",
       " '/india/bihar/article/10-lakh-jobs-bring-biharis-closer-to-rashtriya-janata-dal-tejashwi-yadav-draws-support-in-hordes/671071',\n",
       " 'https://www.timesnownews.com/india/bihar/article/times-now-cvoter-bihar-poll-tracker-nda-ahead-with-34-4-votes-upa-gets-31-8-votes/670883',\n",
       " 'https://www.timesnownews.com/india/article/assam-mizoram-agree-to-restore-peace-and-normalcy-on-interstate-border/670916',\n",
       " '/india/photo-gallery/photos-pm-narendra-modi-inaugurated-the-atal-tunnel-at-rohtang-with-defence-minister-rajnath-singh/661626',\n",
       " '/india/photo-gallery/pics-pm-narendra-modi-reaches-odisha-after-conducting-an-aerial-survey-of-affected-regions-in-west-bengal/595598',\n",
       " '/india/maharashtra-uddhav-thackeray-government-brings-in-new-rule-for-cbi-removes-general-consent-clause/78655',\n",
       " '/india/article/pm-narendra-modi-address-to-nation-20-10-2020-speech-highlights/670212',\n",
       " 'https://www.timesnownews.com/india/article/union-cabinet-announces-bonus-for-30-67-lakh-govt-employees-to-boost-festive-season-demand/670842',\n",
       " 'https://www.timesnownews.com/india/bihar/article/10-lakh-jobs-bring-biharis-closer-to-rashtriya-janata-dal-tejashwi-yadav-draws-support-in-hordes/671071',\n",
       " '/india/article/arrestdeepikarajawat-lawyer-who-shot-to-fame-due-to-kathua-case-accused-of-hurting-religious-sentiments/670063',\n",
       " '/india/article/telangana-karnataka-weather-imd-warns-of-more-heavy-rainfall-in-both-states-today/669899',\n",
       " 'https://www.timesnownews.com/india/article/india-celebrates-durga-puja-along-with-the-zeal-of-west-bengal-details-of-covid-19-protocols-restrictions/670938',\n",
       " 'https://www.timesnownews.com/india/article/centre-s-covid-vaccination-plan-what-we-know-and-don-t-know-about-how-1-3-billion-indians-will-get-a-shot/670868',\n",
       " 'https://www.timesnownews.com/india/article/they-have-married-and-are-living-happily-allahabad-high-court-quashes-rape-case-after-accused-and-victim-agree-to-settle/670881',\n",
       " 'https://www.timesnownews.com/india/article/punjab-farm-bills-passed-in-assembly-foxy-move-by-modi-captain-duo-to-destroy-farmers-says-sad-leader/670854',\n",
       " '/india/photo-gallery/iaf-rafale-aircraft-photos-after-travelling-8500km-from-france-to-india-the-jets-touched-down-at-ambala/629154',\n",
       " 'https://www.timesnownews.com/india/bihar/article/congress-stance-on-article-370-is-helping-pakistan-bjps-jp-nadda-tells-election-rally-in-bihar/670912',\n",
       " '/india/article/india-sees-55838-new-cases-702-deaths-in-last-24-hours-covid-19-tally-breaches-77-lakh-mark/671045',\n",
       " 'https://www.timesnownews.com/india/article/violating-jk-since-october-22-1947-when-pak-backed-raiders-carried-out-murder-rape-pillage-in-kashmir/670945',\n",
       " '/india/photo-gallery/assam-flood-2020-photos-45-lakh-people-affected-as-situation-worsens/621924',\n",
       " '/india/bihar/article/bjp-manifesto-for-bihar-assembly-elections/671051',\n",
       " '/india/bihar-labourers-face-terrible-times-urge-government-to-bring-industries-in-state/78641',\n",
       " 'https://www.timesnownews.com/india/article/on-global-scale-india-continues-to-report-one-of-lowest-casesmillion-population-health-ministry/670966',\n",
       " '/india/article/subramanian-swamy-moves-sc-to-free-kedarnath-badrinath-yamunotri-gangotri-from-state-control/669968',\n",
       " '/india/article/pm-modi-wishes-amit-shah-on-his-56th-birthday-lauds-his-dedication-towards-indias-progress/671033',\n",
       " '/india/photo-gallery/photos-eid-al-fitr-2020-amidst-lockdown-people-offered-prayers-at-home-and-celebrated-with-family/596635',\n",
       " 'https://www.timesnownews.com/india/article/i-would-join-durga-puja-celebrations-pm-narendra-modi-tweets-in-bangla/670913',\n",
       " '/india/photo-gallery/independence-day-2020-photos-all-pictures-of-the-celebrations-at-the-red-fort-by-pm-narendra-modi/637314',\n",
       " '/india/article/7-year-old-boy-from-aligarh-grabs-minor-girl-rapes-her-booked-under-pocso-act/670246',\n",
       " '/india/article/bjp-mp-namgyal-casts-vote-in-ladakh-autonomous-hill-development-council-polls/671065',\n",
       " 'https://www.timesnownews.com/india/maharashtra-news/article/hes-speaking-half-truth-devendra-fadnavis-on-eknath-khadse-blaming-him-for-resignation/670949',\n",
       " 'https://www.timesnownews.com/india/article/india-successfully-carries-out-final-trial-of-nag-anti-tank-guided-missile-with-a-warhead/670975',\n",
       " '/india/photo-gallery/ram-mandir-bhumi-pujan-photos-ayodhya-all-set-to-receive-pm-narendra-modi-for-the-stone-laying-ceremony/632056',\n",
       " 'https://www.timesnownews.com/india/article/ins-kavaratti-commissioning-into-indian-navy-today/670957']"
      ]
     },
     "execution_count": 112,
     "metadata": {},
     "output_type": "execute_result"
    }
   ],
   "source": [
    "url_tn_india_raw = set(url_tn_india_raw)\n",
    "url_tn_india_raw = list(url_tn_india_raw)\n",
    "#print(len(url_tn_india_raw))\n",
    "url_tn_india_raw"
   ]
  },
  {
   "cell_type": "markdown",
   "metadata": {},
   "source": [
    "#### Filtering without header URLs and adding header\n",
    "As you can notice above that there are many URLs which doesn't start with https or even www, rather they start from the category like '/india/india-india/sensex-drops-over-100-points-in-opening-trade-nifty-below-11650/articleshow/78527429.cms'. Now for such links we will have to use RegEx to substitute https://timesofindia.indiatimes.com in the beginning. That is what is done in next code snippet."
   ]
  },
  {
   "cell_type": "code",
   "execution_count": 113,
   "metadata": {},
   "outputs": [],
   "source": [
    "url_tn_india = []\n",
    "url_tn_india = [re.sub(r'(?<![a-z/:])(/india/[a-zA-Z0-9\\/\\.\\-\\:]*/[0-9]+)', r'https://www.timesnownews.com\\1', without_header) for without_header in url_tn_india_raw]\n",
    "#print(len(url_tn_india))\n",
    "#print(url_tn_india)"
   ]
  },
  {
   "cell_type": "markdown",
   "metadata": {},
   "source": [
    "#### Cached Previous day URL to compare against the new URL\n",
    "All the links present here can have duplicates from previous day or few days back. So, we have to make comparison with the URLs that we already have to find any redundant article. We can use our traditional filesystem to get the URLs from cached file."
   ]
  },
  {
   "cell_type": "markdown",
   "metadata": {},
   "source": [
    "#### Compare against cached URLs to find only new links for today"
   ]
  },
  {
   "cell_type": "code",
   "execution_count": 114,
   "metadata": {},
   "outputs": [],
   "source": [
    "cached_url_tn_india = []\n",
    "with open('./data/times_now/cached_url_tn_india.txt', 'r') as filehandle:\n",
    "    for line in filehandle:\n",
    "        # remove linebreak which is the last character of the string\n",
    "        currentPlace = line[:-1]\n",
    "\n",
    "        # add item to the list\n",
    "        cached_url_tn_india.append(currentPlace)"
   ]
  },
  {
   "cell_type": "code",
   "execution_count": 115,
   "metadata": {},
   "outputs": [
    {
     "data": {
      "text/plain": [
       "285"
      ]
     },
     "execution_count": 115,
     "metadata": {},
     "output_type": "execute_result"
    }
   ],
   "source": [
    "len(cached_url_tn_india)"
   ]
  },
  {
   "cell_type": "code",
   "execution_count": 116,
   "metadata": {
    "scrolled": true
   },
   "outputs": [],
   "source": [
    "latest_url_tn_india = list(set(url_tn_india) - set(cached_url_tn_india))\n",
    "\n",
    "#print(len(latest_url_tn_india))\n",
    "#print(latest_url_tn_india)"
   ]
  },
  {
   "cell_type": "markdown",
   "metadata": {},
   "source": [
    "#### Cache the latest URL for future comparisons"
   ]
  },
  {
   "cell_type": "code",
   "execution_count": 117,
   "metadata": {},
   "outputs": [],
   "source": [
    "with open('./data/times_now/cached_url_tn_india.txt', 'a') as filehandle:\n",
    "    for listitem in latest_url_tn_india:\n",
    "        filehandle.write('%s\\n' % listitem)"
   ]
  },
  {
   "cell_type": "code",
   "execution_count": 118,
   "metadata": {},
   "outputs": [],
   "source": [
    "%reset -f"
   ]
  },
  {
   "cell_type": "markdown",
   "metadata": {},
   "source": [
    "# Hindustan Times"
   ]
  },
  {
   "cell_type": "markdown",
   "metadata": {},
   "source": [
    "### Business"
   ]
  },
  {
   "cell_type": "code",
   "execution_count": 119,
   "metadata": {},
   "outputs": [],
   "source": [
    "import re\n",
    "import requests\n",
    "from bs4 import BeautifulSoup\n",
    "\n",
    "response_ht_business = requests.get(url='https://www.hindustantimes.com/business-news/', headers={'User-Agent':''})\n",
    "soup_ht_business = BeautifulSoup(response_ht_business.content, 'html.parser')\n",
    "\n",
    "links_ht_business = []\n",
    "for link in soup_ht_business.findAll('a', href=True):\n",
    "    links_ht_business.append(link.get('href'))\n",
    "#print(len(links_ht_business))\n",
    "#print(links_ht_business)"
   ]
  },
  {
   "cell_type": "markdown",
   "metadata": {},
   "source": [
    "#### Finding only the relevant URLs from the list of all links.\n",
    "Now we have to filter only the links that are related to articles and that too only business realted articles. I have used RegEx for this task. All the news articles have '.cms' type in the end and they contain '/business/' so I made use of those two major things to find all the valid URLs.  "
   ]
  },
  {
   "cell_type": "code",
   "execution_count": 120,
   "metadata": {},
   "outputs": [],
   "source": [
    "import re\n",
    "txt_ht_business = ' '.join(links_ht_business)\n",
    "url_ht_business = re.findall(r'https://www.hindustantimes.com/business-news/[a-zA-Z0-9\\.\\-\\:]*/story-[a-zA-Z0-9\\-]+.html', txt_ht_business)\n",
    "#print(len(url_ht_business))\n",
    "#print(url_ht_business)"
   ]
  },
  {
   "cell_type": "markdown",
   "metadata": {},
   "source": [
    "#### Removing duplicates\n",
    "There can be duplicates present so a simple task to remove duplicates is to convert the list to set, as we know set can't contain duplicates. And then change the set back to list."
   ]
  },
  {
   "cell_type": "code",
   "execution_count": 121,
   "metadata": {},
   "outputs": [
    {
     "data": {
      "text/plain": [
       "['https://www.hindustantimes.com/business-news/indian-spot-gold-rate-and-silver-price-on-oct-21-2020/story-8T0bBx9ZqnX0a4kuCBKQmK.html',\n",
       " 'https://www.hindustantimes.com/business-news/indian-spot-gold-rate-and-silver-price-on-oct-22-2020/story-bAmuWmPEK1flF6DzL427kO.html',\n",
       " 'https://www.hindustantimes.com/business-news/sebi-considering-multiple-steps-to-reboot-economy-chairman-ajay-tyagi/story-K5CJVXlqDR5DqvIr43B3KN.html',\n",
       " 'https://www.hindustantimes.com/business-news/rbi-constantly-trying-to-be-innovative-to-aid-recovery-shaktikanta-das/story-MtjgsszamE4ueyQpZbRMIP.html',\n",
       " 'https://www.hindustantimes.com/business-news/tesla-beats-on-profit-reaffirms-goal-of-500-000-deliveries/story-jWXJOvoZld49jhuyo2rVLI.html',\n",
       " 'https://www.hindustantimes.com/business-news/judge-says-injury-speculative-in-trump-s-bid-to-crack-down-on-social-media/story-FaL1phTCpW6DshJjRGefGM.html',\n",
       " 'https://www.hindustantimes.com/business-news/sensex-down-over-120-points-in-opening-session-nifty-at-11-900/story-LNlRCjDkxVLrjsE5lfituI.html',\n",
       " 'https://www.hindustantimes.com/business-news/streaming-service-quibi-to-wind-down-operations-six-months-after-launch/story-DPQ3VQrvtCei6DBeQFyyOL.html',\n",
       " 'https://www.hindustantimes.com/business-news/govt-staff-get-bonus-worth-3-700-crore-to-boost-spending-during-festive-season/story-w0Eqe7tsDpKgtMB8q8iCjK.html',\n",
       " 'https://www.hindustantimes.com/business-news/india-at-doorstep-of-economic-revival-says-rbi-governor-shaktikanta-das/story-la7oim1uRyvV7LghyHETzN.html',\n",
       " 'https://www.hindustantimes.com/business-news/purdue-pharma-to-plead-guilty-pay-8-3-billion-over-opioids/story-908jrjR5avqxbl2FA5AoEO.html',\n",
       " 'https://www.hindustantimes.com/business-news/rbi-to-conduct-first-ever-omo-purchase-of-state-govt-securities-on-thursday-all-you-need-to-know/story-tuCwHFvFu5jppHUW3DNZCI.html',\n",
       " 'https://www.hindustantimes.com/business-news/the-cloud-is-the-limit-says-infosys-executive-salil-parekh/story-6HH0ENTTBJ01mg7ja3sSpL.html',\n",
       " 'https://www.hindustantimes.com/business-news/bajaj-finance-q2-net-profit-plummets-36-to-rs-965-crore/story-vdqaTgaILjYp0FjQxuDoON.html',\n",
       " 'https://www.hindustantimes.com/business-news/oil-slips-on-weaker-demand-outlook-after-us-gasoline-stocks-build/story-zrWjakPmcEbdgB18CjZHTO.html',\n",
       " 'https://www.hindustantimes.com/business-news/indian-economy-set-for-a-near-double-digit-contraction-this-year-report/story-xsbdO4snPyehXAdoDv2BJP.html',\n",
       " 'https://www.hindustantimes.com/business-news/imf-says-asia-faces-long-recovery-slog-even-as-china-grows/story-TBPbvTby4gsREYaG0TCKJK.html',\n",
       " 'https://www.hindustantimes.com/business-news/centre-readies-to-step-up-expenditure-in-stimulus-3/story-ORNNhCg7u3YyWyxMc8c4MP.html']"
      ]
     },
     "execution_count": 121,
     "metadata": {},
     "output_type": "execute_result"
    }
   ],
   "source": [
    "url_ht_business = set(url_ht_business)\n",
    "url_ht_business = list(url_ht_business)\n",
    "#print(len(url_ht_business))\n",
    "url_ht_business"
   ]
  },
  {
   "cell_type": "markdown",
   "metadata": {},
   "source": [
    "#### Cached Previous day URL to compare against the new URL\n",
    "All the links present here can have duplicates from previous day or few days back. So, we have to make comparison with the URLs that we already have to find any redundant article. We can use our traditional filesystem to get the URLs from cached file."
   ]
  },
  {
   "cell_type": "markdown",
   "metadata": {},
   "source": [
    "#### Compare against cached URLs to find only new links for today"
   ]
  },
  {
   "cell_type": "code",
   "execution_count": 122,
   "metadata": {},
   "outputs": [],
   "source": [
    "cached_url_ht_business = []\n",
    "with open('./data/hindustan_times/cached_url_ht_business.txt', 'r') as filehandle:\n",
    "    for line in filehandle:\n",
    "        # remove linebreak which is the last character of the string\n",
    "        currentPlace = line[:-1]\n",
    "\n",
    "        # add item to the list\n",
    "        cached_url_ht_business.append(currentPlace)"
   ]
  },
  {
   "cell_type": "code",
   "execution_count": 123,
   "metadata": {},
   "outputs": [
    {
     "data": {
      "text/plain": [
       "186"
      ]
     },
     "execution_count": 123,
     "metadata": {},
     "output_type": "execute_result"
    }
   ],
   "source": [
    "len(cached_url_ht_business)"
   ]
  },
  {
   "cell_type": "code",
   "execution_count": 124,
   "metadata": {},
   "outputs": [],
   "source": [
    "latest_url_ht_business = list(set(url_ht_business) - set(cached_url_ht_business))\n",
    "\n",
    "#print(len(latest_url_ht_business))\n",
    "#print(latest_url_ht_business)"
   ]
  },
  {
   "cell_type": "markdown",
   "metadata": {},
   "source": [
    "#### Cache the latest URL for future comparisons"
   ]
  },
  {
   "cell_type": "code",
   "execution_count": 125,
   "metadata": {},
   "outputs": [],
   "source": [
    "with open('./data/hindustan_times/cached_url_ht_business.txt', 'a') as filehandle:\n",
    "    for listitem in latest_url_ht_business:\n",
    "        filehandle.write('%s\\n' % listitem)"
   ]
  },
  {
   "cell_type": "markdown",
   "metadata": {},
   "source": [
    "### Sports"
   ]
  },
  {
   "cell_type": "code",
   "execution_count": 126,
   "metadata": {},
   "outputs": [],
   "source": [
    "import re\n",
    "import requests\n",
    "from bs4 import BeautifulSoup\n",
    "\n",
    "response_ht_sports = requests.get(url='https://www.hindustantimes.com/sports-news/', headers={'User-Agent':''})\n",
    "soup_ht_sports = BeautifulSoup(response_ht_sports.content, 'html.parser')\n",
    "\n",
    "links_ht_sports = []\n",
    "for link in soup_ht_sports.findAll('a', href=True):\n",
    "    links_ht_sports.append(link.get('href'))\n",
    "#print(len(links_ht_sports))\n",
    "#print(links_ht_sports)"
   ]
  },
  {
   "cell_type": "markdown",
   "metadata": {},
   "source": [
    "#### Finding only the relevant URLs from the list of all links.\n",
    "Now we have to filter only the links that are related to articles and that too only sports realted articles. I have used RegEx for this task. All the news articles have '.cms' type in the end and they contain '/sports/' so I made use of those two major things to find all the valid URLs.  "
   ]
  },
  {
   "cell_type": "code",
   "execution_count": 127,
   "metadata": {},
   "outputs": [],
   "source": [
    "import re\n",
    "txt_ht_sports = ' '.join(links_ht_sports)\n",
    "url_ht_sports = re.findall(r'https://www.hindustantimes.com/(?:cricket|tennis|other-sports|football)/[a-zA-Z0-9\\.\\-\\:]*/story-[a-zA-Z0-9\\-]+.html', txt_ht_sports)\n",
    "#print(len(url_ht_sports))\n",
    "#print(url_ht_sports)"
   ]
  },
  {
   "cell_type": "markdown",
   "metadata": {},
   "source": [
    "#### Removing duplicates\n",
    "There can be duplicates present so a simple task to remove duplicates is to convert the list to set, as we know set can't contain duplicates. And then change the set back to list."
   ]
  },
  {
   "cell_type": "code",
   "execution_count": 128,
   "metadata": {},
   "outputs": [
    {
     "data": {
      "text/plain": [
       "['https://www.hindustantimes.com/other-sports/japan-will-take-steps-to-guard-against-olympics-cyberattacks/story-9UzdJlWtVY45LenilVp49N.html',\n",
       " 'https://www.hindustantimes.com/other-sports/sindhu-in-london-as-practice-in-national-camp-wasn-t-happening-properly-father/story-mfoc6iia6Xor8sNvLGhNiI.html',\n",
       " 'https://www.hindustantimes.com/cricket/ipl-2020-nortje-you-d-better-watch-your-speed/story-rTAPnwEqpoUfQi4iKYC3gM.html',\n",
       " 'https://www.hindustantimes.com/cricket/ipl-2020-hits-and-flops-spinners-who-have-thrilled-and-fallen-flat/story-fXBHGl2Kzfx1sSt8OLPeTJ.html',\n",
       " 'https://www.hindustantimes.com/cricket/ipl-2020-rr-s-predicted-xi-vs-srh-steve-smith-likely-to-go-with-winning-combination/story-3tPKGAiyLwMzTu6szKf6LM.html',\n",
       " 'https://www.hindustantimes.com/football/with-a-global-fanbase-spanning-millions-barcelona-look-to-flex-digital-muscles/story-AEU2TMiX6BwK05CTafcfoJ.html',\n",
       " 'https://www.hindustantimes.com/cricket/ipl-2020-all-rounder-ravindra-jadeja-posts-strong-message-amid-csk-s-poor-run/story-bRb7xV4101iZiKWJ1Qd6GK.html',\n",
       " 'https://www.hindustantimes.com/cricket/ipl-2020-this-team-may-have-run-out-of-juice-head-coach-stephen-fleming-concedes-csk-s-season-might-be-over/story-0szY2EUf6gmGY8sERiXGCK.html',\n",
       " 'https://www.hindustantimes.com/cricket/ipl-2020-injured-dwayne-bravo-leaves-message-for-csk-fans-after-being-ruled-out/story-ReEZie38NxvVS1LHfNg6cM.html',\n",
       " 'https://www.hindustantimes.com/cricket/ipl-2020-not-going-to-win-too-many-games-from-40-6-mccullum-after-kkr-s-crushing-loss/story-d4cb2R6yxR0TbIS2xoqlpK.html',\n",
       " 'https://www.hindustantimes.com/cricket/no-easy-ride-ipl-about-teams-finding-late-momentum/story-FGcGh558qwJi8IrxoPJG8L.html',\n",
       " 'https://www.hindustantimes.com/cricket/ipl-2020-mohammed-siraj-s-magical-spell-silences-knight-riders/story-qnfgdtyZq7pw6mZ1u5e1NK.html',\n",
       " 'https://www.hindustantimes.com/football/champions-league-manchester-city-come-back-for-3-1-win-over-porto/story-BwrLhyjDnYkJwCSYszPK1N.html',\n",
       " 'https://www.hindustantimes.com/cricket/ipl-2020-rr-vs-srh-preview-buttler-rashid-the-men-in-focus-in-battle-for-play-offs/story-vRpTFsjia2CpKvysLqgtSK.html',\n",
       " 'https://www.hindustantimes.com/football/real-madrid-stunned-by-shakhtar-donetsk-in-champions-league-opener/story-9mQbp8UIBFy6aHcgcNLnDN.html',\n",
       " 'https://www.hindustantimes.com/cricket/ipl-2020-kkr-vs-rcb-2nd-innings-live-updates-score-after-15-overs/story-sV1ZXcJ8BgptlQVK0doGnN.html',\n",
       " 'https://www.hindustantimes.com/football/mesut-ozil-deeply-disappointed-by-arsenal-omission-posts-heartfelt-message/story-LxwQQasC9um3u5iqaSF57I.html',\n",
       " 'https://www.hindustantimes.com/cricket/ipl-2020-he-will-be-flying-back-ceo-says-csk-player-will-play-no-further-part-in-indian-premier-league-2020/story-VaARDp4WczD5T6oHuqfXtJ.html',\n",
       " 'https://www.hindustantimes.com/tennis/roger-federer-pain-free-and-on-track-for-australian-open/story-LxUIxLbrETS6bPYWkRdB9I.html',\n",
       " 'https://www.hindustantimes.com/cricket/ipl-2020-points-table-and-updated-orange-cap-and-purple-cap-list-after-royal-challengers-bangalore-s-win-over-kolkata-knight-riders/story-3HNYeu7NS8o2ldwLkC5bFP.html',\n",
       " 'https://www.hindustantimes.com/other-sports/getting-to-the-root-of-the-hockey-problem/story-fH81jlPHPyzbnj1LdaShSN.html',\n",
       " 'https://www.hindustantimes.com/tennis/andy-murray-pulls-out-from-cologne-event-with-pelvic-problem/story-bHup40I9nBP8sJqAkd1aeL.html',\n",
       " 'https://www.hindustantimes.com/cricket/ipl-2020-miyan-ready-ho-jao-virat-kohli-s-words-to-mohammed-siraj-that-spurred-the-fast-bowler-on/story-VI8Lg5lyoIls1DuLp2RYwI.html',\n",
       " 'https://www.hindustantimes.com/tennis/djokovic-pulls-out-of-paris-masters-with-no-points-to-win/story-6Xlt5g74Hx1mGUPtT6dZBN.html',\n",
       " 'https://www.hindustantimes.com/cricket/ipl-2020-yuvraj-singh-picks-the-game-changer-for-kings-xi-punjab/story-2JJKDvzaZothWuRQhkP3gM.html',\n",
       " 'https://www.hindustantimes.com/cricket/ipl-2020-benched-an-international-players-list-ipl-of-stars/story-danJG1nxZUAFQYFOFXhlYI.html',\n",
       " 'https://www.hindustantimes.com/cricket/ipl-2020-was-thinking-of-giving-sundar-the-new-ball-virat-kohli-reveals-why-he-started-off-with-mohammed-siraj-against-kkr/story-BmGuuc6CIRpWep5P8Pc1EO.html',\n",
       " 'https://www.hindustantimes.com/cricket/ipl-2020-srh-predicted-xi-against-rr-doubt-looms-over-williamson-s-availability/story-VszUeLMzTOz0lPEWskMxYL.html',\n",
       " 'https://www.hindustantimes.com/football/amid-lack-of-clarity-on-asian-competitions-and-pre-season-worry-isl7-announces-nov-20-start/story-kQbhKYRUXqPBvqjt8H4mzL.html',\n",
       " 'https://www.hindustantimes.com/cricket/ipl-2020-he-is-arguably-one-of-greatest-cricketing-brains-in-the-world-ajit-agarkar-says-ms-dhoni-needs-to-make-one-change-for-csk/story-iZMnyOBZrS2O0fgESwZUIJ.html']"
      ]
     },
     "execution_count": 128,
     "metadata": {},
     "output_type": "execute_result"
    }
   ],
   "source": [
    "url_ht_sports = set(url_ht_sports)\n",
    "url_ht_sports = list(url_ht_sports)\n",
    "#print(len(url_ht_sports))\n",
    "url_ht_sports"
   ]
  },
  {
   "cell_type": "markdown",
   "metadata": {},
   "source": [
    "#### Cached Previous day URL to compare against the new URL\n",
    "All the links present here can have duplicates from previous day or few days back. So, we have to make comparison with the URLs that we already have to find any redundant article. We can use our traditional filesystem to get the URLs from cached file."
   ]
  },
  {
   "cell_type": "markdown",
   "metadata": {},
   "source": [
    "#### Compare against cached URLs to find only new links for today"
   ]
  },
  {
   "cell_type": "code",
   "execution_count": 129,
   "metadata": {},
   "outputs": [],
   "source": [
    "cached_url_ht_sports = []\n",
    "with open('./data/hindustan_times/cached_url_ht_sports.txt', 'r') as filehandle:\n",
    "    for line in filehandle:\n",
    "        # remove linebreak which is the last character of the string\n",
    "        currentPlace = line[:-1]\n",
    "\n",
    "        # add item to the list\n",
    "        cached_url_ht_sports.append(currentPlace)"
   ]
  },
  {
   "cell_type": "code",
   "execution_count": 130,
   "metadata": {},
   "outputs": [
    {
     "data": {
      "text/plain": [
       "329"
      ]
     },
     "execution_count": 130,
     "metadata": {},
     "output_type": "execute_result"
    }
   ],
   "source": [
    "len(cached_url_ht_sports)"
   ]
  },
  {
   "cell_type": "code",
   "execution_count": 131,
   "metadata": {},
   "outputs": [],
   "source": [
    "latest_url_ht_sports = list(set(url_ht_sports) - set(cached_url_ht_sports))\n",
    "\n",
    "#print(len(latest_url_ht_sports))\n",
    "#print(latest_url_ht_sports)"
   ]
  },
  {
   "cell_type": "markdown",
   "metadata": {},
   "source": [
    "#### Cache the latest URL for future comparisons"
   ]
  },
  {
   "cell_type": "code",
   "execution_count": 132,
   "metadata": {},
   "outputs": [],
   "source": [
    "with open('./data/hindustan_times/cached_url_ht_sports.txt', 'a') as filehandle:\n",
    "    for listitem in latest_url_ht_sports:\n",
    "        filehandle.write('%s\\n' % listitem)"
   ]
  },
  {
   "cell_type": "markdown",
   "metadata": {},
   "source": [
    "### World"
   ]
  },
  {
   "cell_type": "code",
   "execution_count": 133,
   "metadata": {},
   "outputs": [],
   "source": [
    "import re\n",
    "import requests\n",
    "from bs4 import BeautifulSoup\n",
    "\n",
    "response_ht_world = requests.get(url='https://www.hindustantimes.com/world-news/', headers={'User-Agent':''})\n",
    "soup_ht_world = BeautifulSoup(response_ht_world.content, 'html.parser')\n",
    "\n",
    "links_ht_world = []\n",
    "for link in soup_ht_world.findAll('a', href=True):\n",
    "    links_ht_world.append(link.get('href'))\n",
    "#print(len(links_ht_world))\n",
    "#print(links_ht_world)"
   ]
  },
  {
   "cell_type": "markdown",
   "metadata": {},
   "source": [
    "#### Finding only the relevant URLs from the list of all links.\n",
    "Now we have to filter only the links that are related to articles and that too only world realted articles. I have used RegEx for this task. All the news articles have '.cms' type in the end and they contain '/world/' so I made use of those two major things to find all the valid URLs.  "
   ]
  },
  {
   "cell_type": "code",
   "execution_count": 134,
   "metadata": {},
   "outputs": [],
   "source": [
    "import re\n",
    "txt_ht_world = ' '.join(links_ht_world)\n",
    "url_ht_world = re.findall(r'https://www.hindustantimes.com/world-news/[a-zA-Z0-9\\.\\-\\:]*/story-[a-zA-Z0-9\\-]+.html', txt_ht_world)\n",
    "#print(len(url_ht_world))\n",
    "#print(url_ht_world)"
   ]
  },
  {
   "cell_type": "markdown",
   "metadata": {},
   "source": [
    "#### Removing duplicates\n",
    "There can be duplicates present so a simple task to remove duplicates is to convert the list to set, as we know set can't contain duplicates. And then change the set back to list."
   ]
  },
  {
   "cell_type": "code",
   "execution_count": 135,
   "metadata": {},
   "outputs": [
    {
     "data": {
      "text/plain": [
       "['https://www.hindustantimes.com/world-news/barack-obama-hits-campaign-trail-slams-us-president-donald-trump/story-X1KNPnAoV6hPkyMTqXH2sN.html',\n",
       " 'https://www.hindustantimes.com/world-news/us-says-iran-russia-attempting-to-interfere-in-election/story-Vwo1tqGcMIH7cE6lnw6GxK.html',\n",
       " 'https://www.hindustantimes.com/world-news/democrats-to-boycott-senate-judiciary-vote-on-judge-barrett-s-nomination/story-bxNPjB1eOxeVNrO1XnMNZK.html',\n",
       " 'https://www.hindustantimes.com/world-news/is-death-of-volunteer-a-roadblock-for-astrazeneca-covid-19-vaccine-latest-developments/story-JkdPahaSXgB28lLUhqxenM.html',\n",
       " 'https://www.hindustantimes.com/world-news/china-struggles-to-fill-donald-trump-s-america-first-leadership-void/story-lORWq6lEcqrIv96Pd8B0NI.html',\n",
       " 'https://www.hindustantimes.com/world-news/pope-francis-becomes-1st-pope-to-endorse-same-sex-civil-unions/story-vGkVW3mF3USG6GtwwihO1I.html',\n",
       " 'https://www.hindustantimes.com/world-news/pakistan-unlikely-to-exit-fatf-s-grey-list-report/story-rtPe2SNQ6Ypr3G1B5xqNDI.html',\n",
       " 'https://www.hindustantimes.com/world-news/court-ruling-could-block-thousands-of-iowa-ballot-requests/story-xyAAhHHbDhbYSaeLVVHIYJ.html',\n",
       " 'https://www.hindustantimes.com/world-news/another-lockdown-in-pakistan-soon-as-authorities-fail-to-implement-covid-19-norms/story-pkDOwE7c2RXWHurXL7auJK.html',\n",
       " 'https://www.hindustantimes.com/world-news/us-proposes-not-to-issue-business-visas-for-h-1b-speciality-occupations/story-JuA4T1HMjEfNUcy2nFDITO.html',\n",
       " 'https://www.hindustantimes.com/world-news/barack-obama-rips-into-donald-trump-s-record-in-2020-campaign-trail-debut/story-PvRb2CH6WFxjHMiu9TDfLO.html',\n",
       " 'https://www.hindustantimes.com/world-news/iranian-woman-arrested-for-cycling-without-hijab-accused-of-insulting-islamic-veil/story-XjFiNHC2sL5LTdiayqyZJK.html',\n",
       " 'https://www.hindustantimes.com/world-news/will-come-after-you-democratic-voters-threatened-to-vote-for-president-trump/story-rN1wARicorovu01oYnTPiO.html',\n",
       " 'https://www.hindustantimes.com/world-news/us-election-2020-donald-trump-joe-biden-tied-in-texas-poll-shows/story-NwIHjW0ANzCwI5Ajpo4U2I.html',\n",
       " 'https://www.hindustantimes.com/world-news/kamala-harris-slams-trump-for-being-an-incompetent-president/story-Rd9Modkzqfnv6iQ1lk5zMN.html',\n",
       " 'https://www.hindustantimes.com/world-news/the-u-s-china-conflict-over-chips-is-about-to-get-uglier/story-VAqyjTLK6wHsq1OLRmHDnJ.html',\n",
       " 'https://www.hindustantimes.com/world-news/britain-partners-with-oxford-firm-to-assess-covid-vaccine-t-cell-responses/story-5szobfKs3905JL2ZLSbEYP.html',\n",
       " 'https://www.hindustantimes.com/world-news/us-to-sell-1-billion-worth-of-advanced-air-to-ground-missiles-to-taiwan/story-vFyoPrFWGaX9i0hcZJgmzL.html',\n",
       " 'https://www.hindustantimes.com/world-news/deceased-astrazeneca-trial-volunteer-didn-t-receive-covid-19-vaccine/story-7rkZbl540zUZ4p9qlgCuoM.html',\n",
       " 'https://www.hindustantimes.com/world-news/relief-for-justin-trudeau-as-canada-avoids-snap-election/story-9GDxlAakFuthnlMWfQRGOI.html']"
      ]
     },
     "execution_count": 135,
     "metadata": {},
     "output_type": "execute_result"
    }
   ],
   "source": [
    "url_ht_world = set(url_ht_world)\n",
    "url_ht_world = list(url_ht_world)\n",
    "#print(len(url_ht_world))\n",
    "url_ht_world"
   ]
  },
  {
   "cell_type": "markdown",
   "metadata": {},
   "source": [
    "#### Cached Previous day URL to compare against the new URL\n",
    "All the links present here can have duplicates from previous day or few days back. So, we have to make comparison with the URLs that we already have to find any redundant article. We can use our traditional filesystem to get the URLs from cached file."
   ]
  },
  {
   "cell_type": "markdown",
   "metadata": {},
   "source": [
    "#### Compare against cached URLs to find only new links for today"
   ]
  },
  {
   "cell_type": "code",
   "execution_count": 136,
   "metadata": {},
   "outputs": [],
   "source": [
    "cached_url_ht_world = []\n",
    "with open('./data/hindustan_times/cached_url_ht_world.txt', 'r') as filehandle:\n",
    "    for line in filehandle:\n",
    "        # remove linebreak which is the last character of the string\n",
    "        currentPlace = line[:-1]\n",
    "\n",
    "        # add item to the list\n",
    "        cached_url_ht_world.append(currentPlace)"
   ]
  },
  {
   "cell_type": "code",
   "execution_count": 137,
   "metadata": {},
   "outputs": [
    {
     "data": {
      "text/plain": [
       "298"
      ]
     },
     "execution_count": 137,
     "metadata": {},
     "output_type": "execute_result"
    }
   ],
   "source": [
    "len(cached_url_ht_world)"
   ]
  },
  {
   "cell_type": "code",
   "execution_count": 138,
   "metadata": {},
   "outputs": [],
   "source": [
    "latest_url_ht_world = list(set(url_ht_world) - set(cached_url_ht_world))\n",
    "\n",
    "#print(len(latest_url_ht_world))\n",
    "#print(latest_url_ht_world)"
   ]
  },
  {
   "cell_type": "markdown",
   "metadata": {},
   "source": [
    "#### Cache the latest URL for future comparisons"
   ]
  },
  {
   "cell_type": "code",
   "execution_count": 139,
   "metadata": {},
   "outputs": [],
   "source": [
    "with open('./data/hindustan_times/cached_url_ht_world.txt', 'a') as filehandle:\n",
    "    for listitem in latest_url_ht_world:\n",
    "        filehandle.write('%s\\n' % listitem)"
   ]
  },
  {
   "cell_type": "markdown",
   "metadata": {},
   "source": [
    "### Entertainment"
   ]
  },
  {
   "cell_type": "code",
   "execution_count": 140,
   "metadata": {},
   "outputs": [],
   "source": [
    "import re\n",
    "import requests\n",
    "from bs4 import BeautifulSoup\n",
    "\n",
    "response_ht_entertainment = requests.get(url='https://www.hindustantimes.com/entertainment/', headers={'User-Agent':''})\n",
    "soup_ht_entertainment = BeautifulSoup(response_ht_entertainment.content, 'html.parser')\n",
    "\n",
    "links_ht_entertainment = []\n",
    "for link in soup_ht_entertainment.findAll('a', href=True):\n",
    "    links_ht_entertainment.append(link.get('href'))\n",
    "#print(len(links_ht_entertainment))\n",
    "#print(links_ht_entertainment)"
   ]
  },
  {
   "cell_type": "markdown",
   "metadata": {},
   "source": [
    "#### Finding only the relevant URLs from the list of all links.\n",
    "Now we have to filter only the links that are related to articles and that too only entertainment realted articles. I have used RegEx for this task. All the news articles have '.cms' type in the end and they contain '/entertainment/' so I made use of those two major things to find all the valid URLs.  "
   ]
  },
  {
   "cell_type": "code",
   "execution_count": 141,
   "metadata": {},
   "outputs": [],
   "source": [
    "import re\n",
    "txt_ht_entertainment = ' '.join(links_ht_entertainment)\n",
    "url_ht_entertainment = re.findall(r'https://www.hindustantimes.com/(?:bollywood|tv|music|regional-movies|hollywood)/[a-zA-Z0-9\\.\\-\\:]*/story-[a-zA-Z0-9\\-]+.html', txt_ht_entertainment)\n",
    "#print(len(url_ht_entertainment))\n",
    "#print(url_ht_entertainment)"
   ]
  },
  {
   "cell_type": "markdown",
   "metadata": {},
   "source": [
    "#### Removing duplicates\n",
    "There can be duplicates present so a simple task to remove duplicates is to convert the list to set, as we know set can't contain duplicates. And then change the set back to list."
   ]
  },
  {
   "cell_type": "code",
   "execution_count": 142,
   "metadata": {},
   "outputs": [
    {
     "data": {
      "text/plain": [
       "['https://www.hindustantimes.com/tv/find-salman-khan-s-humour-condescending-ex-bigg-boss-contestant-karanvir-bohra-defends-rubina-dilaik/story-nkldwi9tjyAfcxC2f3tGLJ.html',\n",
       " 'https://www.hindustantimes.com/hollywood/evil-eye-movie-review-scariest-thing-about-priyanka-chopra-produced-amazon-horror-film-are-the-indian-accents/story-3G6EZdpI4ITnPB8rAdCN6O.html',\n",
       " 'https://www.hindustantimes.com/bollywood/kareena-kapoor-shares-new-pic-from-aircraft-as-she-returns-to-mumbai-adds-mask-pehniye-aur-bahar-dekhiye/story-hisTpufm16J5jf04AgFt3K.html',\n",
       " 'https://www.hindustantimes.com/music/neha-kakkar-shares-video-from-roka-ceremony-with-rohanpreet-singh-calls-it-a-gift-for-her-fans/story-zTfG5CMRHI4crRWeouDR1M.html',\n",
       " 'https://www.hindustantimes.com/tv/shehzad-deol-on-eviction-from-bigg-boss-if-evictions-happen-through-in-house-voting-then-jasmin-bhasin-would-be-next/story-RkX3fPRiTk0FOMwPhaLlKM.html',\n",
       " 'https://www.hindustantimes.com/tv/bigg-boss-14-contestants-salaries-revealed-rubina-dilaik-is-highest-paid-sidharth-shukla-earned-a-bomb-for-2-weeks-report/story-9hePzFVUQylMKcYNZiSZNL.html',\n",
       " 'https://www.hindustantimes.com/tv/bigg-boss-14-after-shehzad-deol-s-eviction-fans-call-it-an-unfair-decision-add-nepotism-wins/story-1oSlexZW7WTPqC0sIn45sO.html',\n",
       " 'https://www.hindustantimes.com/bollywood/priyanka-chopra-talks-about-her-memoir-unfinished-says-resilience-grace-under-fire-needed-to-chase-dreams/story-njBISOB0XIsSy8hwBAi5GI.html',\n",
       " 'https://www.hindustantimes.com/hollywood/netflix-releases-viewership-numbers-for-enola-holmes-project-power-social-dilemma-but-nothing-can-beat-extraction/story-y3DjJWQOf9oDOy43gySyRK.html',\n",
       " 'https://www.hindustantimes.com/tv/bigg-boss-14-written-update-day-18-shehzad-deol-evicted-sidharth-shukla-gauahar-khan-and-hina-khan-exit-show/story-dYdVRDIddMCIUELAwN5NoO.html',\n",
       " 'https://www.hindustantimes.com/hollywood/rebecca-movie-review-netflix-delivers-a-dazzlingly-pretty-film-starring-distractingly-pretty-people/story-2PgUd8Vac4XzyIVetITZ0K.html',\n",
       " 'https://www.hindustantimes.com/bollywood/anil-kapoor-posts-shirtless-pic-at-63-shares-his-fitness-journey-days-like-this-makes-it-all-worth-it/story-NUuwSixFHcV1Z7O5C89TFO.html',\n",
       " 'https://www.hindustantimes.com/tv/bigg-boss-14-written-update-day-17-rubina-wants-to-quit-show-says-salman-khan-insulted-her-bigg-boss-assures-her-he-was-joking/story-HBvBDOeo0hFskLJ61UCUbL.html',\n",
       " 'https://www.hindustantimes.com/bollywood/kangana-ranaut-reacts-to-summons-by-mumbai-police-you-miss-kangana-so-much-no-worries-i-will-be-there-soon/story-dQyXFtkSG0X9B3vL2n7wjO.html',\n",
       " 'https://www.hindustantimes.com/hollywood/when-marvel-rejected-robert-downey-jr-for-iron-man-role-under-no-circumstances-are-we-prepared-to-hire-him-at-any-price/story-Eklxc24lsDIaQcujhiKLJI.html',\n",
       " 'https://www.hindustantimes.com/bollywood/shammi-kapoor-s-son-says-he-became-a-wounded-animal-after-mother-geeta-bali-s-death-father-s-second-wife-made-him-human-again/story-HmybwXvCW0fdkPZWGcgpII.html',\n",
       " 'https://www.hindustantimes.com/regional-movies/justin-prabhakaran-to-compose-music-for-prabhas-upcoming-radhe-shyam/story-ZAUgUwPnYt4pN4K4TUWh4H.html',\n",
       " 'https://www.hindustantimes.com/tv/bigg-boss-14-aly-goni-kamya-punjabi-mock-pavtira-eijaz-fight-call-it-hindi-film-ka-spoof/story-lu3WbJqZ5v4ddFbSUlSCrL.html',\n",
       " 'https://www.hindustantimes.com/regional-movies/rana-daggubati-s-multilingual-film-haathi-mere-saathi-confirmed-as-makar-sankranti-2021-release/story-Ns1W5uJaQLCESzBybhozrI.html',\n",
       " 'https://www.hindustantimes.com/bollywood/badhaai-do-rajkummar-rao-to-play-a-cop-bhumi-pednekar-a-pt-teacher-with-national-dreams-in-this-film-with-a-big-heart/story-Dvaua0X1t36JZeLNvYaMSP.html',\n",
       " 'https://www.hindustantimes.com/music/nehu-da-vyah-song-neha-kakkar-rohanpreet-singh-kick-off-wedding-festivities-with-song-straight-out-of-fairytales-watch/story-LPwmEMRnhdDjFMgDhUZ6mN.html',\n",
       " 'https://www.hindustantimes.com/music/aditya-narayan-asks-if-neha-kakkar-rohanpreet-wedding-is-really-happening-is-it-possible-for-someone-to-meet-and-marry-in-a-month/story-dMMhbpQyBj4fRAhOwgG3uN.html',\n",
       " 'https://www.hindustantimes.com/bollywood/kiara-advani-spills-the-beans-about-her-relationship-status-says-i-m-single-till-i-m-married/story-Fj59Vgj1Ik0HuhlW8XCJnJ.html',\n",
       " 'https://www.hindustantimes.com/regional-movies/ram-charan-teases-with-a-special-video-to-introduce-jr-ntr-s-character-from-rrr/story-CDXSW3p4QfBUoepobesy0O.html',\n",
       " 'https://www.hindustantimes.com/bollywood/hrithik-roshan-s-mother-shares-cryptic-post-on-sushant-singh-rajput-s-death-says-everyone-wants-truth-no-one-wants-to-be-honest/story-lvF4nYb6pNHX2AomhRbXJK.html',\n",
       " 'https://www.hindustantimes.com/bollywood/neha-dhupia-splashes-around-in-a-swimsuit-in-the-maldives-shares-stunning-new-pics-see-here/story-9Lf3EBBm406OGr8mhoARqI.html',\n",
       " 'https://www.hindustantimes.com/bollywood/saif-ali-khan-dismisses-reports-of-him-buying-back-pataudi-palace-calls-rs-800-crore-price-tag-a-massive-exaggeration/story-RtXTFCFmAp4fUgbuRjZrII.html',\n",
       " 'https://www.hindustantimes.com/bollywood/nawazuddin-siddiqui-i-m-not-dying-to-get-any-validation-from-hollywood-that-i-m-a-good-actor/story-oI6Fbe89wMLaDK3mCiMsWI.html',\n",
       " 'https://www.hindustantimes.com/bollywood/when-parineeti-chopra-said-she-loves-saif-ali-khan-a-lot-has-already-informed-kareena-kapoor-about-it/story-jXk77LWLGvoc6N2ZwRQUBK.html',\n",
       " 'https://www.hindustantimes.com/bollywood/anangsha-biswas-stereotyping-always-happens-if-you-look-good-in-a-saree-people-can-t-visualise-you-in-western-clothes/story-UBeY6J4oLWBZIhQhqcLg2O.html',\n",
       " 'https://www.hindustantimes.com/hollywood/the-trial-of-the-chicago-7-movie-review-aaron-sorkin-s-stupendous-netflix-film-delivers-5-star-entertainment-it-s-timely-and-terrific/story-x9dRSR9vdojPmVtc05xxnJ.html',\n",
       " 'https://www.hindustantimes.com/bollywood/ankita-lokhande-is-all-smiles-in-new-pics-shares-a-message-for-her-haters-in-the-end-people-will-judge-you-anyway/story-j9V6Vq9s00wTmjIakPvwwK.html',\n",
       " 'https://www.hindustantimes.com/tv/durga-puja-2020-celebs-talk-about-making-merry-at-home-opting-for-virtual-darshan/story-XErnHsySeHHs9cADYTHS5H.html']"
      ]
     },
     "execution_count": 142,
     "metadata": {},
     "output_type": "execute_result"
    }
   ],
   "source": [
    "url_ht_entertainment = set(url_ht_entertainment)\n",
    "url_ht_entertainment = list(url_ht_entertainment)\n",
    "#print(len(url_ht_entertainment))\n",
    "url_ht_entertainment"
   ]
  },
  {
   "cell_type": "markdown",
   "metadata": {},
   "source": [
    "#### Cached Previous day URL to compare against the new URL\n",
    "All the links present here can have duplicates from previous day or few days back. So, we have to make comparison with the URLs that we already have to find any redundant article. We can use our traditional filesystem to get the URLs from cached file."
   ]
  },
  {
   "cell_type": "markdown",
   "metadata": {},
   "source": [
    "#### Compare against cached URLs to find only new links for today"
   ]
  },
  {
   "cell_type": "code",
   "execution_count": 143,
   "metadata": {},
   "outputs": [],
   "source": [
    "cached_url_ht_entertainment = []\n",
    "with open('./data/hindustan_times/cached_url_ht_entertainment.txt', 'r') as filehandle:\n",
    "    for line in filehandle:\n",
    "        # remove linebreak which is the last character of the string\n",
    "        currentPlace = line[:-1]\n",
    "\n",
    "        # add item to the list\n",
    "        cached_url_ht_entertainment.append(currentPlace)"
   ]
  },
  {
   "cell_type": "code",
   "execution_count": 144,
   "metadata": {},
   "outputs": [
    {
     "data": {
      "text/plain": [
       "327"
      ]
     },
     "execution_count": 144,
     "metadata": {},
     "output_type": "execute_result"
    }
   ],
   "source": [
    "len(cached_url_ht_entertainment)"
   ]
  },
  {
   "cell_type": "code",
   "execution_count": 145,
   "metadata": {},
   "outputs": [],
   "source": [
    "latest_url_ht_entertainment = list(set(url_ht_entertainment) - set(cached_url_ht_entertainment))\n",
    "\n",
    "#print(len(latest_url_ht_entertainment))\n",
    "#print(latest_url_ht_entertainment)"
   ]
  },
  {
   "cell_type": "markdown",
   "metadata": {},
   "source": [
    "#### Cache the latest URL for future comparisons"
   ]
  },
  {
   "cell_type": "code",
   "execution_count": 146,
   "metadata": {},
   "outputs": [],
   "source": [
    "with open('./data/hindustan_times/cached_url_ht_entertainment.txt', 'a') as filehandle:\n",
    "    for listitem in latest_url_ht_entertainment:\n",
    "        filehandle.write('%s\\n' % listitem)"
   ]
  },
  {
   "cell_type": "markdown",
   "metadata": {},
   "source": [
    "### India"
   ]
  },
  {
   "cell_type": "code",
   "execution_count": 147,
   "metadata": {},
   "outputs": [],
   "source": [
    "import re\n",
    "import requests\n",
    "from bs4 import BeautifulSoup\n",
    "\n",
    "response_ht_india = requests.get(url='https://www.hindustantimes.com/india-news/', headers={'User-Agent':''})\n",
    "soup_ht_india = BeautifulSoup(response_ht_india.content, 'html.parser')\n",
    "\n",
    "links_ht_india = []\n",
    "for link in soup_ht_india.findAll('a', href=True):\n",
    "    links_ht_india.append(link.get('href'))\n",
    "#print(len(links_ht_india))\n",
    "#print(links_ht_india)"
   ]
  },
  {
   "cell_type": "markdown",
   "metadata": {},
   "source": [
    "#### Finding only the relevant URLs from the list of all links.\n",
    "Now we have to filter only the links that are related to articles and that too only india realted articles. I have used RegEx for this task. All the news articles have '.cms' type in the end and they contain '/india/' so I made use of those two major things to find all the valid URLs.  "
   ]
  },
  {
   "cell_type": "code",
   "execution_count": 148,
   "metadata": {},
   "outputs": [],
   "source": [
    "import re\n",
    "txt_ht_india = ' '.join(links_ht_india)\n",
    "url_ht_india = re.findall(r'https://www.hindustantimes.com/india-news/[a-zA-Z0-9\\.\\-\\:]*/story-[a-zA-Z0-9\\-]+.html', txt_ht_india)\n",
    "#print(len(url_ht_india))\n",
    "#print(url_ht_india)"
   ]
  },
  {
   "cell_type": "markdown",
   "metadata": {},
   "source": [
    "#### Removing duplicates\n",
    "There can be duplicates present so a simple task to remove duplicates is to convert the list to set, as we know set can't contain duplicates. And then change the set back to list."
   ]
  },
  {
   "cell_type": "code",
   "execution_count": 149,
   "metadata": {},
   "outputs": [
    {
     "data": {
      "text/plain": [
       "['https://www.hindustantimes.com/india-news/news-updates-from-hindustan-times-pm-modi-to-address-bengal-on-durga-puja-today-and-all-the-latest-news/story-bxnwlVnRb6j6vRm8Ept2EP.html',\n",
       " 'https://www.hindustantimes.com/india-news/for-3rd-consecutive-day-active-covid-19-cases-in-india-remain-below-7-5-lakh/story-FM4YZ95jxmGIb8OzNNBXvN.html',\n",
       " 'https://www.hindustantimes.com/india-news/2g-services-extended-in-j-k-high-speed-data-in-ganderbal-udhampur/story-j9Xjr7ZiSGiy2r2r1DiqTI.html',\n",
       " 'https://www.hindustantimes.com/india-news/isro-releases-draft-policy-to-regulate-space-communication-by-private-players/story-hcrB1xAKZDFNQdI0y4GatJ.html',\n",
       " 'https://www.hindustantimes.com/india-news/devendra-fadnavis-calls-eknath-khadse-s-allegations-against-him-half-truth/story-nLFLvSqyw1FJt4nGwn0RkN.html',\n",
       " 'https://www.hindustantimes.com/india-news/pm-modi-s-durga-puja-address-pm-to-address-people-of-west-bengal/story-di5bIfCh9fdJHpdWrFCcNP.html',\n",
       " 'https://www.hindustantimes.com/india-news/india-germany-international-flights-lufthansa-to-operate-10-weekly-flights-in-india-air-india-7/story-rjMjsYBYasS2jsdEjPma3I.html',\n",
       " 'https://www.hindustantimes.com/india-news/pm-narendra-modi-to-address-bengal-on-durga-puja-as-bjp-gets-into-poll-mode/story-rPsUee3IjGQVf4mBlbmGZO.html',\n",
       " 'https://www.hindustantimes.com/india-news/nag-anti-tank-missile-ready-to-be-inducted-sant-missile-tested-fired-from-balasore/story-TXGqJQ1rko16xWuqga2Z5K.html',\n",
       " 'https://www.hindustantimes.com/india-news/there-must-be-big-reason-behind-his-decision-sanjay-raut-on-khadse-quitting-bjp/story-tQS19qwbs9Hr4VOhTETJIM.html',\n",
       " 'https://www.hindustantimes.com/india-news/bihar-assembly-election-2020-bjp-s-11-promises-for-bihar-people/story-BOiUnq3XKobKfU9dVTLn5K.html',\n",
       " 'https://www.hindustantimes.com/india-news/national-chemist-association-writes-to-pm-modi-offers-to-help-with-covid-19-vaccine-delivery/story-tAEEgdb1weegvXwEfW4FTK.html',\n",
       " 'https://www.hindustantimes.com/india-news/indian-railways-why-are-festival-train-fares-high-is-senior-citizen-concession-withdrawn/story-ZgnB1WpndJbkEV8OlBOzvL.html',\n",
       " 'https://www.hindustantimes.com/india-news/heavy-rain-warning-for-bengal-during-durga-puja/story-tGZpwWjwRn5EqI4Q2fMf0H.html',\n",
       " 'https://www.hindustantimes.com/india-news/4-5-big-steel-plants-to-be-set-up-in-chhattisgarh-s-maoist-infested-bastar-region/story-twmZc7JVsc8kdlhpYNpL7H.html',\n",
       " 'https://www.hindustantimes.com/india-news/12-years-of-chandrayaan-1-the-mission-renewed-interest-in-moon-with-discovery-of-water/story-pA3BQ6SpGP1f1tCUrOudpO.html',\n",
       " 'https://www.hindustantimes.com/india-news/police-commemoration-day-2020-amit-shah-pays-tribute-to-police-personnel-lauds-role-in-fight-against-covid-19/story-0qcLbxxIBdteBK4SIdQ6TP.html',\n",
       " 'https://www.hindustantimes.com/india-news/ins-kavaratti-to-be-commissioned-into-indian-navy-today-all-you-need-to-know-about-warship/story-PPT1V7rc5jElyG9DboIzgP.html',\n",
       " 'https://www.hindustantimes.com/india-news/parliament-employees-cannot-wash-utensils-and-lunch-boxes-in-the-complex-anymore/story-VgAJv2SXrKfTnMKz0OP7aJ.html',\n",
       " 'https://www.hindustantimes.com/india-news/with-54-044-new-cases-india-s-covid-19-tally-crosses-7-6-million-mark/story-rlfQm6oV7Y6auMoleNYxEO.html',\n",
       " 'https://www.hindustantimes.com/india-news/covid-19-iit-kharagpur-develops-tabletop-testing-device/story-pgPHbN7UiLUjfLHGXqTdkO.html']"
      ]
     },
     "execution_count": 149,
     "metadata": {},
     "output_type": "execute_result"
    }
   ],
   "source": [
    "url_ht_india = set(url_ht_india)\n",
    "url_ht_india = list(url_ht_india)\n",
    "#print(len(url_ht_india))\n",
    "url_ht_india"
   ]
  },
  {
   "cell_type": "markdown",
   "metadata": {},
   "source": [
    "#### Cached Previous day URL to compare against the new URL\n",
    "All the links present here can have duplicates from previous day or few days back. So, we have to make comparison with the URLs that we already have to find any redundant article. We can use our traditional filesystem to get the URLs from cached file."
   ]
  },
  {
   "cell_type": "markdown",
   "metadata": {},
   "source": [
    "#### Compare against cached URLs to find only new links for today"
   ]
  },
  {
   "cell_type": "code",
   "execution_count": 150,
   "metadata": {},
   "outputs": [],
   "source": [
    "cached_url_ht_india = []\n",
    "with open('./data/hindustan_times/cached_url_ht_india.txt', 'r') as filehandle:\n",
    "    for line in filehandle:\n",
    "        # remove linebreak which is the last character of the string\n",
    "        currentPlace = line[:-1]\n",
    "\n",
    "        # add item to the list\n",
    "        cached_url_ht_india.append(currentPlace)"
   ]
  },
  {
   "cell_type": "code",
   "execution_count": 151,
   "metadata": {},
   "outputs": [
    {
     "data": {
      "text/plain": [
       "319"
      ]
     },
     "execution_count": 151,
     "metadata": {},
     "output_type": "execute_result"
    }
   ],
   "source": [
    "len(cached_url_ht_india)"
   ]
  },
  {
   "cell_type": "code",
   "execution_count": 152,
   "metadata": {},
   "outputs": [],
   "source": [
    "latest_url_ht_india = list(set(url_ht_india) - set(cached_url_ht_india))\n",
    "\n",
    "#print(len(latest_url_ht_india))\n",
    "#print(latest_url_ht_india)"
   ]
  },
  {
   "cell_type": "markdown",
   "metadata": {},
   "source": [
    "#### Cache the latest URL for future comparisons"
   ]
  },
  {
   "cell_type": "code",
   "execution_count": 153,
   "metadata": {},
   "outputs": [],
   "source": [
    "with open('./data/hindustan_times/cached_url_ht_india.txt', 'a') as filehandle:\n",
    "    for listitem in latest_url_ht_india:\n",
    "        filehandle.write('%s\\n' % listitem)"
   ]
  },
  {
   "cell_type": "code",
   "execution_count": 154,
   "metadata": {},
   "outputs": [],
   "source": [
    "%reset -f"
   ]
  },
  {
   "cell_type": "markdown",
   "metadata": {},
   "source": [
    "# ANI"
   ]
  },
  {
   "cell_type": "markdown",
   "metadata": {},
   "source": [
    "### Business"
   ]
  },
  {
   "cell_type": "code",
   "execution_count": 155,
   "metadata": {},
   "outputs": [],
   "source": [
    "import re\n",
    "import requests\n",
    "from bs4 import BeautifulSoup\n",
    "\n",
    "response_ani_business = requests.get(url='https://aninews.in/category/business/', headers={'User-Agent':''})\n",
    "soup_ani_business = BeautifulSoup(response_ani_business.content, 'html.parser')\n",
    "\n",
    "links_ani_business = []\n",
    "for link in soup_ani_business.findAll('a', href=True):\n",
    "    links_ani_business.append(link.get('href'))\n",
    "#print(len(links_ani_business))\n",
    "#print(links_ani_business)"
   ]
  },
  {
   "cell_type": "markdown",
   "metadata": {},
   "source": [
    "#### Finding only the relevant URLs from the list of all links.\n",
    "Now we have to filter only the links that are related to articles and that too only business realted articles. I have used RegEx for this task. All the news articles have '.cms' type in the end and they contain '/business/' so I made use of those two major things to find all the valid URLs.  "
   ]
  },
  {
   "cell_type": "code",
   "execution_count": 156,
   "metadata": {},
   "outputs": [],
   "source": [
    "import re\n",
    "txt_ani_business = ' '.join(links_ani_business)\n",
    "url_ani_business_raw = re.findall(r'https://aninews.in/news/business/[a-zA-Z0-9\\/\\.\\-\\:]+[0-9]+|/news/business/[a-zA-Z0-9\\/\\.\\-\\:]+[0-9]+', txt_ani_business)\n",
    "#print(len(url_ani_business_raw))\n",
    "#print(url_ani_business_raw)"
   ]
  },
  {
   "cell_type": "markdown",
   "metadata": {},
   "source": [
    "#### Removing duplicates\n",
    "There can be duplicates present so a simple task to remove duplicates is to convert the list to set, as we know set can't contain duplicates. And then change the set back to list."
   ]
  },
  {
   "cell_type": "code",
   "execution_count": 157,
   "metadata": {},
   "outputs": [
    {
     "data": {
      "text/plain": [
       "['/news/business/zuper-covid-19-compliance-pack-helps-companies-like-ikea-manage-safe-business-operations-in-the-new-reality20201021151738',\n",
       " '/news/business/khaaugully-delivers-the-food-you-want-launches-online-store-having-2500-items20201021133735',\n",
       " '/news/business/satte-genx-paves-the-way-for-the-revival-of-the-travel-amp-tourism-industry20201021133543',\n",
       " '/news/business/cosmoprof-india-to-be-rescheduled-in-202120201021105426',\n",
       " '/news/business/kathak-queen-jayanti-mala-inaugurates-online-dance-platform-kathakworldcom20201021151557',\n",
       " '/news/business/your-guide-to-indulging-without-overindulging-this-festive-season-with-california-walnuts20201021105508',\n",
       " '/news/business/as-part-of-its-customer-first-approach-design-cafe-launches-a-fully-integrated-home-tech-platform-for-customers20201021134115',\n",
       " '/news/business/business/sbi-announces-interest-concession-up-to-25-bps-home-loan-emis-to-reduce20201021152658',\n",
       " '/news/business/business/jio-qualcomm-align-efforts-on-5g-achieve-over-1gbps-speed-in-trials-in-us20201020233601',\n",
       " '/news/business/make-your-kitchen-hygienic-and-elegant-with-hafele-blanco-kitchen-sinks-and-faucets20201020174721',\n",
       " '/news/business/fire-guard-for-every-indian-aquafire20201021180847',\n",
       " '/news/business/educate-girls-solution-to-empower-15m-girls-to-go-to-school-gets-selected-at-mit-solves-learning-for-girls-amp-women-challenge-202020201021133710',\n",
       " '/news/business/ai-based-digital-financial-services-platform-davinta-named-a-winner-at-the-global-inclusive-fintech-50-2020-event20201021152225',\n",
       " '/news/business/get-ready-to-go-on-a-complete-laughter-riot-this-diwali-with-suraj-pe-mangal-bhari20201021133903',\n",
       " '/news/business/ambi-pur-cleanup-challenge-makes-influencers-say-naak-khol-ke-dekho20201021154032',\n",
       " '/news/business/fdi-india-successfully-enabled-over-150-indian-businesses-gain-access-to-soft-loans-by-foreign-investors20201021155415',\n",
       " '/news/business/rakayet-ul-karim-rakim-of-bangladesh-wins-the-greenstorm-international-nature-photography-contest20201021133415',\n",
       " '/news/business/kurl-on-appoints-jyothi-pradhan-as-ceo20201021133729',\n",
       " '/news/business/acko-partners-with-finserv-markets-to-offer-car-and-bike-insurance20201020181230',\n",
       " '/news/business/m3m-records-500-crores-of-sales-within-14-days-of-the-launch-of-port-your-property-campaign20201020175022',\n",
       " '/news/business/nominations-invited-for-2021-zayed-award-for-human-fraternity20201021120838']"
      ]
     },
     "execution_count": 157,
     "metadata": {},
     "output_type": "execute_result"
    }
   ],
   "source": [
    "url_ani_business_raw = set(url_ani_business_raw)\n",
    "url_ani_business_raw = list(url_ani_business_raw)\n",
    "#print(len(url_ani_business_raw))\n",
    "url_ani_business_raw"
   ]
  },
  {
   "cell_type": "markdown",
   "metadata": {},
   "source": [
    "#### Filtering without header URLs and adding header\n",
    "As you can notice above that there are many URLs which doesn't start with https or even www, rather they start from the category like '/business/india-business/sensex-drops-over-100-points-in-opening-trade-nifty-below-11650/articleshow/78527429.cms'. Now for such links we will have to use RegEx to substitute https://timesofindia.indiatimes.com in the beginning. That is what is done in next code snippet."
   ]
  },
  {
   "cell_type": "code",
   "execution_count": 158,
   "metadata": {},
   "outputs": [],
   "source": [
    "url_ani_business = []\n",
    "url_ani_business = [re.sub(r'(?<![a-z/:])(/news/business/[a-zA-Z0-9\\/\\.\\-\\:]+[0-9]+)', r'https://aninews.in\\1', without_header) for without_header in url_ani_business_raw]\n",
    "#print(len(url_ani_business))\n",
    "#print(url_ani_business)"
   ]
  },
  {
   "cell_type": "markdown",
   "metadata": {},
   "source": [
    "#### Cached Previous day URL to compare against the new URL\n",
    "All the links present here can have duplicates from previous day or few days back. So, we have to make comparison with the URLs that we already have to find any redundant article. We can use our traditional filesystem to get the URLs from cached file."
   ]
  },
  {
   "cell_type": "markdown",
   "metadata": {},
   "source": [
    "#### Compare against cached URLs to find only new links for today"
   ]
  },
  {
   "cell_type": "code",
   "execution_count": 159,
   "metadata": {},
   "outputs": [],
   "source": [
    "cached_url_ani_business = []\n",
    "with open('./data/ani/cached_url_ani_business.txt', 'r') as filehandle:\n",
    "    for line in filehandle:\n",
    "        # remove linebreak which is the last character of the string\n",
    "        currentPlace = line[:-1]\n",
    "\n",
    "        # add item to the list\n",
    "        cached_url_ani_business.append(currentPlace)"
   ]
  },
  {
   "cell_type": "code",
   "execution_count": 160,
   "metadata": {},
   "outputs": [
    {
     "data": {
      "text/plain": [
       "260"
      ]
     },
     "execution_count": 160,
     "metadata": {},
     "output_type": "execute_result"
    }
   ],
   "source": [
    "len(cached_url_ani_business)"
   ]
  },
  {
   "cell_type": "code",
   "execution_count": 161,
   "metadata": {},
   "outputs": [],
   "source": [
    "latest_url_ani_business = list(set(url_ani_business) - set(cached_url_ani_business))\n",
    "\n",
    "#print(len(latest_url_ani_business))\n",
    "#print(latest_url_ani_business)"
   ]
  },
  {
   "cell_type": "markdown",
   "metadata": {},
   "source": [
    "#### Cache the latest URL for future comparisons"
   ]
  },
  {
   "cell_type": "code",
   "execution_count": 162,
   "metadata": {},
   "outputs": [],
   "source": [
    "with open('./data/ani/cached_url_ani_business.txt', 'a') as filehandle:\n",
    "    for listitem in latest_url_ani_business:\n",
    "        filehandle.write('%s\\n' % listitem)"
   ]
  },
  {
   "cell_type": "markdown",
   "metadata": {},
   "source": [
    "### Sports"
   ]
  },
  {
   "cell_type": "code",
   "execution_count": 163,
   "metadata": {},
   "outputs": [],
   "source": [
    "import re\n",
    "import requests\n",
    "from bs4 import BeautifulSoup\n",
    "\n",
    "response_ani_sports = requests.get(url='https://aninews.in/category/sports/', headers={'User-Agent':''})\n",
    "soup_ani_sports = BeautifulSoup(response_ani_sports.content, 'html.parser')\n",
    "\n",
    "links_ani_sports = []\n",
    "for link in soup_ani_sports.findAll('a', href=True):\n",
    "    links_ani_sports.append(link.get('href'))\n",
    "#print(len(links_ani_sports))\n",
    "#print(links_ani_sports)"
   ]
  },
  {
   "cell_type": "markdown",
   "metadata": {},
   "source": [
    "#### Finding only the relevant URLs from the list of all links.\n",
    "Now we have to filter only the links that are related to articles and that too only sports realted articles. I have used RegEx for this task. All the news articles have '.cms' type in the end and they contain '/sports/' so I made use of those two major things to find all the valid URLs.  "
   ]
  },
  {
   "cell_type": "code",
   "execution_count": 164,
   "metadata": {},
   "outputs": [],
   "source": [
    "import re\n",
    "txt_ani_sports = ' '.join(links_ani_sports)\n",
    "url_ani_sports_raw = re.findall(r'https://aninews.in/news/sports/[a-zA-Z0-9\\/\\.\\-\\:]+[0-9]+|/news/sports/[a-zA-Z0-9\\/\\.\\-\\:]+[0-9]+', txt_ani_sports)\n",
    "#print(len(url_ani_sports_raw))\n",
    "#print(url_ani_sports_raw)"
   ]
  },
  {
   "cell_type": "markdown",
   "metadata": {},
   "source": [
    "#### Removing duplicates\n",
    "There can be duplicates present so a simple task to remove duplicates is to convert the list to set, as we know set can't contain duplicates. And then change the set back to list."
   ]
  },
  {
   "cell_type": "code",
   "execution_count": 165,
   "metadata": {},
   "outputs": [
    {
     "data": {
      "text/plain": [
       "['/news/sports/cricket/csa-gets-go-ahead-from-govt-to-host-england-for-limited-overs-series20201021222556',\n",
       " '/news/sports/cricket/mcilroy-rahm-morikawa-set-to-join-woods-for-zozo-championship-at-sherwood20201021204145',\n",
       " '/news/sports/football/it-was-massive-win-against-psg-says-david-de-gea20201021194508',\n",
       " '/news/sports/cricket/afghanistan-spinner-rashid-khan-re-signs-for-adelaide-strikers20201022081220',\n",
       " '/news/sports/cricket/ipl-13-siraj-gurkeerat-guide-rcb-to-comprehensive-win-over-kkr20201021223554',\n",
       " '/news/sports/cricket/ipl-13-morris-inclusion-has-bolstered-the-bowling-unit-says-rcb-pacer-siraj20201022103040',\n",
       " '/news/sports/cricket/ipl-13-wanted-to-deliver-magical-performance-for-rcb-says-siraj-after-heroics-against-kkr20201022090046',\n",
       " '/news/sports/football/achraf-hakimi-tests-positive-for-coronavirus20201022100101',\n",
       " '/news/sports/others/world-junior-badminton-championships-2020-cancelled20201022085605',\n",
       " '/news/sports/cricket/romario-shepherd-to-replace-injured-dwayne-bravo-in-wi-squad-for-new-zealand-tour20201022082024',\n",
       " '/news/sports/football/diego-simeone-left-with-bad-taste-of-defeat-after-bayern-munich-thrashing20201022093855',\n",
       " '/news/sports/cricket/ipl-13-chahal-praises-siraj-for-starting-well-against-kkr20201021213719',\n",
       " '/news/sports/football/fernandinho-to-be-out-for-four-to-six-weeks-says-pep-guardiola20201022103224',\n",
       " '/news/sports/cricket/ipl-13-we-were-just-a-little-timid-in-our-approach-says-kkr-coach-mccullum20201022084708',\n",
       " '/news/sports/cricket/ipl-13-rcb-bowled-well-but-we-should-have-countered-that-better-says-morgan20201021231913',\n",
       " '/news/sports/cricket/ipl-13-many-people-dont-have-faith-in-rcb-but-guys-in-changeroom-do-says-kohli20201021230528',\n",
       " '/news/sports/cricket/siraj-becomes-first-bowler-to-bowl-two-maiden-overs-in-ipl-match20201021202408',\n",
       " '/news/sports/cricket/ipl-13-siraj-reveals-how-he-dismissed-nitish-rana-for-a-golden-duck20201022095946',\n",
       " '/news/sports/cricket/ipl-13-head-coach-katich-pleased-with-rcbs-ruthless-performance-against-kkr20201022113210',\n",
       " '/news/sports/football/maximilian-kilman-signs-contract-extension-with-wolves20201022100244',\n",
       " '/news/sports/cricket/ipl-13-siraj-chahal-dismantle-kkr-restrict-them-for-84820201021212315']"
      ]
     },
     "execution_count": 165,
     "metadata": {},
     "output_type": "execute_result"
    }
   ],
   "source": [
    "url_ani_sports_raw = set(url_ani_sports_raw)\n",
    "url_ani_sports_raw = list(url_ani_sports_raw)\n",
    "#print(len(url_ani_sports_raw))\n",
    "url_ani_sports_raw"
   ]
  },
  {
   "cell_type": "markdown",
   "metadata": {},
   "source": [
    "#### Filtering without header URLs and adding header\n",
    "As you can notice above that there are many URLs which doesn't start with https or even www, rather they start from the category like '/sports/india-sports/sensex-drops-over-100-points-in-opening-trade-nifty-below-11650/articleshow/78527429.cms'. Now for such links we will have to use RegEx to substitute https://timesofindia.indiatimes.com in the beginning. That is what is done in next code snippet."
   ]
  },
  {
   "cell_type": "code",
   "execution_count": 166,
   "metadata": {},
   "outputs": [],
   "source": [
    "url_ani_sports = []\n",
    "url_ani_sports = [re.sub(r'(?<![a-z/:])(/news/sports/[a-zA-Z0-9\\/\\.\\-\\:]+[0-9]+)', r'https://aninews.in\\1', without_header) for without_header in url_ani_sports_raw]\n",
    "#print(len(url_ani_sports))\n",
    "#print(url_ani_sports)"
   ]
  },
  {
   "cell_type": "markdown",
   "metadata": {},
   "source": [
    "#### Cached Previous day URL to compare against the new URL\n",
    "All the links present here can have duplicates from previous day or few days back. So, we have to make comparison with the URLs that we already have to find any redundant article. We can use our traditional filesystem to get the URLs from cached file."
   ]
  },
  {
   "cell_type": "markdown",
   "metadata": {},
   "source": [
    "#### Compare against cached URLs to find only new links for today"
   ]
  },
  {
   "cell_type": "code",
   "execution_count": 167,
   "metadata": {},
   "outputs": [],
   "source": [
    "cached_url_ani_sports = []\n",
    "with open('./data/ani/cached_url_ani_sports.txt', 'r') as filehandle:\n",
    "    for line in filehandle:\n",
    "        # remove linebreak which is the last character of the string\n",
    "        currentPlace = line[:-1]\n",
    "\n",
    "        # add item to the list\n",
    "        cached_url_ani_sports.append(currentPlace)"
   ]
  },
  {
   "cell_type": "code",
   "execution_count": 168,
   "metadata": {},
   "outputs": [
    {
     "data": {
      "text/plain": [
       "319"
      ]
     },
     "execution_count": 168,
     "metadata": {},
     "output_type": "execute_result"
    }
   ],
   "source": [
    "len(cached_url_ani_sports)"
   ]
  },
  {
   "cell_type": "code",
   "execution_count": 169,
   "metadata": {},
   "outputs": [],
   "source": [
    "latest_url_ani_sports = list(set(url_ani_sports) - set(cached_url_ani_sports))\n",
    "\n",
    "#print(len(latest_url_ani_sports))\n",
    "#print(latest_url_ani_sports)"
   ]
  },
  {
   "cell_type": "markdown",
   "metadata": {},
   "source": [
    "#### Cache the latest URL for future comparisons"
   ]
  },
  {
   "cell_type": "code",
   "execution_count": 170,
   "metadata": {},
   "outputs": [],
   "source": [
    "with open('./data/ani/cached_url_ani_sports.txt', 'a') as filehandle:\n",
    "    for listitem in latest_url_ani_sports:\n",
    "        filehandle.write('%s\\n' % listitem)"
   ]
  },
  {
   "cell_type": "markdown",
   "metadata": {},
   "source": [
    "### World"
   ]
  },
  {
   "cell_type": "code",
   "execution_count": 171,
   "metadata": {},
   "outputs": [],
   "source": [
    "import re\n",
    "import requests\n",
    "from bs4 import BeautifulSoup\n",
    "\n",
    "response_ani_world = requests.get(url='https://aninews.in/category/world/', headers={'User-Agent':''})\n",
    "soup_ani_world = BeautifulSoup(response_ani_world.content, 'html.parser')\n",
    "\n",
    "links_ani_world = []\n",
    "for link in soup_ani_world.findAll('a', href=True):\n",
    "    links_ani_world.append(link.get('href'))\n",
    "#print(len(links_ani_world))\n",
    "#print(links_ani_world)"
   ]
  },
  {
   "cell_type": "markdown",
   "metadata": {},
   "source": [
    "#### Finding only the relevant URLs from the list of all links.\n",
    "Now we have to filter only the links that are related to articles and that too only world realted articles. I have used RegEx for this task. All the news articles have '.cms' type in the end and they contain '/world/' so I made use of those two major things to find all the valid URLs.  "
   ]
  },
  {
   "cell_type": "code",
   "execution_count": 172,
   "metadata": {},
   "outputs": [],
   "source": [
    "import re\n",
    "txt_ani_world = ' '.join(links_ani_world)\n",
    "url_ani_world_raw = re.findall(r'https://aninews.in/news/world/[a-zA-Z0-9\\/\\.\\-\\:]+[0-9]+|/news/world/[a-zA-Z0-9\\/\\.\\-\\:]+[0-9]+', txt_ani_world)\n",
    "#print(len(url_ani_world_raw))\n",
    "#print(url_ani_world_raw)"
   ]
  },
  {
   "cell_type": "markdown",
   "metadata": {},
   "source": [
    "#### Removing duplicates\n",
    "There can be duplicates present so a simple task to remove duplicates is to convert the list to set, as we know set can't contain duplicates. And then change the set back to list."
   ]
  },
  {
   "cell_type": "code",
   "execution_count": 173,
   "metadata": {},
   "outputs": [
    {
     "data": {
      "text/plain": [
       "['/news/world/us/obama-launches-fiery-attack-on-trump-says-he-cant-even-take-basic-steps-to-protect-himself20201022053703',\n",
       " '/news/world/europe/over-40-hostages-released-in-georgias-zugdidi20201022034519',\n",
       " '/news/world/asia/us-approves-usd-18-billion-in-arms-sales-to-taiwan-amid-tensions-with-china20201022083125',\n",
       " '/news/world/europe/eu-council-chief-to-convene-informal-meeting-on-covid-19-on-october-2920201022010220',\n",
       " '/news/world/asia/moscows-covid-19-death-toll-rises-to-618720201022020843',\n",
       " '/news/world/asia/5-killed-28-injured-in-building-explosion-in-karachi20201022031434',\n",
       " '/news/world/us/biden-tied-with-trump-in-battleground-state-of-texas-poll20201022014109',\n",
       " '/news/world/asia/10-cops-killed-in-clashes-between-army-and-karachi-police20201022010320',\n",
       " '/news/world/others/brazils-covid-19-death-toll-tops-15500020201022085245',\n",
       " '/news/world/others/brazils-covid-19-vaccine-volunteer-dies-authorities-say-trial-to-continue20201022065940',\n",
       " '/news/world/asia/indian-diplomat-sushil-kumar-singhal-appointed-as-next-ambassador-to-solomon-islands20201022003223',\n",
       " '/news/world/others/covid-19-cases-in-argentina-rises-by-record-18326-to-over-103-mln20201022062255',\n",
       " '/news/world/us/imf-approves-usd-156-million-for-cameroon-to-finance-covid-19-response20201022023405',\n",
       " '/news/world/asia/germany-registers-record-11287-new-covid-19-cases-over-past-day20201022090100',\n",
       " '/news/world/asia/multilateralism-is-in-serious-danger-today-says-jaishankar20201022030457',\n",
       " '/news/world/europe/france-honours-beheaded-teacher-govt-launches-crackdown-against-radical-groups20201022072634',\n",
       " '/news/world/asia/france-covid-19-cases-surpasses-1-million20201022080306',\n",
       " '/news/world/asia/another-lockdown-soon-in-pakistan-as-authorities-fail-to-strictly-implement-covid-19-guidelines20201022065715',\n",
       " '/news/world/us/democrats-to-boycott-senate-judiciary-vote-on-judge-barretts-nomination20201022050643',\n",
       " '/news/world/europe/spains-covid-19-cases-tally-surpasses-1-million-death-toll-tops-3400020201022030943',\n",
       " '/news/world/us/us-sees-slight-to-modest-economic-recovery-in-september-as-covid-19-pandemic-continues-survey20201022014558']"
      ]
     },
     "execution_count": 173,
     "metadata": {},
     "output_type": "execute_result"
    }
   ],
   "source": [
    "url_ani_world_raw = set(url_ani_world_raw)\n",
    "url_ani_world_raw = list(url_ani_world_raw)\n",
    "#print(len(url_ani_world_raw))\n",
    "url_ani_world_raw"
   ]
  },
  {
   "cell_type": "markdown",
   "metadata": {},
   "source": [
    "#### Filtering without header URLs and adding header\n",
    "As you can notice above that there are many URLs which doesn't start with https or even www, rather they start from the category like '/world/india-world/sensex-drops-over-100-points-in-opening-trade-nifty-below-11650/articleshow/78527429.cms'. Now for such links we will have to use RegEx to substitute https://timesofindia.indiatimes.com in the beginning. That is what is done in next code snippet."
   ]
  },
  {
   "cell_type": "code",
   "execution_count": 174,
   "metadata": {},
   "outputs": [],
   "source": [
    "url_ani_world = []\n",
    "url_ani_world = [re.sub(r'(?<![a-z/:])(/news/world/[a-zA-Z0-9\\/\\.\\-\\:]+[0-9]+)', r'https://aninews.in\\1', without_header) for without_header in url_ani_world_raw]\n",
    "#print(len(url_ani_world))\n",
    "#print(url_ani_world)"
   ]
  },
  {
   "cell_type": "markdown",
   "metadata": {},
   "source": [
    "#### Cached Previous day URL to compare against the new URL\n",
    "All the links present here can have duplicates from previous day or few days back. So, we have to make comparison with the URLs that we already have to find any redundant article. We can use our traditional filesystem to get the URLs from cached file."
   ]
  },
  {
   "cell_type": "markdown",
   "metadata": {},
   "source": [
    "#### Compare against cached URLs to find only new links for today"
   ]
  },
  {
   "cell_type": "code",
   "execution_count": 175,
   "metadata": {},
   "outputs": [],
   "source": [
    "cached_url_ani_world = []\n",
    "with open('./data/ani/cached_url_ani_world.txt', 'r') as filehandle:\n",
    "    for line in filehandle:\n",
    "        # remove linebreak which is the last character of the string\n",
    "        currentPlace = line[:-1]\n",
    "\n",
    "        # add item to the list\n",
    "        cached_url_ani_world.append(currentPlace)"
   ]
  },
  {
   "cell_type": "code",
   "execution_count": 176,
   "metadata": {},
   "outputs": [
    {
     "data": {
      "text/plain": [
       "359"
      ]
     },
     "execution_count": 176,
     "metadata": {},
     "output_type": "execute_result"
    }
   ],
   "source": [
    "len(cached_url_ani_world)"
   ]
  },
  {
   "cell_type": "code",
   "execution_count": 177,
   "metadata": {},
   "outputs": [],
   "source": [
    "latest_url_ani_world = list(set(url_ani_world) - set(cached_url_ani_world))\n",
    "\n",
    "#print(len(latest_url_ani_world))\n",
    "#print(latest_url_ani_world)"
   ]
  },
  {
   "cell_type": "markdown",
   "metadata": {},
   "source": [
    "#### Cache the latest URL for future comparisons"
   ]
  },
  {
   "cell_type": "code",
   "execution_count": 178,
   "metadata": {},
   "outputs": [],
   "source": [
    "with open('./data/ani/cached_url_ani_world.txt', 'a') as filehandle:\n",
    "    for listitem in latest_url_ani_world:\n",
    "        filehandle.write('%s\\n' % listitem)"
   ]
  },
  {
   "cell_type": "markdown",
   "metadata": {},
   "source": [
    "### Entertainment"
   ]
  },
  {
   "cell_type": "code",
   "execution_count": 179,
   "metadata": {},
   "outputs": [],
   "source": [
    "import re\n",
    "import requests\n",
    "from bs4 import BeautifulSoup\n",
    "\n",
    "response_ani_entertainment = requests.get(url='https://aninews.in/category/entertainment/', headers={'User-Agent':''})\n",
    "soup_ani_entertainment = BeautifulSoup(response_ani_entertainment.content, 'html.parser')\n",
    "\n",
    "links_ani_entertainment = []\n",
    "for link in soup_ani_entertainment.findAll('a', href=True):\n",
    "    links_ani_entertainment.append(link.get('href'))\n",
    "#print(len(links_ani_entertainment))\n",
    "#print(links_ani_entertainment)"
   ]
  },
  {
   "cell_type": "markdown",
   "metadata": {},
   "source": [
    "#### Finding only the relevant URLs from the list of all links.\n",
    "Now we have to filter only the links that are related to articles and that too only entertainment realted articles. I have used RegEx for this task. All the news articles have '.cms' type in the end and they contain '/entertainment/' so I made use of those two major things to find all the valid URLs.  "
   ]
  },
  {
   "cell_type": "code",
   "execution_count": 180,
   "metadata": {},
   "outputs": [],
   "source": [
    "import re\n",
    "txt_ani_entertainment = ' '.join(links_ani_entertainment)\n",
    "url_ani_entertainment_raw = re.findall(r'https://aninews.in/news/entertainment/[a-zA-Z0-9\\/\\.\\-\\:]+[0-9]+|/news/entertainment/[a-zA-Z0-9\\/\\.\\-\\:]+[0-9]+', txt_ani_entertainment)\n",
    "#print(len(url_ani_entertainment_raw))\n",
    "#print(url_ani_entertainment_raw)"
   ]
  },
  {
   "cell_type": "markdown",
   "metadata": {},
   "source": [
    "#### Removing duplicates\n",
    "There can be duplicates present so a simple task to remove duplicates is to convert the list to set, as we know set can't contain duplicates. And then change the set back to list."
   ]
  },
  {
   "cell_type": "code",
   "execution_count": 181,
   "metadata": {},
   "outputs": [
    {
     "data": {
      "text/plain": [
       "['/news/entertainment/hollywood/jared-leto-to-reprise-joker-role-for-zack-snyders-justice-league20201022101822',\n",
       " '/news/entertainment/bollywood/ayushmann-khurrana-kick-starts-shooting-for-chandigarh-kare-aashiqui-with-vaani-kapoor20201021172104',\n",
       " '/news/entertainment/bollywood/homi-adjania-remembers-irrfan-khan-with-angrezi-medium-bts-video20201021230439',\n",
       " '/news/entertainment/bollywood/will-miss-my-friends-desperately-anupam-kher-pens-heartfelt-note-to-friends-anil-kapoor-satish-kaushik20201021153313',\n",
       " '/news/entertainment/bollywood/kareena-kapoor-khan-advices-fans-to-wear-mask-in-latest-instagram-post20201021204057',\n",
       " '/news/entertainment/out-of-box/kangana-ranaut-dazzles-in-pastel-lehenga-for-cousins-wedding20201021185920',\n",
       " '/news/entertainment/bollywood/on-shammi-kapoors-birth-anniversary-lata-mangeshkar-recalls-late-actors-singing-skills20201021195816',\n",
       " '/news/entertainment/bollywood/john-abraham-divya-khosla-kumar-kick-start-shooting-of-satyameva-jayate-220201021155313',\n",
       " '/news/entertainment/bollywood/anil-kapoor-pens-inspirational-note-on-his-fitness-journey20201021165529',\n",
       " '/news/entertainment/hollywood/ghostbusters-sequel-release-shifts-to-summer-202120201022105844',\n",
       " '/news/entertainment/hollywood/grammy-nominations-to-be-announced-on-november-2420201022114042',\n",
       " '/news/entertainment/hollywood/paris-hilton-wishes-kim-kardashian-as-she-turns-4020201022110217',\n",
       " '/news/entertainment/music/tony-lewis-lead-singer-of-the-outfield-dies-at-6220201021144001',\n",
       " '/news/entertainment/bollywood/shilpa-shetty-heaps-praise-on-tahira-kashyaps-the-12-commandments-of-being-a-woman20201021170417',\n",
       " '/news/entertainment/bollywood/sanjay-dutt-announces-cancer-recovery-on-child-shahraans-birthday20201021154456',\n",
       " '/news/entertainment/hollywood/reese-witherspoons-legally-blonde-3-pushed-back-to-may-202220201021211852',\n",
       " '/news/entertainment/bollywood/randeep-hooda-sights-leopard-on-first-outing-after-lockdown20201021183141',\n",
       " '/news/entertainment/bollywood/nawazuddin-siddiqui-thanks-fans-for-huge-success-of-serious-men20201021175848',\n",
       " '/news/entertainment/out-of-box/tory-lanez-addresses-megan-thee-stallion-shooting-allegations-on-instagram-live20201021153854',\n",
       " '/news/entertainment/music/j-balvin-set-to-headline-fortnite-halloween-concert20201021145508',\n",
       " '/news/entertainment/bollywood/dilwale-dulhania-le-jayenge-to-be-re-released-across-world20201022112151']"
      ]
     },
     "execution_count": 181,
     "metadata": {},
     "output_type": "execute_result"
    }
   ],
   "source": [
    "url_ani_entertainment_raw = set(url_ani_entertainment_raw)\n",
    "url_ani_entertainment_raw = list(url_ani_entertainment_raw)\n",
    "#print(len(url_ani_entertainment_raw))\n",
    "url_ani_entertainment_raw"
   ]
  },
  {
   "cell_type": "markdown",
   "metadata": {},
   "source": [
    "#### Filtering without header URLs and adding header\n",
    "As you can notice above that there are many URLs which doesn't start with https or even www, rather they start from the category like '/entertainment/india-entertainment/sensex-drops-over-100-points-in-opening-trade-nifty-below-11650/articleshow/78527429.cms'. Now for such links we will have to use RegEx to substitute https://timesofindia.indiatimes.com in the beginning. That is what is done in next code snippet."
   ]
  },
  {
   "cell_type": "code",
   "execution_count": 182,
   "metadata": {},
   "outputs": [],
   "source": [
    "url_ani_entertainment = []\n",
    "url_ani_entertainment = [re.sub(r'(?<![a-z/:])(/news/entertainment/[a-zA-Z0-9\\/\\.\\-\\:]+[0-9]+)', r'https://aninews.in\\1', without_header) for without_header in url_ani_entertainment_raw]\n",
    "#print(len(url_ani_entertainment))\n",
    "#print(url_ani_entertainment)"
   ]
  },
  {
   "cell_type": "markdown",
   "metadata": {},
   "source": [
    "#### Cached Previous day URL to compare against the new URL\n",
    "All the links present here can have duplicates from previous day or few days back. So, we have to make comparison with the URLs that we already have to find any redundant article. We can use our traditional filesystem to get the URLs from cached file."
   ]
  },
  {
   "cell_type": "markdown",
   "metadata": {},
   "source": [
    "#### Compare against cached URLs to find only new links for today"
   ]
  },
  {
   "cell_type": "code",
   "execution_count": 183,
   "metadata": {},
   "outputs": [],
   "source": [
    "cached_url_ani_entertainment = []\n",
    "with open('./data/ani/cached_url_ani_entertainment.txt', 'r') as filehandle:\n",
    "    for line in filehandle:\n",
    "        # remove linebreak which is the last character of the string\n",
    "        currentPlace = line[:-1]\n",
    "\n",
    "        # add item to the list\n",
    "        cached_url_ani_entertainment.append(currentPlace)"
   ]
  },
  {
   "cell_type": "code",
   "execution_count": 184,
   "metadata": {},
   "outputs": [
    {
     "data": {
      "text/plain": [
       "217"
      ]
     },
     "execution_count": 184,
     "metadata": {},
     "output_type": "execute_result"
    }
   ],
   "source": [
    "len(cached_url_ani_entertainment)"
   ]
  },
  {
   "cell_type": "code",
   "execution_count": 185,
   "metadata": {},
   "outputs": [],
   "source": [
    "latest_url_ani_entertainment = list(set(url_ani_entertainment) - set(cached_url_ani_entertainment))\n",
    "\n",
    "#print(len(latest_url_ani_entertainment))\n",
    "#print(latest_url_ani_entertainment)"
   ]
  },
  {
   "cell_type": "markdown",
   "metadata": {},
   "source": [
    "#### Cache the latest URL for future comparisons"
   ]
  },
  {
   "cell_type": "code",
   "execution_count": 186,
   "metadata": {},
   "outputs": [],
   "source": [
    "with open('./data/ani/cached_url_ani_entertainment.txt', 'a') as filehandle:\n",
    "    for listitem in latest_url_ani_entertainment:\n",
    "        filehandle.write('%s\\n' % listitem)"
   ]
  },
  {
   "cell_type": "markdown",
   "metadata": {},
   "source": [
    "### Politics"
   ]
  },
  {
   "cell_type": "code",
   "execution_count": 187,
   "metadata": {},
   "outputs": [],
   "source": [
    "import re\n",
    "import requests\n",
    "from bs4 import BeautifulSoup\n",
    "\n",
    "response_ani_politics = requests.get(url='https://aninews.in/category/national/politics/', headers={'User-Agent':''})\n",
    "soup_ani_politics = BeautifulSoup(response_ani_politics.content, 'html.parser')\n",
    "\n",
    "links_ani_politics = []\n",
    "for link in soup_ani_politics.findAll('a', href=True):\n",
    "    links_ani_politics.append(link.get('href'))\n",
    "#print(len(links_ani_politics))\n",
    "#print(links_ani_politics)"
   ]
  },
  {
   "cell_type": "markdown",
   "metadata": {},
   "source": [
    "#### Finding only the relevant URLs from the list of all links.\n",
    "Now we have to filter only the links that are related to articles and that too only politics realted articles. I have used RegEx for this task. All the news articles have '.cms' type in the end and they contain '/politics/' so I made use of those two major things to find all the valid URLs.  "
   ]
  },
  {
   "cell_type": "code",
   "execution_count": 188,
   "metadata": {},
   "outputs": [],
   "source": [
    "import re\n",
    "txt_ani_politics = ' '.join(links_ani_politics)\n",
    "url_ani_politics_raw = re.findall(r'https://aninews.in/news/national/politics/[a-zA-Z0-9\\/\\.\\-\\:]+[0-9]+|/news/national/politics/[a-zA-Z0-9\\/\\.\\-\\:]+[0-9]+', txt_ani_politics)\n",
    "#print(len(url_ani_politics_raw))\n",
    "#print(url_ani_politics_raw)"
   ]
  },
  {
   "cell_type": "markdown",
   "metadata": {},
   "source": [
    "#### Removing duplicates\n",
    "There can be duplicates present so a simple task to remove duplicates is to convert the list to set, as we know set can't contain duplicates. And then change the set back to list."
   ]
  },
  {
   "cell_type": "code",
   "execution_count": 189,
   "metadata": {},
   "outputs": [
    {
     "data": {
      "text/plain": [
       "['/news/national/politics/prashant-kishor-is-not-backing-ljp-chirag-paswan-clarifies-after-rumours20201020195455',\n",
       " '/news/national/politics/604-people-booked-in-tns-thoothukudi-after-clash-between-aiadmk-dmk-cadres20201022111314',\n",
       " '/news/national/politics/people-should-choose-a-party-or-leader-based-on-past-work-nadda20201020175134',\n",
       " '/news/national/politics/im-alone-but-will-try-to-live-upto-your-expectations-chirag-paswan-to-party-workers-during-gaya-visit20201022060721',\n",
       " '/news/national/politics/shivraj-singh-chouhan-advises-kamal-nath-to-love-madhya-pradesh-and-its-people20201021031413',\n",
       " '/news/national/politics/aishwarya-daughter-of-jdu-candidate-chandrika-rai-touches-nitish-kumars-feet20201021232943',\n",
       " '/news/national/politics/will-join-ncp-on-oct-23-have-suffered-a-lot-in-bjp-khadse20201021181701',\n",
       " '/news/national/politics/nadda-accuses-congress-of-praising-pakistan-cites-examples-of-rahul-gandhi-tharoor20201020202954',\n",
       " '/news/national/politics/resignation-of-eknath-khadse-has-been-accepted-maharashtra-bjp-president20201021165316',\n",
       " '/news/national/politics/rjd-congress-want-to-leave-the-new-coronavirus-cpi-cpi-ml-amid-people-of-bihar-cm-yogi20201021180802',\n",
       " '/news/national/politics/finance-minister-nirmala-sitharaman-to-release-bjp-manifesto-for-bihar-polls-tomorrow20201021200928',\n",
       " '/news/national/politics/rahul-gandhis-assurance-to-arrested-pfi-activists-family-highly-objectionable-v-muraleedharan20201022042421',\n",
       " '/news/national/politics/chirag-to-start-bihar-poll-campaign-with-rally-for-ljp-candidate-from-paliganj20201020175325',\n",
       " '/news/national/politics/kerala-govt-has-ordered-not-to-conduct-local-bodies-audit-lop-chennithala20201020193318',\n",
       " '/news/national/politics/bihar-congress-president-absent-from-manifesto-launch-cites-mlc-election20201021153643',\n",
       " '/news/national/politics/ljp-releases-third-list-of-candidates-for-bihar-polls20201020232216',\n",
       " '/news/national/politics/prior-to-2014-nobody-presented-their-report-card-pm-modi-changed-this-nadda20201021163709',\n",
       " '/news/national/politics/kerala-government-centre-playing-blame-game-as-covid-19-spreads-rapidly-rahul-gandhi20201020173642',\n",
       " '/news/national/politics/adhir-ranjan-slams-motor-mouth-mamata-for-unholy-alliance-with-gurungs-gorkha-janmukti-morcha20201022020828',\n",
       " '/news/national/politics/vamaraju-satyamurty-slams-punjab-govt-over-resolution-against-farms-laws20201022060650',\n",
       " '/news/national/politics/nda-will-get-two-thirds-majority-in-bihar-dharmendra-pradhan20201021234335']"
      ]
     },
     "execution_count": 189,
     "metadata": {},
     "output_type": "execute_result"
    }
   ],
   "source": [
    "url_ani_politics_raw = set(url_ani_politics_raw)\n",
    "url_ani_politics_raw = list(url_ani_politics_raw)\n",
    "#print(len(url_ani_politics_raw))\n",
    "url_ani_politics_raw"
   ]
  },
  {
   "cell_type": "markdown",
   "metadata": {},
   "source": [
    "#### Filtering without header URLs and adding header\n",
    "As you can notice above that there are many URLs which doesn't start with https or even www, rather they start from the category like '/politics/india-politics/sensex-drops-over-100-points-in-opening-trade-nifty-below-11650/articleshow/78527429.cms'. Now for such links we will have to use RegEx to substitute https://timesofindia.indiatimes.com in the beginning. That is what is done in next code snippet."
   ]
  },
  {
   "cell_type": "code",
   "execution_count": 190,
   "metadata": {},
   "outputs": [],
   "source": [
    "url_ani_politics = []\n",
    "url_ani_politics = [re.sub(r'(?<![a-z/:])(/news/national/politics/[a-zA-Z0-9\\/\\.\\-\\:]+[0-9]+)', r'https://aninews.in\\1', without_header) for without_header in url_ani_politics_raw]\n",
    "#print(len(url_ani_politics))\n",
    "#print(url_ani_politics)"
   ]
  },
  {
   "cell_type": "markdown",
   "metadata": {},
   "source": [
    "#### Cached Previous day URL to compare against the new URL\n",
    "All the links present here can have duplicates from previous day or few days back. So, we have to make comparison with the URLs that we already have to find any redundant article. We can use our traditional filesystem to get the URLs from cached file."
   ]
  },
  {
   "cell_type": "markdown",
   "metadata": {},
   "source": [
    "#### Compare against cached URLs to find only new links for today"
   ]
  },
  {
   "cell_type": "code",
   "execution_count": 191,
   "metadata": {},
   "outputs": [],
   "source": [
    "cached_url_ani_politics = []\n",
    "with open('./data/ani/cached_url_ani_politics.txt', 'r') as filehandle:\n",
    "    for line in filehandle:\n",
    "        # remove linebreak which is the last character of the string\n",
    "        currentPlace = line[:-1]\n",
    "\n",
    "        # add item to the list\n",
    "        cached_url_ani_politics.append(currentPlace)"
   ]
  },
  {
   "cell_type": "code",
   "execution_count": 192,
   "metadata": {},
   "outputs": [
    {
     "data": {
      "text/plain": [
       "204"
      ]
     },
     "execution_count": 192,
     "metadata": {},
     "output_type": "execute_result"
    }
   ],
   "source": [
    "len(cached_url_ani_politics)"
   ]
  },
  {
   "cell_type": "code",
   "execution_count": 193,
   "metadata": {},
   "outputs": [],
   "source": [
    "latest_url_ani_politics = list(set(url_ani_politics) - set(cached_url_ani_politics))\n",
    "\n",
    "#print(len(latest_url_ani_politics))\n",
    "#print(latest_url_ani_politics)"
   ]
  },
  {
   "cell_type": "markdown",
   "metadata": {},
   "source": [
    "#### Cache the latest URL for future comparisons"
   ]
  },
  {
   "cell_type": "code",
   "execution_count": 194,
   "metadata": {},
   "outputs": [],
   "source": [
    "with open('./data/ani/cached_url_ani_politics.txt', 'a') as filehandle:\n",
    "    for listitem in latest_url_ani_politics:\n",
    "        filehandle.write('%s\\n' % listitem)"
   ]
  },
  {
   "cell_type": "code",
   "execution_count": 195,
   "metadata": {},
   "outputs": [],
   "source": [
    "%reset -f"
   ]
  },
  {
   "cell_type": "markdown",
   "metadata": {},
   "source": [
    "# NDTV"
   ]
  },
  {
   "cell_type": "markdown",
   "metadata": {},
   "source": [
    "### Business"
   ]
  },
  {
   "cell_type": "code",
   "execution_count": 196,
   "metadata": {},
   "outputs": [],
   "source": [
    "import re\n",
    "import requests\n",
    "from bs4 import BeautifulSoup\n",
    "\n",
    "response_ndtv_business = requests.get(url='https://www.ndtv.com/business/', headers={'User-Agent':''})\n",
    "soup_ndtv_business = BeautifulSoup(response_ndtv_business.content, 'html.parser')\n",
    "\n",
    "links_ndtv_business = []\n",
    "for link in soup_ndtv_business.findAll('a', href=True):\n",
    "    links_ndtv_business.append(link.get('href'))\n",
    "#print(len(links_ndtv_business))\n",
    "#print(links_ndtv_business)"
   ]
  },
  {
   "cell_type": "markdown",
   "metadata": {},
   "source": [
    "#### Finding only the relevant URLs from the list of all links.\n",
    "Now we have to filter only the links that are related to articles and that too only business realted articles. I have used RegEx for this task. All the news articles have '.cms' type in the end and they contain '/business/' so I made use of those two major things to find all the valid URLs.  "
   ]
  },
  {
   "cell_type": "code",
   "execution_count": 197,
   "metadata": {},
   "outputs": [],
   "source": [
    "import re\n",
    "txt_ndtv_business = ' '.join(links_ndtv_business)\n",
    "url_ndtv_business = re.findall(r'https://www.ndtv.com/business/[a-zA-Z0-9\\/\\.\\-\\:]+[0-9]{4,10}', txt_ndtv_business)\n",
    "#print(len(url_ndtv_business))\n",
    "#print(url_ndtv_business)"
   ]
  },
  {
   "cell_type": "markdown",
   "metadata": {},
   "source": [
    "#### Removing duplicates\n",
    "There can be duplicates present so a simple task to remove duplicates is to convert the list to set, as we know set can't contain duplicates. And then change the set back to list."
   ]
  },
  {
   "cell_type": "code",
   "execution_count": 198,
   "metadata": {},
   "outputs": [
    {
     "data": {
      "text/plain": [
       "['https://www.ndtv.com/business/share-market-updates-nifty-sensex-track-broader-asia-lower-on-us-stimulus-setback-2313928',\n",
       " 'https://www.ndtv.com/business/fixed-deposit-fd-interest-rate-sbi-hdfc-bank-kotak-mahindra-bank-icici-latest-annual-returns-2304192',\n",
       " 'https://www.ndtv.com/business/sbi-fixed-deposit-fd-interest-rates-sbi-pays-4-9-return-on-1-year-fd-here-are-its-other-rates-2301442',\n",
       " 'https://www.ndtv.com/business/covid-19-news-goldman-pushes-ahead-with-1-460-india-hires-internships-2229390',\n",
       " 'https://www.ndtv.com/business/foreign-inflows-into-asian-bonds-more-than-doubles-in-september-2312432',\n",
       " 'https://www.ndtv.com/business/prabhat-dairy-news-sebi-orders-prabhat-dairy-to-deposit-rs-1-292-crore-in-escrow-account-2313446',\n",
       " 'https://www.ndtv.com/business/will-remove-constraints-governments-new-plan-to-sweeten-air-india-deal-the-loss-making-state-owned-carrier-2312762',\n",
       " 'https://www.ndtv.com/business/top-court-asks-sbi-capital-markets-to-start-funding-6-stalled-projects-of-amrapali-group-2286533',\n",
       " 'https://www.ndtv.com/business/small-savings-scheme-interest-rate-centre-leaves-small-savings-scheme-returns-at-existing-levels-2303386',\n",
       " 'https://www.ndtv.com/business/2-billion-in-biggest-india-property-deal-heres-what-it-comes-with-indian-office-market-2312964',\n",
       " 'https://www.ndtv.com/business/rtgs-payment-system-to-be-available-24x7-from-december-says-rbi-governor-shaktikanta-das-2307516',\n",
       " 'https://www.ndtv.com/business/housing-sales-in-delhi-mumbai-bengaluru-pune-3-others-fall-81-in-apr-jun-amid-covid-19-crisis-2252040',\n",
       " 'https://www.ndtv.com/business/car-sales-data-news-passenger-vehicle-sales-rose-17-per-cent-in-the-july-september-period-car-sales-up-16-per-cent-2310987',\n",
       " 'https://www.ndtv.com/business/tesla-india-launch-news-tesla-ceo-elon-musk-suggests-india-entry-in-2021-2304357',\n",
       " 'https://www.ndtv.com/business/share-market-live-updates-sensex-today-nifty-bse-nse-stock-market-latest-news-22-october-2020-2313889',\n",
       " 'https://www.ndtv.com/business/uk-economy-contracts-by-20-4-june-quarter-2278318',\n",
       " 'https://www.ndtv.com/business/petrol-diesel-price-today-petrol-diesel-prices-unchanged-on-thursday-check-latest-rates-here-2313881',\n",
       " 'https://www.ndtv.com/business/lakshmi-vilas-bank-gets-non-binding-offer-from-clix-group-2307195',\n",
       " 'https://www.ndtv.com/business/lufthansa-german-government-agree-on-9-8-billion-rescue-package-report-2234962',\n",
       " 'https://www.ndtv.com/business/pay-hikes-in-india-to-fall-to-decadal-low-in-2020-report-2182027',\n",
       " 'https://www.ndtv.com/business/hcl-technologies-financial-results-news-hcl-tech-profit-rises-over-7-to-rs-3-143-crore-in-september-quarter-2310934',\n",
       " 'https://www.ndtv.com/business/coronavirus-covid-19-impact-on-aviation-airlines-face-hard-winter-as-pickup-fails-to-materialise-2312501',\n",
       " 'https://www.ndtv.com/business/gold-price-today-comex-spot-gold-price-jumps-1-per-cent-on-us-relief-deal-bets-as-dollar-eases-2303805',\n",
       " 'https://www.ndtv.com/business/stock-market-update-s-p-bse-sensex-nse-nifty-50-likely-to-open-flat-today-october-22-2313875',\n",
       " 'https://www.ndtv.com/business/middle-easts-share-of-indias-oil-imports-falls-to-four-month-low-in-september-report-2313891',\n",
       " 'https://www.ndtv.com/business/government-approves-16-companies-including-top-apple-suppliers-for-smartphone-plan-2306235',\n",
       " 'https://www.ndtv.com/business/sponsored-content-why-you-must-calculate-your-real-value-when-buying-a-life-insurance-plan-2299479',\n",
       " 'https://www.ndtv.com/business/rbi-chief-says-centre-will-have-to-spell-out-fiscal-roadmap-post-covid-2313701',\n",
       " 'https://www.ndtv.com/business/mukesh-ambanis-jio-tests-5g-solutions-with-qualcomm-key-details-about-jio-qualcomm-partnership-2313380',\n",
       " 'https://www.ndtv.com/business/startup-accelerator-flipkart-leap-news-flipkart-launches-accelerator-programme-for-these-startups-2277077',\n",
       " 'https://www.ndtv.com/business/silver-lining-for-some-startups-amid-covid-19-pandemic-2285404',\n",
       " 'https://www.ndtv.com/business/income-tax-return-last-date-news-income-tax-dept-extends-deadline-to-file-belated-itr-to-nov-30-2303327',\n",
       " 'https://www.ndtv.com/business/india-physical-gold-demand-in-festive-season-gold-dealers-stock-up-hope-to-usher-in-festive-demand-2311219',\n",
       " 'https://www.ndtv.com/business/government-stimulus-news-government-working-on-next-stimulus-package-report-2313544']"
      ]
     },
     "execution_count": 198,
     "metadata": {},
     "output_type": "execute_result"
    }
   ],
   "source": [
    "url_ndtv_business = set(url_ndtv_business)\n",
    "url_ndtv_business = list(url_ndtv_business)\n",
    "#print(len(url_ndtv_business))\n",
    "url_ndtv_business"
   ]
  },
  {
   "cell_type": "markdown",
   "metadata": {},
   "source": [
    "#### Cached Previous day URL to compare against the new URL\n",
    "All the links present here can have duplicates from previous day or few days back. So, we have to make comparison with the URLs that we already have to find any redundant article. We can use our traditional filesystem to get the URLs from cached file."
   ]
  },
  {
   "cell_type": "markdown",
   "metadata": {},
   "source": [
    "#### Compare against cached URLs to find only new links for today"
   ]
  },
  {
   "cell_type": "code",
   "execution_count": 199,
   "metadata": {},
   "outputs": [],
   "source": [
    "cached_url_ndtv_business = []\n",
    "with open('./data/ndtv/cached_url_ndtv_business.txt', 'r') as filehandle:\n",
    "    for line in filehandle:\n",
    "        # remove linebreak which is the last character of the string\n",
    "        currentPlace = line[:-1]\n",
    "\n",
    "        # add item to the list\n",
    "        cached_url_ndtv_business.append(currentPlace)"
   ]
  },
  {
   "cell_type": "code",
   "execution_count": 200,
   "metadata": {},
   "outputs": [
    {
     "data": {
      "text/plain": [
       "143"
      ]
     },
     "execution_count": 200,
     "metadata": {},
     "output_type": "execute_result"
    }
   ],
   "source": [
    "len(cached_url_ndtv_business)"
   ]
  },
  {
   "cell_type": "code",
   "execution_count": 201,
   "metadata": {},
   "outputs": [],
   "source": [
    "latest_url_ndtv_business = list(set(url_ndtv_business) - set(cached_url_ndtv_business))\n",
    "\n",
    "#print(len(latest_url_ndtv_business))\n",
    "#print(latest_url_ndtv_business)"
   ]
  },
  {
   "cell_type": "markdown",
   "metadata": {},
   "source": [
    "#### Cache the latest URL for future comparisons"
   ]
  },
  {
   "cell_type": "code",
   "execution_count": 202,
   "metadata": {},
   "outputs": [],
   "source": [
    "with open('./data/ndtv/cached_url_ndtv_business.txt', 'a') as filehandle:\n",
    "    for listitem in latest_url_ndtv_business:\n",
    "        filehandle.write('%s\\n' % listitem)"
   ]
  },
  {
   "cell_type": "markdown",
   "metadata": {},
   "source": [
    "### World"
   ]
  },
  {
   "cell_type": "code",
   "execution_count": 203,
   "metadata": {},
   "outputs": [],
   "source": [
    "import re\n",
    "import requests\n",
    "from bs4 import BeautifulSoup\n",
    "\n",
    "response_ndtv_world = requests.get(url='https://www.ndtv.com/world-news/', headers={'User-Agent':''})\n",
    "soup_ndtv_world = BeautifulSoup(response_ndtv_world.content, 'html.parser')\n",
    "\n",
    "links_ndtv_world = []\n",
    "for link in soup_ndtv_world.findAll('a', href=True):\n",
    "    links_ndtv_world.append(link.get('href'))\n",
    "#print(len(links_ndtv_world))\n",
    "#print(links_ndtv_world)"
   ]
  },
  {
   "cell_type": "markdown",
   "metadata": {},
   "source": [
    "#### Finding only the relevant URLs from the list of all links.\n",
    "Now we have to filter only the links that are related to articles and that too only world realted articles. I have used RegEx for this task. All the news articles have '.cms' type in the end and they contain '/world/' so I made use of those two major things to find all the valid URLs.  "
   ]
  },
  {
   "cell_type": "code",
   "execution_count": 204,
   "metadata": {},
   "outputs": [],
   "source": [
    "import re\n",
    "txt_ndtv_world = ' '.join(links_ndtv_world)\n",
    "url_ndtv_world = re.findall(r'https://www.ndtv.com/world-news/[a-zA-Z0-9\\/\\.\\-\\:]+[0-9]{4,10}', txt_ndtv_world)\n",
    "#print(len(url_ndtv_world))\n",
    "#print(url_ndtv_world)"
   ]
  },
  {
   "cell_type": "markdown",
   "metadata": {},
   "source": [
    "#### Removing duplicates\n",
    "There can be duplicates present so a simple task to remove duplicates is to convert the list to set, as we know set can't contain duplicates. And then change the set back to list."
   ]
  },
  {
   "cell_type": "code",
   "execution_count": 205,
   "metadata": {},
   "outputs": [
    {
     "data": {
      "text/plain": [
       "['https://www.ndtv.com/world-news/brazilian-volunteer-in-oxford-covid-vaccine-trial-dies-say-officials-2313874',\n",
       " 'https://www.ndtv.com/world-news/france-vows-wont-give-up-cartoons-as-teens-charged-over-teachers-killing-2313855',\n",
       " 'https://www.ndtv.com/world-news/georgia-bank-hostage-gunman-releases-majority-of-hostages-at-bank-2313920',\n",
       " 'https://www.ndtv.com/world-news/astrazeneca-covid-19-vaccine-trial-volunteer-dies-says-brazil-2313790',\n",
       " 'https://www.ndtv.com/world-news/barack-obama-warns-joe-biden-supporters-not-to-be-complacent-despite-polls-2313857',\n",
       " 'https://www.ndtv.com/world-news/us-covid-patient-dies-on-flight-officials-didnt-know-she-was-positive-2313901',\n",
       " 'https://www.ndtv.com/world-news/ex-google-boss-eric-schmidt-says-social-networks-amplifiers-for-idiots-and-crazy-people-2313895',\n",
       " 'https://www.ndtv.com/world-news/coronavirus-us-body-tweaks-close-contact-definition-expands-pool-of-people-at-risk-2313892',\n",
       " 'https://www.ndtv.com/world-news/tiktok-cracks-down-on-hate-of-religions-and-races-2313871',\n",
       " 'https://www.ndtv.com/world-news/three-man-us-russian-crew-returns-to-earth-from-space-2313897',\n",
       " 'https://www.ndtv.com/world-news/astrazeneca-trial-volunteer-who-died-hadnt-received-vaccine-report-2313883',\n",
       " 'https://www.ndtv.com/world-news/barack-obamas-dig-at-donald-trump-making-stuff-up-doesnt-make-lives-better-2313877',\n",
       " 'https://www.ndtv.com/world-news/they-have-right-to-be-in-a-family-pope-francis-supports-same-sex-civil-unions-2313780',\n",
       " 'https://www.ndtv.com/world-news/kamala-harris-slams-donald-trump-says-us-deserves-president-who-respects-who-we-are-2313905']"
      ]
     },
     "execution_count": 205,
     "metadata": {},
     "output_type": "execute_result"
    }
   ],
   "source": [
    "url_ndtv_world = set(url_ndtv_world)\n",
    "url_ndtv_world = list(url_ndtv_world)\n",
    "#print(len(url_ndtv_world))\n",
    "url_ndtv_world"
   ]
  },
  {
   "cell_type": "markdown",
   "metadata": {},
   "source": [
    "#### Cached Previous day URL to compare against the new URL\n",
    "All the links present here can have duplicates from previous day or few days back. So, we have to make comparison with the URLs that we already have to find any redundant article. We can use our traditional filesystem to get the URLs from cached file."
   ]
  },
  {
   "cell_type": "markdown",
   "metadata": {},
   "source": [
    "#### Compare against cached URLs to find only new links for today"
   ]
  },
  {
   "cell_type": "code",
   "execution_count": 206,
   "metadata": {},
   "outputs": [],
   "source": [
    "cached_url_ndtv_world = []\n",
    "with open('./data/ndtv/cached_url_ndtv_world.txt', 'r') as filehandle:\n",
    "    for line in filehandle:\n",
    "        # remove linebreak which is the last character of the string\n",
    "        currentPlace = line[:-1]\n",
    "\n",
    "        # add item to the list\n",
    "        cached_url_ndtv_world.append(currentPlace)"
   ]
  },
  {
   "cell_type": "code",
   "execution_count": 207,
   "metadata": {},
   "outputs": [
    {
     "data": {
      "text/plain": [
       "235"
      ]
     },
     "execution_count": 207,
     "metadata": {},
     "output_type": "execute_result"
    }
   ],
   "source": [
    "len(cached_url_ndtv_world)"
   ]
  },
  {
   "cell_type": "code",
   "execution_count": 208,
   "metadata": {},
   "outputs": [],
   "source": [
    "latest_url_ndtv_world = list(set(url_ndtv_world) - set(cached_url_ndtv_world))\n",
    "\n",
    "#print(len(latest_url_ndtv_world))\n",
    "#print(latest_url_ndtv_world)"
   ]
  },
  {
   "cell_type": "markdown",
   "metadata": {},
   "source": [
    "#### Cache the latest URL for future comparisons"
   ]
  },
  {
   "cell_type": "code",
   "execution_count": 209,
   "metadata": {},
   "outputs": [],
   "source": [
    "with open('./data/ndtv/cached_url_ndtv_world.txt', 'a') as filehandle:\n",
    "    for listitem in latest_url_ndtv_world:\n",
    "        filehandle.write('%s\\n' % listitem)"
   ]
  },
  {
   "cell_type": "markdown",
   "metadata": {},
   "source": [
    "### India"
   ]
  },
  {
   "cell_type": "code",
   "execution_count": 210,
   "metadata": {},
   "outputs": [],
   "source": [
    "import re\n",
    "import requests\n",
    "from bs4 import BeautifulSoup\n",
    "\n",
    "response_ndtv_india = requests.get(url='https://www.ndtv.com/india/', headers={'User-Agent':''})\n",
    "soup_ndtv_india = BeautifulSoup(response_ndtv_india.content, 'html.parser')\n",
    "\n",
    "links_ndtv_india = []\n",
    "for link in soup_ndtv_india.findAll('a', href=True):\n",
    "    links_ndtv_india.append(link.get('href'))\n",
    "#print(len(links_ndtv_india))\n",
    "#print(links_ndtv_india)"
   ]
  },
  {
   "cell_type": "markdown",
   "metadata": {},
   "source": [
    "#### Finding only the relevant URLs from the list of all links.\n",
    "Now we have to filter only the links that are related to articles and that too only india realted articles. I have used RegEx for this task. All the news articles have '.cms' type in the end and they contain '/india/' so I made use of those two major things to find all the valid URLs.  "
   ]
  },
  {
   "cell_type": "code",
   "execution_count": 211,
   "metadata": {},
   "outputs": [],
   "source": [
    "import re\n",
    "txt_ndtv_india = ' '.join(links_ndtv_india)\n",
    "url_ndtv_india = re.findall(r'https://www.ndtv.com/india-news/[a-zA-Z0-9\\/\\.\\-\\:]+[0-9]{4,10}', txt_ndtv_india)\n",
    "#print(len(url_ndtv_india))\n",
    "#print(url_ndtv_india)"
   ]
  },
  {
   "cell_type": "markdown",
   "metadata": {},
   "source": [
    "#### Removing duplicates\n",
    "There can be duplicates present so a simple task to remove duplicates is to convert the list to set, as we know set can't contain duplicates. And then change the set back to list."
   ]
  },
  {
   "cell_type": "code",
   "execution_count": 212,
   "metadata": {},
   "outputs": [
    {
     "data": {
      "text/plain": [
       "['https://www.ndtv.com/india-news/final-trial-of-drdo-developed-nag-missile-successful-ready-for-induction-into-army-2313971',\n",
       " 'https://www.ndtv.com/india-news/as-amit-shah-turns-56-pm-narendra-modi-wishes-him-long-life-in-service-of-india-on-birthday-2313908',\n",
       " 'https://www.ndtv.com/india-news/hindu-rao-doctors-urge-pm-modi-to-resolve-salary-crisis-2313860',\n",
       " 'https://www.ndtv.com/india-news/pm-modi-to-join-durga-puja-event-in-bengal-today-in-bjps-big-push-for-polls-2313879',\n",
       " 'https://www.ndtv.com/india-news/coronavirus-live-updates-brazil-volunteer-dies-in-astrazeneca-covid-19-vaccine-clinical-trial-2313863',\n",
       " 'https://www.ndtv.com/india-news/bihar-assembly-election-2020-live-updates-nirmala-sitharaman-unveils-bjp-sankalp-patra-poll-manifesto-nitish-kumar-vs-tejaswi-yadav-bjp-jdu-vs-rjd-2313949',\n",
       " 'https://www.ndtv.com/india-news/bihar-assembly-polls-2020-chirag-paswans-jail-for-scams-threat-in-fresh-attack-on-nitish-kumar-2313919',\n",
       " 'https://www.ndtv.com/india-news/maharashtra-withdraws-blanket-consent-to-cbi-to-probe-cases-in-the-state-2313870',\n",
       " 'https://www.ndtv.com/india-news/nda-will-get-two-thirds-majority-in-bihar-dharmendra-pradhan-2313859',\n",
       " 'https://www.ndtv.com/india-news/amit-shahs-birthday-pm-modi-ministers-kangana-ranaut-others-wish-amit-shah-2313940',\n",
       " 'https://www.ndtv.com/india-news/is-mamata-banerjee-ceding-gorkhaland-congress-bjp-ask-on-bimal-gurungs-return-2313936',\n",
       " 'https://www.ndtv.com/india-news/amit-shah-birthday-chirag-paswans-birthday-wish-for-guardian-amit-shah-amid-campaign-heat-2313953',\n",
       " 'https://www.ndtv.com/india-news/55-839-fresh-coronavirus-cases-in-india-total-cases-at-77-06-lakh-702-deaths-in-24-hours-1-16-616-total-deaths-2313911',\n",
       " 'https://www.ndtv.com/india-news/bihar-election-bjp-promises-19-lakh-jobs-free-covid-vaccination-for-all-in-manifesto-2313961']"
      ]
     },
     "execution_count": 212,
     "metadata": {},
     "output_type": "execute_result"
    }
   ],
   "source": [
    "url_ndtv_india = set(url_ndtv_india)\n",
    "url_ndtv_india = list(url_ndtv_india)\n",
    "#print(len(url_ndtv_india))\n",
    "url_ndtv_india"
   ]
  },
  {
   "cell_type": "markdown",
   "metadata": {},
   "source": [
    "#### Cached Previous day URL to compare against the new URL\n",
    "All the links present here can have duplicates from previous day or few days back. So, we have to make comparison with the URLs that we already have to find any redundant article. We can use our traditional filesystem to get the URLs from cached file."
   ]
  },
  {
   "cell_type": "markdown",
   "metadata": {},
   "source": [
    "#### Compare against cached URLs to find only new links for today"
   ]
  },
  {
   "cell_type": "code",
   "execution_count": 213,
   "metadata": {},
   "outputs": [],
   "source": [
    "cached_url_ndtv_india = []\n",
    "with open('./data/ndtv/cached_url_ndtv_india.txt', 'r') as filehandle:\n",
    "    for line in filehandle:\n",
    "        # remove linebreak which is the last character of the string\n",
    "        currentPlace = line[:-1]\n",
    "\n",
    "        # add item to the list\n",
    "        cached_url_ndtv_india.append(currentPlace)"
   ]
  },
  {
   "cell_type": "code",
   "execution_count": 214,
   "metadata": {},
   "outputs": [
    {
     "data": {
      "text/plain": [
       "287"
      ]
     },
     "execution_count": 214,
     "metadata": {},
     "output_type": "execute_result"
    }
   ],
   "source": [
    "len(cached_url_ndtv_india)"
   ]
  },
  {
   "cell_type": "code",
   "execution_count": 215,
   "metadata": {},
   "outputs": [],
   "source": [
    "latest_url_ndtv_india = list(set(url_ndtv_india) - set(cached_url_ndtv_india))\n",
    "\n",
    "#print(len(latest_url_ndtv_india))\n",
    "#print(latest_url_ndtv_india)"
   ]
  },
  {
   "cell_type": "markdown",
   "metadata": {},
   "source": [
    "#### Cache the latest URL for future comparisons"
   ]
  },
  {
   "cell_type": "code",
   "execution_count": 216,
   "metadata": {},
   "outputs": [],
   "source": [
    "with open('./data/ndtv/cached_url_ndtv_india.txt', 'a') as filehandle:\n",
    "    for listitem in latest_url_ndtv_india:\n",
    "        filehandle.write('%s\\n' % listitem)"
   ]
  },
  {
   "cell_type": "code",
   "execution_count": 217,
   "metadata": {},
   "outputs": [],
   "source": [
    "%reset -f"
   ]
  }
 ],
 "metadata": {
  "kernelspec": {
   "display_name": "Python 3",
   "language": "python",
   "name": "python3"
  },
  "language_info": {
   "codemirror_mode": {
    "name": "ipython",
    "version": 3
   },
   "file_extension": ".py",
   "mimetype": "text/x-python",
   "name": "python",
   "nbconvert_exporter": "python",
   "pygments_lexer": "ipython3",
   "version": "3.8.3"
  }
 },
 "nbformat": 4,
 "nbformat_minor": 4
}
