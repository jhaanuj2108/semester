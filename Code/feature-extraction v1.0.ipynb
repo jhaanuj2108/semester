{
 "cells": [
  {
   "cell_type": "code",
   "execution_count": 1,
   "metadata": {
    "_cell_guid": "b1076dfc-b9ad-4769-8c92-a6c4dae69d19",
    "_uuid": "8f2839f25d086af736a60e9eeb907d3b93b6e0e5"
   },
   "outputs": [
    {
     "name": "stdout",
     "output_type": "stream",
     "text": [
      "/kaggle/input/news-data/data/ani/cached_url_ani_sports.txt\n",
      "/kaggle/input/news-data/data/ani/cached_url_ani_politics.txt\n",
      "/kaggle/input/news-data/data/ani/cached_url_ani_entertainment.txt\n",
      "/kaggle/input/news-data/data/ani/cached_url_ani_world.txt\n",
      "/kaggle/input/news-data/data/ani/cached_url_ani_business.txt\n",
      "/kaggle/input/news-data/data/hindustan_times/cached_url_ht_sports.txt\n",
      "/kaggle/input/news-data/data/hindustan_times/cached_url_ht_india.txt\n",
      "/kaggle/input/news-data/data/hindustan_times/cached_url_ht_world.txt\n",
      "/kaggle/input/news-data/data/hindustan_times/cached_url_ht_business.txt\n",
      "/kaggle/input/news-data/data/hindustan_times/cached_url_ht_entertainment.txt\n",
      "/kaggle/input/news-data/data/ndtv/cached_url_ndtv_world.txt\n",
      "/kaggle/input/news-data/data/ndtv/cached_url_ndtv_india.txt\n",
      "/kaggle/input/news-data/data/ndtv/cached_url_ndtv_business.txt\n",
      "/kaggle/input/news-data/data/times_now/cached_url_tn_world.txt\n",
      "/kaggle/input/news-data/data/times_now/cached_url_tn_business.txt\n",
      "/kaggle/input/news-data/data/times_now/cached_url_tn_india.txt\n",
      "/kaggle/input/news-data/data/times_now/cached_url_tn_entertainment.txt\n",
      "/kaggle/input/news-data/data/times_now/cached_url_tn_sports.txt\n",
      "/kaggle/input/news-data/data/indian_express/cached_url_ie_business.txt\n",
      "/kaggle/input/news-data/data/indian_express/cached_url_ie_india.txt\n",
      "/kaggle/input/news-data/data/indian_express/cached_url_ie_sports.txt\n",
      "/kaggle/input/news-data/data/indian_express/cached_url_ie_entertainment.txt\n",
      "/kaggle/input/news-data/data/indian_express/cached_url_ie_world.txt\n",
      "/kaggle/input/news-data/data/times_of_india/cached_url_toi_politics.txt\n",
      "/kaggle/input/news-data/data/times_of_india/cached_url_toi_entertainment.txt\n",
      "/kaggle/input/news-data/data/times_of_india/cached_url_toi_sports.txt\n",
      "/kaggle/input/news-data/data/times_of_india/cached_url_toi_business.txt\n",
      "/kaggle/input/news-data/data/times_of_india/cached_url_toi_world.txt\n",
      "/kaggle/input/news-data/excel_data/newsdata.csv\n",
      "/kaggle/input/news-data/excel_data/summarydata.csv\n"
     ]
    }
   ],
   "source": [
    "# This Python 3 environment comes with many helpful analytics libraries installed\n",
    "# It is defined by the kaggle/python Docker image: https://github.com/kaggle/docker-python\n",
    "# For example, here's several helpful packages to load\n",
    "\n",
    "import numpy as np # linear algebra\n",
    "import pandas as pd # data processing, CSV file I/O (e.g. pd.read_csv)\n",
    "\n",
    "# Input data files are available in the read-only \"../input/\" directory\n",
    "# For example, running this (by clicking run or pressing Shift+Enter) will list all files under the input directory\n",
    "\n",
    "import os\n",
    "for dirname, _, filenames in os.walk('/kaggle/input'):\n",
    "    for filename in filenames:\n",
    "        print(os.path.join(dirname, filename))\n",
    "\n",
    "# You can write up to 5GB to the current directory (/kaggle/working/) that gets preserved as output when you create a version using \"Save & Run All\" \n",
    "# You can also write temporary files to /kaggle/temp/, but they won't be saved outside of the current session"
   ]
  },
  {
   "cell_type": "code",
   "execution_count": 3,
   "metadata": {},
   "outputs": [
    {
     "name": "stdout",
     "output_type": "stream",
     "text": [
      "Requirement already satisfied: nltk in /opt/conda/lib/python3.7/site-packages (3.2.4)\n",
      "Requirement already satisfied: six in /opt/conda/lib/python3.7/site-packages (from nltk) (1.14.0)\n",
      "Collecting newspaper3k\n",
      "  Downloading newspaper3k-0.2.8-py3-none-any.whl (211 kB)\n",
      "\u001b[K     |████████████████████████████████| 211 kB 404 kB/s eta 0:00:01\n",
      "\u001b[?25hCollecting jieba3k>=0.35.1\n",
      "  Downloading jieba3k-0.35.1.zip (7.4 MB)\n",
      "\u001b[K     |████████████████████████████████| 7.4 MB 5.8 MB/s eta 0:00:01\n",
      "\u001b[?25hRequirement already satisfied: nltk>=3.2.1 in /opt/conda/lib/python3.7/site-packages (from newspaper3k) (3.2.4)\n",
      "Requirement already satisfied: Pillow>=3.3.0 in /opt/conda/lib/python3.7/site-packages (from newspaper3k) (8.0.0)\n",
      "Requirement already satisfied: beautifulsoup4>=4.4.1 in /opt/conda/lib/python3.7/site-packages (from newspaper3k) (4.9.0)\n",
      "Collecting tldextract>=2.0.1\n",
      "  Downloading tldextract-3.0.1-py2.py3-none-any.whl (86 kB)\n",
      "\u001b[K     |████████████████████████████████| 86 kB 3.0 MB/s  eta 0:00:01\n",
      "\u001b[?25hCollecting tinysegmenter==0.3\n",
      "  Downloading tinysegmenter-0.3.tar.gz (16 kB)\n",
      "Collecting cssselect>=0.9.2\n",
      "  Downloading cssselect-1.1.0-py2.py3-none-any.whl (16 kB)\n",
      "Collecting feedfinder2>=0.0.4\n",
      "  Downloading feedfinder2-0.0.4.tar.gz (3.3 kB)\n",
      "Collecting feedparser>=5.2.1\n",
      "  Downloading feedparser-6.0.1-py2.py3-none-any.whl (80 kB)\n",
      "\u001b[K     |████████████████████████████████| 80 kB 4.4 MB/s  eta 0:00:01\n",
      "\u001b[?25hRequirement already satisfied: python-dateutil>=2.5.3 in /opt/conda/lib/python3.7/site-packages (from newspaper3k) (2.8.1)\n",
      "Requirement already satisfied: lxml>=3.6.0 in /opt/conda/lib/python3.7/site-packages (from newspaper3k) (4.5.0)\n",
      "Requirement already satisfied: requests>=2.10.0 in /opt/conda/lib/python3.7/site-packages (from newspaper3k) (2.23.0)\n",
      "Requirement already satisfied: PyYAML>=3.11 in /opt/conda/lib/python3.7/site-packages (from newspaper3k) (5.3.1)\n",
      "Requirement already satisfied: six in /opt/conda/lib/python3.7/site-packages (from nltk>=3.2.1->newspaper3k) (1.14.0)\n",
      "Requirement already satisfied: soupsieve>1.2 in /opt/conda/lib/python3.7/site-packages (from beautifulsoup4>=4.4.1->newspaper3k) (1.9.4)\n",
      "Requirement already satisfied: filelock>=3.0.8 in /opt/conda/lib/python3.7/site-packages (from tldextract>=2.0.1->newspaper3k) (3.0.10)\n",
      "Requirement already satisfied: idna in /opt/conda/lib/python3.7/site-packages (from tldextract>=2.0.1->newspaper3k) (2.9)\n",
      "Collecting requests-file>=1.4\n",
      "  Downloading requests_file-1.5.1-py2.py3-none-any.whl (3.7 kB)\n",
      "Collecting sgmllib3k\n",
      "  Downloading sgmllib3k-1.0.0.tar.gz (5.8 kB)\n",
      "Requirement already satisfied: chardet<4,>=3.0.2 in /opt/conda/lib/python3.7/site-packages (from requests>=2.10.0->newspaper3k) (3.0.4)\n",
      "Requirement already satisfied: certifi>=2017.4.17 in /opt/conda/lib/python3.7/site-packages (from requests>=2.10.0->newspaper3k) (2020.6.20)\n",
      "Requirement already satisfied: urllib3!=1.25.0,!=1.25.1,<1.26,>=1.21.1 in /opt/conda/lib/python3.7/site-packages (from requests>=2.10.0->newspaper3k) (1.24.3)\n",
      "Building wheels for collected packages: jieba3k, tinysegmenter, feedfinder2, sgmllib3k\n",
      "  Building wheel for jieba3k (setup.py) ... \u001b[?25ldone\n",
      "\u001b[?25h  Created wheel for jieba3k: filename=jieba3k-0.35.1-py3-none-any.whl size=7398406 sha256=e0395e079c28661f779f44ec7934a83a1a77ece429fcb48d263d64f32b9392fd\n",
      "  Stored in directory: /root/.cache/pip/wheels/4c/91/46/3c208287b726df325a5979574324878b679116e4baae1af3c3\n",
      "  Building wheel for tinysegmenter (setup.py) ... \u001b[?25ldone\n",
      "\u001b[?25h  Created wheel for tinysegmenter: filename=tinysegmenter-0.3-py3-none-any.whl size=13538 sha256=bd4a3a1a8cb3ded92c8fad99b11e4af68a751c18f842d23332df107e836e102f\n",
      "  Stored in directory: /root/.cache/pip/wheels/df/67/41/faca10fa501ca010be41b49d40360c2959e1c4f09bcbfa37fa\n",
      "  Building wheel for feedfinder2 (setup.py) ... \u001b[?25ldone\n",
      "\u001b[?25h  Created wheel for feedfinder2: filename=feedfinder2-0.0.4-py3-none-any.whl size=3355 sha256=70239268148e6f7023ae170931e90da64fbb23a43e8f6f2027983abeda31fb93\n",
      "  Stored in directory: /root/.cache/pip/wheels/7f/d4/8f/6e2ca54744c9d7292d88ddb8d42876bcdab5e6d84a21c10346\n",
      "  Building wheel for sgmllib3k (setup.py) ... \u001b[?25ldone\n",
      "\u001b[?25h  Created wheel for sgmllib3k: filename=sgmllib3k-1.0.0-py3-none-any.whl size=6064 sha256=9003e7c3451a425b6ca2ab062ade8d535a71c8aa38025bfb660d70fc2e812a03\n",
      "  Stored in directory: /root/.cache/pip/wheels/73/ad/a4/0dff4a6ef231fc0dfa12ffbac2a36cebfdddfe059f50e019aa\n",
      "Successfully built jieba3k tinysegmenter feedfinder2 sgmllib3k\n",
      "Installing collected packages: jieba3k, requests-file, tldextract, tinysegmenter, cssselect, feedfinder2, sgmllib3k, feedparser, newspaper3k\n",
      "Successfully installed cssselect-1.1.0 feedfinder2-0.0.4 feedparser-6.0.1 jieba3k-0.35.1 newspaper3k-0.2.8 requests-file-1.5.1 sgmllib3k-1.0.0 tinysegmenter-0.3 tldextract-3.0.1\n",
      "\u001b[31mERROR: Could not find a version that satisfies the requirement PIL (from versions: none)\u001b[0m\n",
      "\u001b[31mERROR: No matching distribution found for PIL\u001b[0m\n",
      "Requirement already satisfied: matplotlib in /opt/conda/lib/python3.7/site-packages (3.2.1)\n",
      "Requirement already satisfied: numpy>=1.11 in /opt/conda/lib/python3.7/site-packages (from matplotlib) (1.18.5)\n",
      "Requirement already satisfied: kiwisolver>=1.0.1 in /opt/conda/lib/python3.7/site-packages (from matplotlib) (1.2.0)\n",
      "Requirement already satisfied: python-dateutil>=2.1 in /opt/conda/lib/python3.7/site-packages (from matplotlib) (2.8.1)\n",
      "Requirement already satisfied: cycler>=0.10 in /opt/conda/lib/python3.7/site-packages (from matplotlib) (0.10.0)\n",
      "Requirement already satisfied: pyparsing!=2.0.4,!=2.1.2,!=2.1.6,>=2.0.1 in /opt/conda/lib/python3.7/site-packages (from matplotlib) (2.4.7)\n",
      "Requirement already satisfied: six>=1.5 in /opt/conda/lib/python3.7/site-packages (from python-dateutil>=2.1->matplotlib) (1.14.0)\n"
     ]
    }
   ],
   "source": [
    "!pip install nltk\n",
    "!pip install newspaper3k\n",
    "!pip install PIL\n",
    "!pip install matplotlib"
   ]
  },
  {
   "cell_type": "code",
   "execution_count": 4,
   "metadata": {},
   "outputs": [],
   "source": [
    "# !pip install bert-extractive-summarizer\n",
    "# !pip install transformers==2.2.0\n",
    "# !pip install spacy==2.0.12"
   ]
  },
  {
   "cell_type": "code",
   "execution_count": 6,
   "metadata": {},
   "outputs": [],
   "source": [
    "import nltk\n",
    "from newspaper import Config, Article, Source\n",
    "#nltk.download('punkt')\n",
    "import re\n",
    "newsid = 1\n",
    "# from summarizer import Summarizer,TransformerSummarizer"
   ]
  },
  {
   "cell_type": "code",
   "execution_count": 7,
   "metadata": {},
   "outputs": [],
   "source": [
    "import csv\n",
    "with open('./newsdata.csv', 'w', newline='') as file:\n",
    "    writer = csv.writer(file)\n",
    "    writer.writerow([\"News_ID\", \"Website\", \"Category\", \"Headline\", \"URL\",\"Top_Image\",\"Date\", \"author\"])\n",
    "    \n",
    "# with open('./summarydata.csv', 'w', newline='') as file:\n",
    "#     writer = csv.writer(file)\n",
    "#     writer.writerow([\"News_ID\", \"Newspaper3k\", \"BERT\", \"GPT-2\", \"XLNET\"])\n",
    "    "
   ]
  },
  {
   "cell_type": "code",
   "execution_count": 8,
   "metadata": {},
   "outputs": [
    {
     "data": {
      "text/plain": [
       "[]"
      ]
     },
     "execution_count": 8,
     "metadata": {},
     "output_type": "execute_result"
    }
   ],
   "source": [
    "directory = '/kaggle/input/news-data/data'\n",
    "import os\n",
    "folders = []\n",
    "names = []\n",
    "files = []\n",
    "for x in os.walk(directory):\n",
    "    folders.append(x[0])\n",
    "    names.append(x[1])\n",
    "    files.append(x[2])\n",
    "folders.pop(0)\n",
    "names = names[0]\n",
    "files.pop(0)"
   ]
  },
  {
   "cell_type": "code",
   "execution_count": 9,
   "metadata": {},
   "outputs": [],
   "source": [
    "def get_url(location):\n",
    "    urls = []\n",
    "    with open(location, 'r') as filehandle:\n",
    "            for line in filehandle:\n",
    "                # remove linebreak which is the last character of the string\n",
    "                currentPlace = line[:-1]\n",
    "\n",
    "                # add item to the list\n",
    "                urls.append(currentPlace)\n",
    "    return urls"
   ]
  },
  {
   "cell_type": "code",
   "execution_count": 10,
   "metadata": {},
   "outputs": [],
   "source": [
    "def summary(body):\n",
    "    bert_model = Summarizer()\n",
    "    bert_summary = ''.join(bert_model(body, num_sentences=3))\n",
    "    #print(bert_summary)\n",
    "    \n",
    "    GPT2_model = TransformerSummarizer(transformer_type=\"GPT2\",transformer_model_key=\"gpt2-medium\")\n",
    "    gpt2_summary = ''.join(GPT2_model(body, num_sentences=2))\n",
    "    #print(gpt2_summary)\n",
    "\n",
    "    xlnet_model = TransformerSummarizer(transformer_type=\"XLNet\",transformer_model_key=\"xlnet-base-cased\")\n",
    "    xlnet_summary = ''.join(model(body,  num_sentences=2))\n",
    "    #print(xlnet_summary)\n",
    "    \n",
    "    yield bert_summary, gpt2_summary, xlnet_summary"
   ]
  },
  {
   "cell_type": "code",
   "execution_count": 11,
   "metadata": {},
   "outputs": [],
   "source": [
    "def data_loading(name, category, urls):\n",
    "    global newsid\n",
    "    config = Config()\n",
    "    config.MAX_SUMMARY_SENT = 3\n",
    "    for url in urls:\n",
    "        #Get the article\n",
    "        article = Article(url, config = config)\n",
    "        article.download() #Downloads the link’s HTML content\n",
    "        try:\n",
    "            article.parse() #Parse the article\n",
    "            article.nlp()#  Keyword extraction wrapper\n",
    "            author = article.authors\n",
    "            date = article.publish_date\n",
    "            image_url = article.top_image\n",
    "            headline = article.title\n",
    "            body = article.text\n",
    "            newspaper3k_summary = article.summary\n",
    "            #insert these features inside a spreadsheet\n",
    "            with open('./newsdata.csv', 'a', newline='') as file:\n",
    "                writer = csv.writer(file)\n",
    "                writer.writerow([newsid, name, category, headline, url, image_url, date, author])\n",
    "\n",
    "            #call summarizer function which will create a new spreadsheet with 4 summaries from newspaper3k, BERT, GPT-2, XLNET\n",
    "            #summarizer(url,newsid)\n",
    "#             bert_summary, gpt2_summary, xlnet_summary = summary(body)\n",
    "#             with open('./summarydata.csv', 'a', newline='') as file:\n",
    "#                 writer = csv.writer(file)\n",
    "#                 writer.writerow([newsid, newspaper3k_summary, bert_summary, gpt2_summary, xlnet_summary])\n",
    "            \n",
    "\n",
    "            newsid += 1\n",
    "        except :\n",
    "            pass"
   ]
  },
  {
   "cell_type": "code",
   "execution_count": 12,
   "metadata": {},
   "outputs": [],
   "source": [
    "def data_gen(x, folder):\n",
    "    global file\n",
    "    for file in files[x]:\n",
    "        path = folder+'/'+file\n",
    "        category = re.findall('sports|business|politics|entertainment|india|world', file)\n",
    "        urls = get_url(path)\n",
    "        yield category, urls"
   ]
  },
  {
   "cell_type": "code",
   "execution_count": 13,
   "metadata": {},
   "outputs": [],
   "source": [
    "def get_url_gen(location):\n",
    "    with open(location, 'r') as filehandle:\n",
    "            for line in filehandle:\n",
    "                # remove linebreak which is the last character of the string\n",
    "                currentPlace = line[:-1]\n",
    "                yield currentPlace\n",
    "    "
   ]
  },
  {
   "cell_type": "code",
   "execution_count": 14,
   "metadata": {},
   "outputs": [],
   "source": [
    "for x in range(len(names)):\n",
    "    name = names[x]\n",
    "    name = name.replace('_', ' ')\n",
    "    folder = folders[x]\n",
    "    for file in files[x]:\n",
    "        path = folder+'/'+file\n",
    "        category = re.findall('sports|business|politics|entertainment|india|world', file)\n",
    "        url = get_url_gen(path)\n",
    "        data_loading(name, category, url)\n",
    "        "
   ]
  },
  {
   "cell_type": "code",
   "execution_count": null,
   "metadata": {},
   "outputs": [],
   "source": []
  }
 ],
 "metadata": {
  "kernelspec": {
   "display_name": "Python 3",
   "language": "python",
   "name": "python3"
  },
  "language_info": {
   "codemirror_mode": {
    "name": "ipython",
    "version": 3
   },
   "file_extension": ".py",
   "mimetype": "text/x-python",
   "name": "python",
   "nbconvert_exporter": "python",
   "pygments_lexer": "ipython3",
   "version": "3.8.3"
  }
 },
 "nbformat": 4,
 "nbformat_minor": 4
}
